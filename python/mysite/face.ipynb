{
 "cells": [
  {
   "cell_type": "code",
   "execution_count": null,
   "metadata": {},
   "outputs": [],
   "source": [
    "import face_recognition\n",
    "import pickle\n",
    "import cv2\n",
    "\n",
    "image = cv2.imread(filename)\n",
    "\n",
    "imagePaths = list(paths.list_images(\"known\"))\n",
    " \n",
    "knownEncodings = []\n",
    "knownNames = []\n",
    "\n",
    "for (i, imagePath) in enumerate(imagePaths):    \n",
    "    name = imagePath.split(os.path.sep)[-2]\n",
    "    image = cv2.imread(imagePath)\n",
    "    boxes = face_recognition.face_locations(image)\n",
    "    encodings = face_recognition.face_encodings(image, boxes) \n",
    "\n",
    "    for encoding in encodings:        \n",
    "        knownEncodings.append(encoding)\n",
    "        knownNames.append(name)\n",
    "        \n",
    "\n",
    "data = {\"encodings\": knownEncodings, \"names\": knownNames}\n",
    "f = open(\"known.bin\", \"wb\")\n",
    "f.write(pickle.dumps(data))\n",
    "f.close()        \n",
    "\n",
    "data = pickle.loads(open(\"known.bin\", \"rb\").read())\n",
    " \n",
    "\n",
    "\n",
    "boxes = face_recognition.face_locations(image)\n",
    "encodings = face_recognition.face_encodings(image, boxes)\n",
    " \n",
    "names = []\n",
    "for encoding in encodings:\n",
    "    matches = face_recognition.compare_faces(data[\"encodings\"], encoding)\n",
    "    name = \"Unknown\"\n",
    "    if True in matches:\n",
    "        matchedIdxs = [i for (i, b) in enumerate(matches) if b]\n",
    "        counts = {} \n",
    "        for i in matchedIdxs:\n",
    "            name = data[\"names\"][i]\n",
    "            counts[name] = counts.get(name, 0) + 1 \n",
    "        name = max(counts, key=counts.get)\n",
    "    names.append(name)                             \n",
    "for ((top, right, bottom, left), name) in zip(boxes, names):\n",
    "    cv2.rectangle(image, (left, top), (right, bottom), (0, 255, 0), 2)\n",
    "    y = top - 15 if top - 15 > 15 else top + 15\n",
    "    cv2.putText(image, name, (left, y), cv2.FONT_HERSHEY_SIMPLEX,  0.75, (0, 255, 0), 2)\n",
    " \n",
    "    imshow(\"Image\", image)"
   ]
  }
 ],
 "metadata": {
  "kernelspec": {
   "display_name": "Python 3",
   "language": "python",
   "name": "python3"
  },
  "language_info": {
   "codemirror_mode": {
    "name": "ipython",
    "version": 3
   },
   "file_extension": ".py",
   "mimetype": "text/x-python",
   "name": "python",
   "nbconvert_exporter": "python",
   "pygments_lexer": "ipython3",
   "version": "3.6.10"
  },
  "toc": {
   "base_numbering": 1,
   "nav_menu": {},
   "number_sections": true,
   "sideBar": true,
   "skip_h1_title": false,
   "title_cell": "Table of Contents",
   "title_sidebar": "Contents",
   "toc_cell": false,
   "toc_position": {},
   "toc_section_display": true,
   "toc_window_display": false
  },
  "varInspector": {
   "cols": {
    "lenName": 16,
    "lenType": 16,
    "lenVar": 40
   },
   "kernels_config": {
    "python": {
     "delete_cmd_postfix": "",
     "delete_cmd_prefix": "del ",
     "library": "var_list.py",
     "varRefreshCmd": "print(var_dic_list())"
    },
    "r": {
     "delete_cmd_postfix": ") ",
     "delete_cmd_prefix": "rm(",
     "library": "var_list.r",
     "varRefreshCmd": "cat(var_dic_list()) "
    }
   },
   "types_to_exclude": [
    "module",
    "function",
    "builtin_function_or_method",
    "instance",
    "_Feature"
   ],
   "window_display": false
  }
 },
 "nbformat": 4,
 "nbformat_minor": 4
}
