{
 "cells": [
  {
   "cell_type": "code",
   "execution_count": 1,
   "metadata": {},
   "outputs": [],
   "source": [
    "N, M, V = map(int, input().split())\n",
    "matrix = [list(map(int,input().split())) for row in range(N + 1)]\n",
    "\n",
    "\n",
    "def dfs(current_node):\n",
    "    foot_print=[]\n",
    "    foot_prints += [current_node]\n",
    "    for search_node in range(len(matrix[current_node])):\n",
    "        if matrix[current_node][search_node] and search_node not in foot_prints:\n",
    "            foot_prints = dfs(search_node)\n",
    "    return foot_prints\n",
    "\n",
    "\n",
    "def bfs(start_node):\n",
    "    queue = [start_node]\n",
    "    foot_prints = [start_node]\n",
    "    while queue:\n",
    "        current_node = queue.pop(0)\n",
    "        for search_node in range(len(matrix[current_node])):\n",
    "            if matrix[current_node][search_node] and search_node not in foot_prints:\n",
    "                foot_prints += [search_node]\n",
    "                queue += [search_node]\n",
    "    return foot_prints\n",
    "\n",
    "\n",
    "print(*dfs(V))\n",
    "print(*bfs(V))\n"
   ]
  }
 ],
 "metadata": {
  "kernelspec": {
   "display_name": "Python 3",
   "language": "python",
   "name": "python3"
  },
  "language_info": {
   "codemirror_mode": {
    "name": "ipython",
    "version": 3
   },
   "file_extension": ".py",
   "mimetype": "text/x-python",
   "name": "python",
   "nbconvert_exporter": "python",
   "pygments_lexer": "ipython3",
   "version": "3.7.4"
  },
  "varInspector": {
   "cols": {
    "lenName": 16,
    "lenType": 16,
    "lenVar": 40
   },
   "kernels_config": {
    "python": {
     "delete_cmd_postfix": "",
     "delete_cmd_prefix": "del ",
     "library": "var_list.py",
     "varRefreshCmd": "print(var_dic_list())"
    },
    "r": {
     "delete_cmd_postfix": ") ",
     "delete_cmd_prefix": "rm(",
     "library": "var_list.r",
     "varRefreshCmd": "cat(var_dic_list()) "
    }
   },
   "types_to_exclude": [
    "module",
    "function",
    "builtin_function_or_method",
    "instance",
    "_Feature"
   ],
   "window_display": false
  }
 },
 "nbformat": 4,
 "nbformat_minor": 2
}