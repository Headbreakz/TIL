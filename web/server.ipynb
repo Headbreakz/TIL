{
 "cells": [
  {
   "cell_type": "code",
   "execution_count": 2,
   "metadata": {
    "ExecuteTime": {
     "end_time": "2020-02-11T01:20:56.247316Z",
     "start_time": "2020-02-11T01:20:54.345133Z"
    },
    "scrolled": true
   },
   "outputs": [
    {
     "name": "stdout",
     "output_type": "stream",
     "text": [
      "listening\n",
      "accepting\n",
      "receive:hello\n",
      "send data\n",
      "종료\n"
     ]
    }
   ],
   "source": [
    "import socket\n",
    "\n",
    "#AF_INET = 주소체계 ,SOCK_STREAM = TCP 설정\n",
    "server_socket = socket.socket(socket.AF_INET, socket.SOCK_STREAM)\n",
    "\n",
    "server_socket.bind(('localhost', 12345))\n",
    "server_socket.listen(0)\n",
    "print(\"listening\")\n",
    "#대기상태 후 clinet가 반응 있으면 실행\n",
    "client_socket, addr = server_socket.accept()\n",
    "print(\"accepting\")\n",
    "data = client_socket.recv(65535)\n",
    "\n",
    "#받은 데이터를 출력\n",
    "print(\"receive:\"+data.decode())\n",
    "\n",
    "client_socket.send(data)\n",
    "print(\"send data\")\n",
    "client_socket.close()\n",
    "print(\"종료\")"
   ]
  },
  {
   "cell_type": "code",
   "execution_count": 11,
   "metadata": {
    "ExecuteTime": {
     "end_time": "2020-02-11T01:47:57.346343Z",
     "start_time": "2020-02-11T01:47:50.783767Z"
    },
    "scrolled": true
   },
   "outputs": [
    {
     "name": "stdout",
     "output_type": "stream",
     "text": [
      "listening\n",
      "accepting\n",
      "receive:GET / HTTP/1.1\n",
      "Host: 127.0.0.1\n",
      "Connection: keep-alive\n",
      "Upgrade-Insecure-Requests: 1\n",
      "User-Agent: Mozilla/5.0 (Windows NT 10.0; Win64; x64) AppleWebKit/537.36 (KHTML, like Gecko) Chrome/80.0.3987.87 Safari/537.36\n",
      "Sec-Fetch-Dest: document\n",
      "Accept: text/html,application/xhtml+xml,application/xml;q=0.9,image/webp,image/apng,*/*;q=0.8,application/signed-exchange;v=b3;q=0.9\n",
      "Sec-Fetch-Site: none\n",
      "Sec-Fetch-Mode: navigate\n",
      "Sec-Fetch-User: ?1\n",
      "Accept-Encoding: gzip, deflate, br\n",
      "Accept-Language: ko-KR,ko;q=0.9,en-US;q=0.8,en;q=0.7\n",
      "\n",
      "\n"
     ]
    }
   ],
   "source": [
    "#simple http server\n",
    "import socket\n",
    "\n",
    "server_socket = socket.socket(socket.AF_INET, socket.SOCK_STREAM)\n",
    "\n",
    "server_socket.bind(('localhost', 80))\n",
    "server_socket.listen(0)\n",
    "print(\"listening\")\n",
    "\n",
    "client_socket, addr = server_socket.accept()\n",
    "print(\"accepting\")\n",
    "data = client_socket.recv(65535)\n",
    "\n",
    "print(\"receive:\"+data.decode())\n",
    "\n",
    "client_socket.send('HTTP/1.0 200 Ok\\r\\n\\r\\nHello'.encode(\"utf-8\"))\n",
    "client_socket.close()\n"
   ]
  },
  {
   "cell_type": "code",
   "execution_count": 22,
   "metadata": {
    "ExecuteTime": {
     "end_time": "2020-02-11T04:28:47.037767Z",
     "start_time": "2020-02-11T04:28:32.298327Z"
    },
    "collapsed": true
   },
   "outputs": [
    {
     "name": "stdout",
     "output_type": "stream",
     "text": [
      "listening\n",
      "accepting\n",
      "accepting\n",
      "accepting\n"
     ]
    },
    {
     "ename": "IndexError",
     "evalue": "list index out of range",
     "output_type": "error",
     "traceback": [
      "\u001b[1;31m---------------------------------------------------------------------------\u001b[0m",
      "\u001b[1;31mIndexError\u001b[0m                                Traceback (most recent call last)",
      "\u001b[1;32m<ipython-input-22-394fdedddf07>\u001b[0m in \u001b[0;36m<module>\u001b[1;34m\u001b[0m\n\u001b[0;32m     17\u001b[0m \u001b[1;33m\u001b[0m\u001b[0m\n\u001b[0;32m     18\u001b[0m     \u001b[0mheader\u001b[0m\u001b[1;33m=\u001b[0m\u001b[0mdata\u001b[0m\u001b[1;33m.\u001b[0m\u001b[0msplit\u001b[0m\u001b[1;33m(\u001b[0m\u001b[1;34m'\\r\\n'\u001b[0m\u001b[1;33m)\u001b[0m\u001b[1;33m\u001b[0m\u001b[1;33m\u001b[0m\u001b[0m\n\u001b[1;32m---> 19\u001b[1;33m     \u001b[0mfilename\u001b[0m\u001b[1;33m=\u001b[0m\u001b[0mheader\u001b[0m\u001b[1;33m[\u001b[0m\u001b[1;36m0\u001b[0m\u001b[1;33m]\u001b[0m\u001b[1;33m.\u001b[0m\u001b[0msplit\u001b[0m\u001b[1;33m(\u001b[0m\u001b[1;34m\" \"\u001b[0m\u001b[1;33m)\u001b[0m\u001b[1;33m[\u001b[0m\u001b[1;36m1\u001b[0m\u001b[1;33m]\u001b[0m\u001b[1;33m\u001b[0m\u001b[1;33m\u001b[0m\u001b[0m\n\u001b[0m\u001b[0;32m     20\u001b[0m \u001b[1;33m\u001b[0m\u001b[0m\n\u001b[0;32m     21\u001b[0m     \u001b[1;32mif\u001b[0m \u001b[1;34m'.html'\u001b[0m \u001b[1;32min\u001b[0m \u001b[0mfilename\u001b[0m\u001b[1;33m:\u001b[0m\u001b[1;33m\u001b[0m\u001b[1;33m\u001b[0m\u001b[0m\n",
      "\u001b[1;31mIndexError\u001b[0m: list index out of range"
     ]
    }
   ],
   "source": [
    "#simple http server\n",
    "import socket\n",
    "import os\n",
    "from datetime import datetime\n",
    "\n",
    "server_socket = socket.socket(socket.AF_INET, socket.SOCK_STREAM)\n",
    "\n",
    "server_socket.bind(('localhost', 80))\n",
    "server_socket.listen(0)\n",
    "print(\"listening\")\n",
    "\n",
    "while True:\n",
    "\n",
    "    client_socket, addr = server_socket.accept()\n",
    "    print(\"accepting\")\n",
    "    data = client_socket.recv(65535)\n",
    "    data = data.decode()\n",
    "    \n",
    "    header=data.split('\\r\\n')\n",
    "    filename=header[0].split(\" \")[1]\n",
    "        \n",
    "    if '.html' in filename:\n",
    "          \n",
    "        file=open(\".\"+filename,'rt', encoding='utf-8')\n",
    "        html=file.read()\n",
    "\n",
    "        header='HTTP/1.0 200 Ok\\r\\n\\r\\n'\n",
    "\n",
    "        client_socket.send(header.encode(\"utf-8\"))\n",
    "        client_socket.send(html.encode(\"utf-8\"))\n",
    "    \n",
    "    elif '.jpg' in filename:\n",
    "        client_socket.send('HTTP/1.1 200 OK\\r\\n'.encode())\n",
    "        client_socket.send(\"Content-Type: image/jpg\\r\\n\".encode())\n",
    "        client_socket.send(\"Accept-Ranges: bytes\\r\\n\\r\\n\".encode())\n",
    "        #rb\n",
    "        file = open(\".\" + filename, \"rb\")            \n",
    "        client_socket.send(file.read())  \n",
    "        file.close()  \n",
    "    \n",
    "    else :\n",
    "        header = 'HTTP/1.0 404 File Not Found\\r\\n\\r\\n'\n",
    "        client_socket.send(header.encode(\"utf-8\"))\n",
    "        \n",
    "    \n",
    "    \n",
    "    \n",
    "    client_socket.close()\n"
   ]
  },
  {
   "cell_type": "code",
   "execution_count": 9,
   "metadata": {
    "ExecuteTime": {
     "end_time": "2020-02-11T02:44:05.777510Z",
     "start_time": "2020-02-11T02:44:05.773465Z"
    }
   },
   "outputs": [
    {
     "data": {
      "text/plain": [
       "<_io.TextIOWrapper name='./index2.html' mode='rt' encoding='utf-8'>"
      ]
     },
     "execution_count": 9,
     "metadata": {},
     "output_type": "execute_result"
    }
   ],
   "source": [
    "filename='/index2.html'\n",
    "\n",
    "#rt text파일 읽을때, \n",
    "open(\".\"+filename,'rt', encoding='utf-8')"
   ]
  },
  {
   "cell_type": "code",
   "execution_count": 25,
   "metadata": {
    "ExecuteTime": {
     "end_time": "2020-02-11T04:49:14.028856Z",
     "start_time": "2020-02-11T04:49:14.016926Z"
    }
   },
   "outputs": [
    {
     "ename": "OSError",
     "evalue": "[WinError 10048] 각 소켓 주소(프로토콜/네트워크 주소/포트)는 하나만 사용할 수 있습니다",
     "output_type": "error",
     "traceback": [
      "\u001b[1;31m---------------------------------------------------------------------------\u001b[0m",
      "\u001b[1;31mOSError\u001b[0m                                   Traceback (most recent call last)",
      "\u001b[1;32m<ipython-input-25-d47497f7e3ec>\u001b[0m in \u001b[0;36m<module>\u001b[1;34m\u001b[0m\n\u001b[0;32m      6\u001b[0m \u001b[0mserver_socket\u001b[0m \u001b[1;33m=\u001b[0m \u001b[0msocket\u001b[0m\u001b[1;33m.\u001b[0m\u001b[0msocket\u001b[0m\u001b[1;33m(\u001b[0m\u001b[0msocket\u001b[0m\u001b[1;33m.\u001b[0m\u001b[0mAF_INET\u001b[0m\u001b[1;33m,\u001b[0m \u001b[0msocket\u001b[0m\u001b[1;33m.\u001b[0m\u001b[0mSOCK_STREAM\u001b[0m\u001b[1;33m)\u001b[0m\u001b[1;33m\u001b[0m\u001b[1;33m\u001b[0m\u001b[0m\n\u001b[0;32m      7\u001b[0m \u001b[1;33m\u001b[0m\u001b[0m\n\u001b[1;32m----> 8\u001b[1;33m \u001b[0mserver_socket\u001b[0m\u001b[1;33m.\u001b[0m\u001b[0mbind\u001b[0m\u001b[1;33m(\u001b[0m\u001b[1;33m(\u001b[0m\u001b[1;34m'localhost'\u001b[0m\u001b[1;33m,\u001b[0m \u001b[1;36m80\u001b[0m\u001b[1;33m)\u001b[0m\u001b[1;33m)\u001b[0m\u001b[1;33m\u001b[0m\u001b[1;33m\u001b[0m\u001b[0m\n\u001b[0m\u001b[0;32m      9\u001b[0m \u001b[0mserver_socket\u001b[0m\u001b[1;33m.\u001b[0m\u001b[0mlisten\u001b[0m\u001b[1;33m(\u001b[0m\u001b[1;36m0\u001b[0m\u001b[1;33m)\u001b[0m\u001b[1;33m\u001b[0m\u001b[1;33m\u001b[0m\u001b[0m\n\u001b[0;32m     10\u001b[0m \u001b[0mprint\u001b[0m\u001b[1;33m(\u001b[0m\u001b[1;34m\"listening\"\u001b[0m\u001b[1;33m)\u001b[0m\u001b[1;33m\u001b[0m\u001b[1;33m\u001b[0m\u001b[0m\n",
      "\u001b[1;31mOSError\u001b[0m: [WinError 10048] 각 소켓 주소(프로토콜/네트워크 주소/포트)는 하나만 사용할 수 있습니다"
     ]
    }
   ],
   "source": [
    "#simple http server\n",
    "import socket\n",
    "import os\n",
    "from datetime import datetime\n",
    "\n",
    "server_socket = socket.socket(socket.AF_INET, socket.SOCK_STREAM)\n",
    "\n",
    "server_socket.bind(('localhost', 80))\n",
    "server_socket.listen(0)\n",
    "print(\"listening\")\n",
    "\n",
    "\n",
    "\n",
    "while True:\n",
    "    try:\n",
    "\n",
    "        client_socket, addr = server_socket.accept()\n",
    "        print(\"accepting\")\n",
    "        data = client_socket.recv(65535)\n",
    "        data = data.decode()\n",
    "\n",
    "        header=data.split('\\r\\n')\n",
    "        filename=header[0].split(\" \")[1]\n",
    "        ext = os.path.splitext(filename)\n",
    "\n",
    "        if '.html' in filename:\n",
    "\n",
    "            file=open(\".\"+filename,'rt', encoding='utf-8')\n",
    "            html=file.read()\n",
    "\n",
    "            header='HTTP/1.0 200 Ok\\r\\n\\r\\n'\n",
    "\n",
    "            client_socket.send(header.encode(\"utf-8\"))\n",
    "            client_socket.send(html.encode(\"utf-8\"))\n",
    "\n",
    "        elif '.jpg' in filename:\n",
    "            client_socket.send('HTTP/1.1 200 OK\\r\\n'.encode())\n",
    "            client_socket.send(\"Content-Type: image/jpg\\r\\n\".encode())\n",
    "            client_socket.send(\"Accept-Ranges: bytes\\r\\n\\r\\n\".encode())\n",
    "            #rb\n",
    "            file = open(\".\" + filename, \"rb\")            \n",
    "            client_socket.send(file.read())  \n",
    "            file.close()  \n",
    "\n",
    "        else :\n",
    "            header = 'HTTP/1.0 404 File Not Found\\r\\n\\r\\n'\n",
    "            client_socket.send(header.encode(\"utf-8\"))\n",
    "\n",
    "\n",
    "    except Exception as e:\n",
    "        print(e)\n",
    "\n",
    "    client_socket.close()\n"
   ]
  }
 ],
 "metadata": {
  "kernelspec": {
   "display_name": "Python 3",
   "language": "python",
   "name": "python3"
  },
  "toc": {
   "base_numbering": 1,
   "nav_menu": {},
   "number_sections": true,
   "sideBar": true,
   "skip_h1_title": false,
   "title_cell": "Table of Contents",
   "title_sidebar": "Contents",
   "toc_cell": false,
   "toc_position": {},
   "toc_section_display": true,
   "toc_window_display": false
  },
  "varInspector": {
   "cols": {
    "lenName": 16,
    "lenType": 16,
    "lenVar": 40
   },
   "kernels_config": {
    "python": {
     "delete_cmd_postfix": "",
     "delete_cmd_prefix": "del ",
     "library": "var_list.py",
     "varRefreshCmd": "print(var_dic_list())"
    },
    "r": {
     "delete_cmd_postfix": ") ",
     "delete_cmd_prefix": "rm(",
     "library": "var_list.r",
     "varRefreshCmd": "cat(var_dic_list()) "
    }
   },
   "types_to_exclude": [
    "module",
    "function",
    "builtin_function_or_method",
    "instance",
    "_Feature"
   ],
   "window_display": false
  }
 },
 "nbformat": 4,
 "nbformat_minor": 4
}
