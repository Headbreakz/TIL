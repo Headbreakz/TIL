{
 "cells": [
  {
   "cell_type": "code",
   "execution_count": 3,
   "metadata": {},
   "outputs": [],
   "source": [
    "import dlib, cv2\n",
    "import numpy as np\n",
    "import pickle\n",
    "\n",
    "detector = dlib.get_frontal_face_detector()\n",
    "sp = dlib.shape_predictor('./shape_predictor_68_face_landmarks.dat')\n",
    "facerec = dlib.face_recognition_model_v1('./dlib_face_recognition_resnet_model_v1.dat')\n",
    "\n",
    "descs = np.load('./descs.npy', allow_pickle=True)[()]"
   ]
  },
  {
   "cell_type": "code",
   "execution_count": 4,
   "metadata": {},
   "outputs": [
    {
     "ename": "KeyboardInterrupt",
     "evalue": "",
     "output_type": "error",
     "traceback": [
      "\u001b[1;31m---------------------------------------------------------------------------\u001b[0m",
      "\u001b[1;31mKeyboardInterrupt\u001b[0m                         Traceback (most recent call last)",
      "\u001b[1;32m<ipython-input-4-ccf09a163fe3>\u001b[0m in \u001b[0;36m<module>\u001b[1;34m\u001b[0m\n\u001b[0;32m     40\u001b[0m     \u001b[1;32mfor\u001b[0m \u001b[0mk\u001b[0m\u001b[1;33m,\u001b[0m \u001b[0md\u001b[0m \u001b[1;32min\u001b[0m \u001b[0menumerate\u001b[0m\u001b[1;33m(\u001b[0m\u001b[0mdets\u001b[0m\u001b[1;33m)\u001b[0m\u001b[1;33m:\u001b[0m\u001b[1;33m\u001b[0m\u001b[1;33m\u001b[0m\u001b[0m\n\u001b[0;32m     41\u001b[0m         \u001b[0mshape\u001b[0m \u001b[1;33m=\u001b[0m \u001b[0msp\u001b[0m\u001b[1;33m(\u001b[0m\u001b[0mimg_rgb\u001b[0m\u001b[1;33m,\u001b[0m \u001b[0md\u001b[0m\u001b[1;33m)\u001b[0m\u001b[1;33m\u001b[0m\u001b[1;33m\u001b[0m\u001b[0m\n\u001b[1;32m---> 42\u001b[1;33m         \u001b[0mface_descriptor\u001b[0m \u001b[1;33m=\u001b[0m \u001b[0mfacerec\u001b[0m\u001b[1;33m.\u001b[0m\u001b[0mcompute_face_descriptor\u001b[0m\u001b[1;33m(\u001b[0m\u001b[0mimg_rgb\u001b[0m\u001b[1;33m,\u001b[0m \u001b[0mshape\u001b[0m\u001b[1;33m)\u001b[0m\u001b[1;33m\u001b[0m\u001b[1;33m\u001b[0m\u001b[0m\n\u001b[0m\u001b[0;32m     43\u001b[0m \u001b[1;33m\u001b[0m\u001b[0m\n\u001b[0;32m     44\u001b[0m         \u001b[0mlast_found\u001b[0m \u001b[1;33m=\u001b[0m \u001b[1;33m{\u001b[0m\u001b[1;34m'name'\u001b[0m\u001b[1;33m:\u001b[0m \u001b[1;34m'unknown'\u001b[0m\u001b[1;33m,\u001b[0m \u001b[1;34m'dist'\u001b[0m\u001b[1;33m:\u001b[0m \u001b[1;36m0.6\u001b[0m\u001b[1;33m,\u001b[0m \u001b[1;34m'color'\u001b[0m\u001b[1;33m:\u001b[0m \u001b[1;33m(\u001b[0m\u001b[1;36m0\u001b[0m\u001b[1;33m,\u001b[0m\u001b[1;36m0\u001b[0m\u001b[1;33m,\u001b[0m\u001b[1;36m255\u001b[0m\u001b[1;33m)\u001b[0m\u001b[1;33m}\u001b[0m\u001b[1;33m\u001b[0m\u001b[1;33m\u001b[0m\u001b[0m\n",
      "\u001b[1;31mKeyboardInterrupt\u001b[0m: "
     ]
    }
   ],
   "source": [
    "def encode_face(img):\n",
    "    dets = detector(img, 1)\n",
    "\n",
    "    if len(dets) == 0:\n",
    "        return np.empty(0)\n",
    "\n",
    "    for k, d in enumerate(dets):\n",
    "        shape = sp(img, d)\n",
    "        face_descriptor = facerec.compute_face_descriptor(img, shape)\n",
    "\n",
    "    return np.array(face_descriptor)\n",
    "\n",
    "video_path = './music.mp4'\n",
    "cap = cv2.VideoCapture(video_path)\n",
    "\n",
    "if not cap.isOpened():\n",
    "    exit()\n",
    "\n",
    "_, img_bgr = cap.read() # (800, 1920, 3)\n",
    "padding_size = 0\n",
    "resized_width = 800\n",
    "video_size = (resized_width, int(img_bgr.shape[0] * resized_width // img_bgr.shape[1]))\n",
    "output_size = (resized_width, int(img_bgr.shape[0] * resized_width // img_bgr.shape[1] + padding_size * 2))\n",
    "\n",
    "fourcc = cv2.VideoWriter_fourcc('m', 'p', '4', 'v')\n",
    "writer = cv2.VideoWriter('%s_output.mp4' % (video_path.split('.')[0]), fourcc, cap.get(cv2.CAP_PROP_FPS), output_size)\n",
    "\n",
    "while True:\n",
    "    ret, img_bgr = cap.read()\n",
    "    if not ret:\n",
    "        break\n",
    "\n",
    "#     img_bgr = cv2.resize(img_bgr, video_size)\n",
    "    img_rgb = cv2.cvtColor(img_bgr, cv2.COLOR_BGR2RGB)\n",
    "\n",
    "  # img_bgr = cv2.copyMakeBorder(img_bgr, top=padding_size, bottom=padding_size, left=0, right=0, borderType=cv2.BORDER_CONSTANT, value=(0,0,0))\n",
    "  \n",
    "    dets = detector(img_bgr, 1)\n",
    "\n",
    "    for k, d in enumerate(dets):\n",
    "        shape = sp(img_rgb, d)\n",
    "        face_descriptor = facerec.compute_face_descriptor(img_rgb, shape)\n",
    "\n",
    "        last_found = {'name': 'unknown', 'dist': 0.6, 'color': (0,0,255)}\n",
    "\n",
    "        for name, saved_desc in descs.items():\n",
    "            dist = np.linalg.norm([face_descriptor] - saved_desc, axis=1)\n",
    "\n",
    "            if dist < last_found['dist']:\n",
    "                last_found = {'name': name, 'dist': dist, 'color': (255,255,255)}\n",
    "\n",
    "        cv2.rectangle(img_bgr, pt1=(d.left(), d.top()), pt2=(d.right(), d.bottom()), color=last_found['color'], thickness=2)\n",
    "        cv2.putText(img_bgr, last_found['name'], org=(d.left(), d.top()), fontFace=cv2.FONT_HERSHEY_SIMPLEX, fontScale=1, color=last_found['color'], thickness=2)\n",
    "\n",
    "    writer.write(img_bgr)\n",
    "\n",
    "#     cv2.imshow('img', img_bgr)\n",
    "    if cv2.waitKey(1) == ord('q'):\n",
    "        break\n",
    "\n",
    "cap.release()\n",
    "writer.release()"
   ]
  },
  {
   "cell_type": "code",
   "execution_count": null,
   "metadata": {},
   "outputs": [],
   "source": []
  }
 ],
 "metadata": {
  "kernelspec": {
   "display_name": "Python 3",
   "language": "python",
   "name": "python3"
  }
 },
 "nbformat": 4,
 "nbformat_minor": 4
}
