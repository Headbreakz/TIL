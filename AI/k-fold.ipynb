{
 "cells": [
  {
   "cell_type": "code",
   "execution_count": null,
   "metadata": {},
   "outputs": [],
   "source": [
    "from sklearn.model_selection import KFold, cross_val_score\n",
    "\n",
    "\n",
    "model = DecisionTreeClassifier()\n",
    "\n",
    "kfold = KFold(n_splits=20,shuffle=True, randon_state=0)\n",
    "\n",
    "score = cross_val_score(model, iris.data, iris.target, cv=kfold, scoring=\"accuracy\")\n",
    "\n",
    "\n",
    "\n",
    "\n",
    "from sklearn.model_selection import StratifiedKFold\n",
    "\n",
    "model = DecisionTreeClassifier()\n",
    "\n",
    "Str_kfold = StratifiedKFold(n_splits = 20,shuffle=True, randon_state=0)\n",
    "\n",
    "score = cross_val_score(model, iris.data, iris.target, cv=Str_kfold, scoring=\"accuracy\")"
   ]
  }
 ],
 "metadata": {
  "kernelspec": {
   "display_name": "Python 3",
   "language": "python",
   "name": "python3"
  },
  "language_info": {
   "codemirror_mode": {
    "name": "ipython",
    "version": 3
   },
   "file_extension": ".py",
   "mimetype": "text/x-python",
   "name": "python",
   "nbconvert_exporter": "python",
   "pygments_lexer": "ipython3",
   "version": "3.7.6"
  }
 },
 "nbformat": 4,
 "nbformat_minor": 4
}
