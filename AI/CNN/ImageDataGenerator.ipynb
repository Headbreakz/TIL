{
 "cells": [
  {
   "cell_type": "code",
   "execution_count": null,
   "metadata": {},
   "outputs": [],
   "source": [
    "data = ImageDataGenerator(\n",
    "    featurewise_center=False,\n",
    "    samplewise_center=False,\n",
    "    featurewise_std_normalization=False,\n",
    "    samplewise_std_normalization=False,\n",
    "    zca_whitening=False,\n",
    "    zca_epsilon=1e-06,\n",
    "    rotation_range=0,                    #회전 범위각도 - a ~ + a\n",
    "    width_shift_range=0.0,               #사진을 수평으로 랜덤하게 평행이동 시킬 범위\n",
    "    height_shift_range=0.0,              #사진을 수직으로 랜덤하게 평행이동 시킬 범위\n",
    "    brightness_range=None,\n",
    "    shear_range=0.0,                     #랜덤하게 전단 변환 적용할 각도 범위\n",
    "    zoom_range=0.0,                      #랜덤하게 확대할 범위\n",
    "    channel_shift_range=0.0,\n",
    "    fill_mode=\"nearest\",                 #이동으로 인해 새롭게 생성된 부분을 채우는 방법\n",
    "    cval=0.0,\n",
    "    horizontal_flip=False,              #랜덤하게 수평 반전\n",
    "    vertical_flip=False,                #랜덤하게 수직 반전\n",
    "    rescale=None,\n",
    "    preprocessing_function=None,\n",
    "    data_format=None,\n",
    "    validation_split=0.0,\n",
    "    dtype=None,\n",
    ")\n"
   ]
  }
 ],
 "metadata": {
  "kernelspec": {
   "display_name": "Python 3",
   "language": "python",
   "name": "python3"
  },
  "language_info": {
   "codemirror_mode": {
    "name": "ipython",
    "version": 3
   },
   "file_extension": ".py",
   "mimetype": "text/x-python",
   "name": "python",
   "nbconvert_exporter": "python",
   "pygments_lexer": "ipython3",
   "version": "3.7.6"
  }
 },
 "nbformat": 4,
 "nbformat_minor": 4
}
