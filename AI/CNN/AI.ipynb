{
 "cells": [
  {
   "cell_type": "code",
   "execution_count": 2,
   "metadata": {
    "ExecuteTime": {
     "end_time": "2020-01-20T09:45:20.366510Z",
     "start_time": "2020-01-20T09:45:20.362514Z"
    }
   },
   "outputs": [],
   "source": [
    "import numpy as np\n",
    "import numpy.linalg as lin"
   ]
  },
  {
   "cell_type": "code",
   "execution_count": 3,
   "metadata": {
    "ExecuteTime": {
     "end_time": "2020-01-20T09:45:21.749175Z",
     "start_time": "2020-01-20T09:45:21.737720Z"
    }
   },
   "outputs": [
    {
     "name": "stdout",
     "output_type": "stream",
     "text": [
      "[[1 1]\n",
      " [2 1]]\n",
      "(2, 2)\n",
      "[[-1.  1.]\n",
      " [ 2. -1.]]\n"
     ]
    }
   ],
   "source": [
    "\n",
    "#2개인 경우 ,첫번째 행 [1,1], 두번째행 [2,1]\n",
    "a=np.array([[1,1],[2,1]])\n",
    "print(a)\n",
    "print(a.shape)\n",
    "\n",
    "#역행렬정의\n",
    "a_=lin.inv(a)\n",
    "print(a_)"
   ]
  },
  {
   "cell_type": "code",
   "execution_count": 3,
   "metadata": {
    "ExecuteTime": {
     "end_time": "2020-01-20T02:44:51.650121Z",
     "start_time": "2020-01-20T02:44:51.645134Z"
    }
   },
   "outputs": [
    {
     "name": "stdout",
     "output_type": "stream",
     "text": [
      "(2,)\n",
      "[[2 4]]\n",
      "(1, 2)\n"
     ]
    }
   ],
   "source": [
    "#y는 1차원 벡터, 행렬이 아님\n",
    "y=np.array([2,4])\n",
    "print(y.shape)\n",
    "#\n",
    "y_1=np.array([[2,4]])\n",
    "print(y_1)\n",
    "print(y_1.shape)"
   ]
  },
  {
   "cell_type": "code",
   "execution_count": 4,
   "metadata": {
    "ExecuteTime": {
     "end_time": "2020-01-20T02:44:51.656105Z",
     "start_time": "2020-01-20T02:44:51.651118Z"
    },
    "scrolled": true
   },
   "outputs": [
    {
     "name": "stdout",
     "output_type": "stream",
     "text": [
      "[[2]\n",
      " [4]]\n",
      "(2, 1)\n",
      "-------------------------------\n",
      "[[2]\n",
      " [4]]\n"
     ]
    }
   ],
   "source": [
    "#column vector\n",
    "y_2=np.array([[2],[4]])\n",
    "print(y_2)\n",
    "print(y_2.shape)\n",
    "\n",
    "print(\"-------------------------------\")\n",
    "\n",
    "#column vector\n",
    "y_3=np.array([2,4]).reshape(2,1)\n",
    "print(y_3)"
   ]
  },
  {
   "cell_type": "code",
   "execution_count": 5,
   "metadata": {
    "ExecuteTime": {
     "end_time": "2020-01-20T02:44:51.662089Z",
     "start_time": "2020-01-20T02:44:51.657103Z"
    }
   },
   "outputs": [
    {
     "name": "stdout",
     "output_type": "stream",
     "text": [
      "[2. 0.]\n",
      "-------------------------------\n",
      "[[2.]\n",
      " [0.]]\n"
     ]
    }
   ],
   "source": [
    "#두개의 행렬 곱하기\n",
    "w=np.matmul(a_,y)\n",
    "print(w)\n",
    "\n",
    "print(\"-------------------------------\")\n",
    "\n",
    "w_1=np.matmul(a_,y_3)\n",
    "print(w_1)\n"
   ]
  },
  {
   "cell_type": "code",
   "execution_count": 6,
   "metadata": {
    "ExecuteTime": {
     "end_time": "2020-01-20T02:44:51.670067Z",
     "start_time": "2020-01-20T02:44:51.663087Z"
    }
   },
   "outputs": [
    {
     "name": "stdout",
     "output_type": "stream",
     "text": [
      "[[-5.00000000e-01 -3.19189120e-16  5.00000000e-01]\n",
      " [ 1.33333333e+00  3.33333333e-01 -6.66666667e-01]]\n",
      "-------------------------------\n",
      "[[ 2.2       ]\n",
      " [-0.26666667]]\n"
     ]
    }
   ],
   "source": [
    "#3개의 경우\n",
    "a=np.array([[1,1],[2,1],[3,1]])\n",
    "a_=lin.pinv(a)\n",
    "print(a_)\n",
    "print(\"-------------------------------\")\n",
    "y=np.array([2,4,6.4]).reshape(3,1)\n",
    "w=np.matmul(a_,y)\n",
    "print(w)"
   ]
  },
  {
   "cell_type": "code",
   "execution_count": 8,
   "metadata": {
    "ExecuteTime": {
     "end_time": "2020-01-20T04:17:56.190037Z",
     "start_time": "2020-01-20T04:17:56.177528Z"
    }
   },
   "outputs": [
    {
     "data": {
      "text/plain": [
       "array([[-2.46666667],\n",
       "       [-0.26666667],\n",
       "       [ 1.93333333],\n",
       "       [ 4.13333333]])"
      ]
     },
     "execution_count": 8,
     "metadata": {},
     "output_type": "execute_result"
    }
   ],
   "source": [
    "x_=np.array([[-1,1],[0,1],[1,1],[2,1]])\n",
    "np.matmul(x_,w)"
   ]
  },
  {
   "cell_type": "code",
   "execution_count": null,
   "metadata": {
    "ExecuteTime": {
     "end_time": "2020-01-20T02:43:58.873651Z",
     "start_time": "2020-01-20T02:43:58.865653Z"
    }
   },
   "outputs": [],
   "source": []
  },
  {
   "cell_type": "code",
   "execution_count": null,
   "metadata": {},
   "outputs": [],
   "source": []
  },
  {
   "cell_type": "code",
   "execution_count": null,
   "metadata": {},
   "outputs": [],
   "source": []
  },
  {
   "cell_type": "code",
   "execution_count": null,
   "metadata": {},
   "outputs": [],
   "source": []
  }
 ],
 "metadata": {
  "kernelspec": {
   "display_name": "Python 3",
   "language": "python",
   "name": "python3"
  },
  "language_info": {
   "codemirror_mode": {
    "name": "ipython",
    "version": 3
   },
   "file_extension": ".py",
   "mimetype": "text/x-python",
   "name": "python",
   "nbconvert_exporter": "python",
   "pygments_lexer": "ipython3",
   "version": "3.7.6"
  },
  "varInspector": {
   "cols": {
    "lenName": 16,
    "lenType": 16,
    "lenVar": 40
   },
   "kernels_config": {
    "python": {
     "delete_cmd_postfix": "",
     "delete_cmd_prefix": "del ",
     "library": "var_list.py",
     "varRefreshCmd": "print(var_dic_list())"
    },
    "r": {
     "delete_cmd_postfix": ") ",
     "delete_cmd_prefix": "rm(",
     "library": "var_list.r",
     "varRefreshCmd": "cat(var_dic_list()) "
    }
   },
   "types_to_exclude": [
    "module",
    "function",
    "builtin_function_or_method",
    "instance",
    "_Feature"
   ],
   "window_display": false
  }
 },
 "nbformat": 4,
 "nbformat_minor": 2
}
