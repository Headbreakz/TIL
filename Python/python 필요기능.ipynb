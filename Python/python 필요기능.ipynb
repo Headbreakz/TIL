{
 "cells": [
  {
   "cell_type": "markdown",
   "metadata": {},
   "source": [
    "## lambda"
   ]
  },
  {
   "cell_type": "code",
   "execution_count": 1,
   "metadata": {},
   "outputs": [
    {
     "data": {
      "text/plain": [
       "30"
      ]
     },
     "execution_count": 1,
     "metadata": {},
     "output_type": "execute_result"
    }
   ],
   "source": [
    "#lambda 인자 : 표현식\n",
    "fun= lambda x ,y :x + y\n",
    "\n",
    "fun(10,20)"
   ]
  },
  {
   "cell_type": "markdown",
   "metadata": {},
   "source": [
    "## map()"
   ]
  },
  {
   "cell_type": "code",
   "execution_count": null,
   "metadata": {},
   "outputs": [],
   "source": [
    "#map(함수, 리스트)"
   ]
  },
  {
   "cell_type": "code",
   "execution_count": 8,
   "metadata": {},
   "outputs": [
    {
     "name": "stdout",
     "output_type": "stream",
     "text": [
      "[1, 4, 9, 16]\n"
     ]
    }
   ],
   "source": [
    "#예시 1\n",
    "\n",
    "#함수 \n",
    "fun_1 = lambda x :x*x\n",
    "#리스트\n",
    "num_1 = [1,2,3,4]\n",
    "#리스트에 저장\n",
    "answer_1 = list(map(fun_1,num_1))\n",
    "#결과\n",
    "print(answer_1)"
   ]
  },
  {
   "cell_type": "code",
   "execution_count": 35,
   "metadata": {},
   "outputs": [
    {
     "name": "stdout",
     "output_type": "stream",
     "text": [
      "['5', '1', '23', '5', '2']\n"
     ]
    }
   ],
   "source": [
    "#예시2\n",
    "\n",
    "#리스트\n",
    "num_2=[5,1,23,5,2]\n",
    "#리스트 값을 문자로 변환하여 리스트에 저장\n",
    "answer_2 = list(map(str,num_2))\n",
    "#저장\n",
    "print(answer_2)"
   ]
  },
  {
   "cell_type": "markdown",
   "metadata": {},
   "source": [
    "## reduce()"
   ]
  },
  {
   "cell_type": "code",
   "execution_count": null,
   "metadata": {},
   "outputs": [],
   "source": [
    "#reduce(함수, 순서형 자료) - 순서형 자료 = 문자열,list ,tuple"
   ]
  },
  {
   "cell_type": "code",
   "execution_count": 25,
   "metadata": {},
   "outputs": [],
   "source": [
    "#python3부터 내장함수에서 사라짐\n",
    "from functools import reduce"
   ]
  },
  {
   "cell_type": "code",
   "execution_count": 52,
   "metadata": {},
   "outputs": [
    {
     "name": "stdout",
     "output_type": "stream",
     "text": [
      "1200\n"
     ]
    }
   ],
   "source": [
    "#예시1\n",
    "#함수 \n",
    "fun_2 = lambda x,y : x*y\n",
    "# 순서형 자료\n",
    "num_3 = [1,5,2,3,4]\n",
    "#reduce 함수 사용 \n",
    "# 1*5 -> 5*2 ->10*3 -> 30*4\n",
    "answer_3 = reduce(fun_2,num_3,10)\n",
    "#결과\n",
    "print(answer_3)"
   ]
  },
  {
   "cell_type": "code",
   "execution_count": 54,
   "metadata": {},
   "outputs": [
    {
     "name": "stdout",
     "output_type": "stream",
     "text": [
      "enilno1st\n"
     ]
    }
   ],
   "source": [
    "#예시\n",
    "#함수\n",
    "fun_3 = lambda x,y : y+x\n",
    "#순서형 자료\n",
    "txt_1='online'\n",
    "#reduce 함수 사용\n",
    "answer_4 = reduce(fun_3,txt_1,'1st')\n",
    "#결과\n",
    "print(answer_4)"
   ]
  },
  {
   "cell_type": "markdown",
   "metadata": {},
   "source": [
    "## filter()"
   ]
  },
  {
   "cell_type": "code",
   "execution_count": null,
   "metadata": {},
   "outputs": [],
   "source": [
    "#filter(함수, 리스트)"
   ]
  },
  {
   "cell_type": "code",
   "execution_count": 49,
   "metadata": {},
   "outputs": [
    {
     "name": "stdout",
     "output_type": "stream",
     "text": [
      "[3, 5, 2, 1]\n"
     ]
    }
   ],
   "source": [
    "#예시\n",
    "#함수\n",
    "fun_4 = lambda x : x < 10\n",
    "#리스트\n",
    "num_4 = [3,5,13,12,21,34,14,2,43,1]\n",
    "#filter 사용하여 리스트에 저장\n",
    "answer_5 =list( filter(fun_4,num_4) )\n",
    "#결과\n",
    "print(answer_5)"
   ]
  },
  {
   "cell_type": "markdown",
   "metadata": {},
   "source": [
    "## Permutation 순열"
   ]
  },
  {
   "cell_type": "code",
   "execution_count": 4,
   "metadata": {},
   "outputs": [
    {
     "name": "stdout",
     "output_type": "stream",
     "text": [
      "[(1, 2), (1, 3), (1, 4), (1, 5), (2, 1), (2, 3), (2, 4), (2, 5), (3, 1), (3, 2), (3, 4), (3, 5), (4, 1), (4, 2), (4, 3), (4, 5), (5, 1), (5, 2), (5, 3), (5, 4)]\n"
     ]
    }
   ],
   "source": [
    "from itertools import permutations\n",
    "#리스트\n",
    "num_5 = [1,2,3,4,5]\n",
    "#permutation 사용 - 리스트 num_5에서 2개씩 순서가 있는 배열을 리스트로 저장\n",
    "answer_6 = list(permutations(num_5,2))\n",
    "#결과\n",
    "print(answer_6)\n"
   ]
  },
  {
   "cell_type": "code",
   "execution_count": 5,
   "metadata": {
    "scrolled": true
   },
   "outputs": [
    {
     "name": "stdout",
     "output_type": "stream",
     "text": [
      "[(1, 2, 3), (1, 2, 4), (1, 2, 5), (1, 3, 2), (1, 3, 4), (1, 3, 5), (1, 4, 2), (1, 4, 3), (1, 4, 5), (1, 5, 2), (1, 5, 3), (1, 5, 4), (2, 1, 3), (2, 1, 4), (2, 1, 5), (2, 3, 1), (2, 3, 4), (2, 3, 5), (2, 4, 1), (2, 4, 3), (2, 4, 5), (2, 5, 1), (2, 5, 3), (2, 5, 4), (3, 1, 2), (3, 1, 4), (3, 1, 5), (3, 2, 1), (3, 2, 4), (3, 2, 5), (3, 4, 1), (3, 4, 2), (3, 4, 5), (3, 5, 1), (3, 5, 2), (3, 5, 4), (4, 1, 2), (4, 1, 3), (4, 1, 5), (4, 2, 1), (4, 2, 3), (4, 2, 5), (4, 3, 1), (4, 3, 2), (4, 3, 5), (4, 5, 1), (4, 5, 2), (4, 5, 3), (5, 1, 2), (5, 1, 3), (5, 1, 4), (5, 2, 1), (5, 2, 3), (5, 2, 4), (5, 3, 1), (5, 3, 2), (5, 3, 4), (5, 4, 1), (5, 4, 2), (5, 4, 3)]\n"
     ]
    }
   ],
   "source": [
    "#리스트\n",
    "num_6 = [1,2,3,4,5]\n",
    "#permutation 사용 - 리스트 num_6에서 3개씩 순서가 있는 배열을 리스트로 저장\n",
    "answer_7 = list(permutations(num_5,3))\n",
    "#결과\n",
    "print(answer_7)"
   ]
  },
  {
   "cell_type": "code",
   "execution_count": 38,
   "metadata": {},
   "outputs": [
    {
     "name": "stdout",
     "output_type": "stream",
     "text": [
      "[('A', 'B'), ('A', 'C'), ('A', 'D'), ('B', 'A'), ('B', 'C'), ('B', 'D'), ('C', 'A'), ('C', 'B'), ('C', 'D'), ('D', 'A'), ('D', 'B'), ('D', 'C')]\n"
     ]
    }
   ],
   "source": [
    "txt = 'ABCD'\n",
    "\n",
    "answer = list(permutations(txt,2))\n",
    "\n",
    "print(answer)"
   ]
  },
  {
   "cell_type": "markdown",
   "metadata": {},
   "source": [
    "## Combination 조합"
   ]
  },
  {
   "cell_type": "code",
   "execution_count": 6,
   "metadata": {},
   "outputs": [
    {
     "name": "stdout",
     "output_type": "stream",
     "text": [
      "[(1, 2), (1, 3), (1, 4), (1, 5), (1, 6), (2, 3), (2, 4), (2, 5), (2, 6), (3, 4), (3, 5), (3, 6), (4, 5), (4, 6), (5, 6)]\n"
     ]
    }
   ],
   "source": [
    "from itertools import combinations\n",
    "\n",
    "#리스트\n",
    "num_7 = [1,2,3,4,5,6]\n",
    "#combination 사용 - 리스트 num_7에서 순서와 상관없이 2개 배열을 리스트로 저장\n",
    "answer_8 =list(combinations(num_7,2))\n",
    "#결과\n",
    "print(answer_8)"
   ]
  },
  {
   "cell_type": "code",
   "execution_count": 7,
   "metadata": {},
   "outputs": [
    {
     "name": "stdout",
     "output_type": "stream",
     "text": [
      "[(1, 2, 3), (1, 2, 4), (1, 2, 5), (1, 2, 6), (1, 3, 4), (1, 3, 5), (1, 3, 6), (1, 4, 5), (1, 4, 6), (1, 5, 6), (2, 3, 4), (2, 3, 5), (2, 3, 6), (2, 4, 5), (2, 4, 6), (2, 5, 6), (3, 4, 5), (3, 4, 6), (3, 5, 6), (4, 5, 6)]\n"
     ]
    }
   ],
   "source": [
    "#리스트\n",
    "num_8 = [1,2,3,4,5,6]\n",
    "#combination 사용 - 리스트 num_8에서 순서와 상관없이 3개 배열을 리스트로 저장\n",
    "answer_9 =list(combinations(num_7,3))\n",
    "#결과\n",
    "print(answer_9)"
   ]
  },
  {
   "cell_type": "code",
   "execution_count": 36,
   "metadata": {},
   "outputs": [
    {
     "name": "stdout",
     "output_type": "stream",
     "text": [
      "[('A', 'B'), ('A', 'C'), ('A', 'D'), ('B', 'C'), ('B', 'D'), ('C', 'D')]\n"
     ]
    }
   ],
   "source": [
    "txt_10 = 'ABCD'\n",
    "\n",
    "answer = list(combinations(txt_10,2))\n",
    "\n",
    "print(answer)"
   ]
  },
  {
   "cell_type": "markdown",
   "metadata": {},
   "source": [
    "## zip()"
   ]
  },
  {
   "cell_type": "code",
   "execution_count": 22,
   "metadata": {},
   "outputs": [
    {
     "name": "stdout",
     "output_type": "stream",
     "text": [
      "[('yellow', 1, '노랑'), ('dark', 2, '블랙'), ('blue', 3, '파랑'), ('green', 4, '초록')]\n"
     ]
    }
   ],
   "source": [
    "color = ['yellow','dark','blue','green']\n",
    "num_1 = [1,2,3,4]\n",
    "txt = ['노랑','블랙','파랑','초록']\n",
    "\n",
    "#예시\n",
    "list_color = list(zip(color,num_1,txt))\n",
    "#결과\n",
    "print(list_color)"
   ]
  },
  {
   "cell_type": "code",
   "execution_count": 11,
   "metadata": {},
   "outputs": [
    {
     "name": "stdout",
     "output_type": "stream",
     "text": [
      "[('yellow', 1), ('dark', 2), ('blue', 3), ('green', 4)]\n"
     ]
    }
   ],
   "source": [
    "num_2 = [1,2,3,4,5,6]\n",
    "#예시\n",
    "list_color_1 = list(zip(color,num_2))\n",
    "#결과\n",
    "print(list_color_1)"
   ]
  },
  {
   "cell_type": "code",
   "execution_count": 18,
   "metadata": {
    "scrolled": true
   },
   "outputs": [
    {
     "name": "stdout",
     "output_type": "stream",
     "text": [
      "('korea', '01132231321')\n",
      "('korea', '0103265131')\n",
      "('usa', '0106893265')\n",
      "('china', '01069531111')\n"
     ]
    }
   ],
   "source": [
    "phone_number = ['01132231321','0103265131','0106893265','01069531111']\n",
    "country =['korea','korea','usa','china']\n",
    "\n",
    "for i in zip(country,phone_number):\n",
    "    print(i)"
   ]
  },
  {
   "cell_type": "code",
   "execution_count": 19,
   "metadata": {},
   "outputs": [
    {
     "name": "stdout",
     "output_type": "stream",
     "text": [
      "korea:01132231321\n",
      "korea:0103265131\n",
      "usa:0106893265\n",
      "china:01069531111\n"
     ]
    }
   ],
   "source": [
    "phone_number = ['01132231321','0103265131','0106893265','01069531111']\n",
    "country =['korea','korea','usa','china']\n",
    "\n",
    "for i,j in zip(country,phone_number):\n",
    "    print(i+':'+j)"
   ]
  },
  {
   "cell_type": "markdown",
   "metadata": {},
   "source": [
    "## Product"
   ]
  },
  {
   "cell_type": "code",
   "execution_count": 25,
   "metadata": {},
   "outputs": [
    {
     "name": "stdout",
     "output_type": "stream",
     "text": [
      "[(1, 'a', 'A'), (1, 'a', 'B'), (1, 'a', 'C'), (1, 'a', 'D'), (1, 'b', 'A'), (1, 'b', 'B'), (1, 'b', 'C'), (1, 'b', 'D'), (1, 'c', 'A'), (1, 'c', 'B'), (1, 'c', 'C'), (1, 'c', 'D'), (1, 'd', 'A'), (1, 'd', 'B'), (1, 'd', 'C'), (1, 'd', 'D'), (2, 'a', 'A'), (2, 'a', 'B'), (2, 'a', 'C'), (2, 'a', 'D'), (2, 'b', 'A'), (2, 'b', 'B'), (2, 'b', 'C'), (2, 'b', 'D'), (2, 'c', 'A'), (2, 'c', 'B'), (2, 'c', 'C'), (2, 'c', 'D'), (2, 'd', 'A'), (2, 'd', 'B'), (2, 'd', 'C'), (2, 'd', 'D'), (3, 'a', 'A'), (3, 'a', 'B'), (3, 'a', 'C'), (3, 'a', 'D'), (3, 'b', 'A'), (3, 'b', 'B'), (3, 'b', 'C'), (3, 'b', 'D'), (3, 'c', 'A'), (3, 'c', 'B'), (3, 'c', 'C'), (3, 'c', 'D'), (3, 'd', 'A'), (3, 'd', 'B'), (3, 'd', 'C'), (3, 'd', 'D'), (4, 'a', 'A'), (4, 'a', 'B'), (4, 'a', 'C'), (4, 'a', 'D'), (4, 'b', 'A'), (4, 'b', 'B'), (4, 'b', 'C'), (4, 'b', 'D'), (4, 'c', 'A'), (4, 'c', 'B'), (4, 'c', 'C'), (4, 'c', 'D'), (4, 'd', 'A'), (4, 'd', 'B'), (4, 'd', 'C'), (4, 'd', 'D')]\n"
     ]
    }
   ],
   "source": [
    "from itertools import product\n",
    "#리스트\n",
    "total_list = [[1,2,3,4],['a','b','c','d'],['A','B','C','D']]\n",
    "#product 사용\n",
    "answer_10 =list( product(*total_list))\n",
    "#결과\n",
    "print(answer_10)"
   ]
  },
  {
   "cell_type": "code",
   "execution_count": 35,
   "metadata": {},
   "outputs": [
    {
     "name": "stdout",
     "output_type": "stream",
     "text": [
      "[('a', 'a'), ('a', 'b'), ('a', 'c'), ('a', 'd'), ('b', 'a'), ('b', 'b'), ('b', 'c'), ('b', 'd'), ('c', 'a'), ('c', 'b'), ('c', 'c'), ('c', 'd'), ('d', 'a'), ('d', 'b'), ('d', 'c'), ('d', 'd')]\n"
     ]
    }
   ],
   "source": [
    "#문자 리스트\n",
    "txt_list = 'abcd'\n",
    "answer_11 =list( product(txt_list,repeat=2) )\n",
    "print(answer_11)"
   ]
  }
 ],
 "metadata": {
  "kernelspec": {
   "display_name": "Python 3",
   "language": "python",
   "name": "python3"
  },
  "language_info": {
   "codemirror_mode": {
    "name": "ipython",
    "version": 3
   },
   "file_extension": ".py",
   "mimetype": "text/x-python",
   "name": "python",
   "nbconvert_exporter": "python",
   "pygments_lexer": "ipython3",
   "version": "3.8.3"
  }
 },
 "nbformat": 4,
 "nbformat_minor": 4
}
