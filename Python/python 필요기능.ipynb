{
 "cells": [
  {
   "cell_type": "markdown",
   "metadata": {},
   "source": [
    "## lambda"
   ]
  },
  {
   "cell_type": "code",
   "execution_count": 1,
   "metadata": {},
   "outputs": [
    {
     "data": {
      "text/plain": [
       "30"
      ]
     },
     "execution_count": 1,
     "metadata": {},
     "output_type": "execute_result"
    }
   ],
   "source": [
    "#lambda 인자 : 표현식\n",
    "fun= lambda x ,y :x + y\n",
    "\n",
    "fun(10,20)"
   ]
  },
  {
   "cell_type": "markdown",
   "metadata": {},
   "source": [
    "## map()"
   ]
  },
  {
   "cell_type": "code",
   "execution_count": null,
   "metadata": {},
   "outputs": [],
   "source": [
    "#map(함수, 리스트)"
   ]
  },
  {
   "cell_type": "code",
   "execution_count": 8,
   "metadata": {},
   "outputs": [
    {
     "name": "stdout",
     "output_type": "stream",
     "text": [
      "[1, 4, 9, 16]\n"
     ]
    }
   ],
   "source": [
    "#예시 1\n",
    "\n",
    "#함수 \n",
    "fun_1 = lambda x :x*x\n",
    "#리스트\n",
    "num_1 = [1,2,3,4]\n",
    "#리스트에 저장\n",
    "answer_1 = list(map(fun_1,num_1))\n",
    "#결과\n",
    "print(answer_1)"
   ]
  },
  {
   "cell_type": "code",
   "execution_count": 35,
   "metadata": {},
   "outputs": [
    {
     "name": "stdout",
     "output_type": "stream",
     "text": [
      "['5', '1', '23', '5', '2']\n"
     ]
    }
   ],
   "source": [
    "#예시2\n",
    "\n",
    "#리스트\n",
    "num_2=[5,1,23,5,2]\n",
    "#리스트 값을 문자로 변환하여 리스트에 저장\n",
    "answer_2 = list(map(str,num_2))\n",
    "#저장\n",
    "print(answer_2)"
   ]
  },
  {
   "cell_type": "markdown",
   "metadata": {},
   "source": [
    "## reduce()"
   ]
  },
  {
   "cell_type": "code",
   "execution_count": null,
   "metadata": {},
   "outputs": [],
   "source": [
    "#reduce(함수, 순서형 자료) - 순서형 자료 = 문자열,list ,tuple"
   ]
  },
  {
   "cell_type": "code",
   "execution_count": 25,
   "metadata": {},
   "outputs": [],
   "source": [
    "#python3부터 내장함수에서 사라짐\n",
    "from functools import reduce"
   ]
  },
  {
   "cell_type": "code",
   "execution_count": 52,
   "metadata": {},
   "outputs": [
    {
     "name": "stdout",
     "output_type": "stream",
     "text": [
      "1200\n"
     ]
    }
   ],
   "source": [
    "#예시1\n",
    "#함수 \n",
    "fun_2 = lambda x,y : x*y\n",
    "# 순서형 자료\n",
    "num_3 = [1,5,2,3,4]\n",
    "#reduce 함수 사용 \n",
    "# 1*5 -> 5*2 ->10*3 -> 30*4\n",
    "answer_3 = reduce(fun_2,num_3,10)\n",
    "#결과\n",
    "print(answer_3)"
   ]
  },
  {
   "cell_type": "code",
   "execution_count": 54,
   "metadata": {},
   "outputs": [
    {
     "name": "stdout",
     "output_type": "stream",
     "text": [
      "enilno1st\n"
     ]
    }
   ],
   "source": [
    "#예시\n",
    "#함수\n",
    "fun_3 = lambda x,y : y+x\n",
    "#순서형 자료\n",
    "txt_1='online'\n",
    "#reduce 함수 사용\n",
    "answer_4 = reduce(fun_3,txt_1,'1st')\n",
    "#결과\n",
    "print(answer_4)"
   ]
  },
  {
   "cell_type": "markdown",
   "metadata": {},
   "source": [
    "## filter()"
   ]
  },
  {
   "cell_type": "code",
   "execution_count": null,
   "metadata": {},
   "outputs": [],
   "source": [
    "#filter(함수, 리스트)"
   ]
  },
  {
   "cell_type": "code",
   "execution_count": 49,
   "metadata": {},
   "outputs": [
    {
     "name": "stdout",
     "output_type": "stream",
     "text": [
      "[3, 5, 2, 1]\n"
     ]
    }
   ],
   "source": [
    "#예시\n",
    "#함수\n",
    "fun_4 = lambda x : x < 10\n",
    "#리스트\n",
    "num_4 = [3,5,13,12,21,34,14,2,43,1]\n",
    "#filter 사용하여 리스트에 저장\n",
    "answer_5 =list( filter(fun_4,num_4) )\n",
    "#결과\n",
    "print(answer_5)"
   ]
  }
 ],
 "metadata": {
  "kernelspec": {
   "display_name": "Python 3",
   "language": "python",
   "name": "python3"
  },
  "language_info": {
   "codemirror_mode": {
    "name": "ipython",
    "version": 3
   },
   "file_extension": ".py",
   "mimetype": "text/x-python",
   "name": "python",
   "nbconvert_exporter": "python",
   "pygments_lexer": "ipython3",
   "version": "3.8.5"
  }
 },
 "nbformat": 4,
 "nbformat_minor": 4
}
