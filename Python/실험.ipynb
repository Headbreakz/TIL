{
 "cells": [
  {
   "cell_type": "code",
   "execution_count": null,
   "metadata": {
    "scrolled": true
   },
   "outputs": [],
   "source": [
    "a = [1,2,3,4,5]\n",
    "print(a[-2:1:-1])"
   ]
  },
  {
   "cell_type": "code",
   "execution_count": null,
   "metadata": {},
   "outputs": [],
   "source": [
    "class Test:\n",
    "    def __init__(self,a):\n",
    "        self.__a = a\n",
    "        _a = __a\n",
    "        return _a\n",
    "        \n",
    "test = Test(3)\n",
    "print(test._a)"
   ]
  },
  {
   "cell_type": "markdown",
   "metadata": {},
   "source": [
    "# _사용하기"
   ]
  },
  {
   "cell_type": "code",
   "execution_count": null,
   "metadata": {
    "scrolled": true
   },
   "outputs": [],
   "source": [
    "# a, _, b = 1, 3, 2 # 특정 값을 skip하고 싶을 때 _ 사용\n",
    "# '''\n",
    "# a = 1 ,   ,b = 2\n",
    "# '''\n",
    "\n",
    "\n",
    "def add(x):\n",
    "    a = x + 1\n",
    "    b = x - 1\n",
    "    return a ,b\n",
    "\n",
    "for i in range(5):\n",
    "    a = add(i) # add(x)에서 return 되는 값 중에서 하나만 받기 원하는 경우\n",
    "    print(a)\n",
    "'''\n",
    "\n",
    "'''\n"
   ]
  },
  {
   "cell_type": "code",
   "execution_count": null,
   "metadata": {},
   "outputs": [],
   "source": [
    "# 과제"
   ]
  },
  {
   "cell_type": "code",
   "execution_count": 2,
   "metadata": {},
   "outputs": [],
   "source": [
    "import numpy as np"
   ]
  },
  {
   "cell_type": "code",
   "execution_count": 3,
   "metadata": {},
   "outputs": [],
   "source": [
    "data_size = 100\n",
    "input_dim = 3"
   ]
  },
  {
   "cell_type": "code",
   "execution_count": null,
   "metadata": {},
   "outputs": [],
   "source": [
    "input_data = np.random.normal(size=(data_size, input_dim))"
   ]
  },
  {
   "cell_type": "code",
   "execution_count": null,
   "metadata": {},
   "outputs": [],
   "source": [
    "output_data_binary = np.random.choice([0, 1], size=(data_size, 1))"
   ]
  },
  {
   "cell_type": "code",
   "execution_count": 22,
   "metadata": {},
   "outputs": [],
   "source": [
    "#초기 가중치 값\n",
    "def NN_weight(x_size,y_size):\n",
    "    weight = np.random.rand(x_size,y_size)\n",
    "    weight = np.transpose(weight)\n",
    "    return weight\n",
    "\n",
    "#활성화 함수 sigmoid\n",
    "def sigmoid(x):\n",
    "    return 1/(1+np.exp(-x))\n",
    "\n",
    "#sigmoid 미분\n",
    "def g_sigmoid(x):\n",
    "    result = sigmoid(x) \n",
    "    return result*(1-result)\n",
    "\n",
    "#2번째 층 역전파\n",
    "def gd(input_value,result,output_value):\n",
    "    error = result - output_value\n",
    "    error2 = g_sigmoid(result)\n",
    "    total_error = error * error2 * input_value\n",
    "    return total_error\n",
    "\n",
    "#1번째 층 역전파\n",
    "def gd2(weight,result,output_value):\n",
    "    error = result - output_value\n",
    "    error2 = g_sigmoid(result)\n",
    "    error3 = sum(weight)\n",
    "    total_error = error * error2 * error3    \n",
    "    return total_error\n",
    "\n"
   ]
  },
  {
   "cell_type": "code",
   "execution_count": 24,
   "metadata": {
    "collapsed": true
   },
   "outputs": [
    {
     "name": "stdout",
     "output_type": "stream",
     "text": [
      "[ 0.68557885 -1.64395482  2.2276003 ]\n",
      "[ 0.73985081 -1.58354479 -0.25188183]\n",
      "[-1.89483289 -2.08861807  3.22106635]\n",
      "[-0.33029932  0.1870469  -1.14582145]\n",
      "[ 0.25207133 -1.0832996  -1.86554571]\n",
      "[-0.61819653  1.22058326  0.55604944]\n",
      "[-1.78966784 -0.31346542  1.93338345]\n",
      "[-0.12023239  0.49169313 -1.71384589]\n",
      "[ 0.98539074  0.93926651 -0.36008968]\n",
      "[ 0.75039846 -0.50013797 -2.36297489]\n",
      "[ 0.4419916   0.69232606 -1.23118382]\n",
      "[-0.8694799   2.53419987 -0.08990004]\n",
      "[ 0.01989394 -0.03087087  0.58662626]\n",
      "[ 0.18713048  0.31126714 -0.13551842]\n",
      "[-0.88927929 -0.20070831 -0.49886332]\n",
      "[ 0.32773524 -0.12361617 -0.88266022]\n",
      "[0.65999078 0.16560455 1.30865547]\n",
      "[-0.72581646 -0.18258016 -1.97429767]\n",
      "[-1.20824454 -0.10398977 -1.08660699]\n",
      "[-0.45052348  0.5155556  -2.21341454]\n",
      "[ 1.53135226  0.65562671 -0.81033476]\n",
      "[0.00416025 1.0426386  2.00212739]\n",
      "[ 0.10146944  0.63821031 -0.1250047 ]\n",
      "[-0.17784667  1.41450038  0.07773544]\n",
      "[ 0.86431989  0.81925478 -0.16424178]\n",
      "[ 0.27865898  0.6570594  -1.87547809]\n",
      "[ 0.74530613 -0.97210661  1.19791103]\n",
      "[0.46463978 1.09775871 2.13587606]\n",
      "[ 0.17536866 -1.25456705 -1.0455834 ]\n",
      "[ 1.03610521  0.7265005  -0.51043139]\n",
      "[ 0.20493388  1.06020127 -1.62053628]\n",
      "[-0.31337155 -0.80624627  0.7630754 ]\n",
      "[ 2.21206256  1.2908766  -2.54033768]\n",
      "[ 1.40221621 -0.3938553   1.23571705]\n",
      "[1.48498521 1.28284734 0.7287121 ]\n",
      "[ 0.82285183 -0.51087783 -1.44882488]\n",
      "[ 1.11682031  1.27846322 -1.37257011]\n",
      "[ 0.52497213  0.48475099 -1.4440459 ]\n",
      "[-0.54080507  1.30656833 -2.23873806]\n",
      "[ 0.77365798 -1.18255535  0.93758932]\n",
      "[-1.215941   -1.04261052  0.94394905]\n",
      "[0.12212797 0.95373567 0.13885005]\n",
      "[ 1.06335079  1.95957684 -0.74182339]\n",
      "[ 0.82884085  1.18885473 -2.01784042]\n",
      "[-0.50319506 -0.76596008  0.0925738 ]\n",
      "[-0.02703227  1.02070681 -2.04011929]\n",
      "[ 0.28674065 -0.71428148 -1.73508996]\n",
      "[-0.13254211 -0.1899178   1.91533142]\n",
      "[-0.54651548 -0.11864004 -0.18367635]\n",
      "[-0.31471532 -0.16565467 -0.31824762]\n",
      "[ 1.57132435  1.28786468 -2.00323013]\n",
      "[ 1.3034849   1.1536911  -0.79970184]\n",
      "[0.11546003 1.29911076 0.13534673]\n",
      "[ 1.14058765 -0.56302313  0.23128924]\n",
      "[-2.11261443  0.24143122  0.39203359]\n",
      "[-0.50309804  0.91485741  0.01311323]\n",
      "[-0.02136526  0.21887407 -0.74646469]\n",
      "[ 0.66183623 -0.13403626  0.03327609]\n",
      "[-0.11728095  0.56267382  0.22702476]\n",
      "[-2.22977677  0.05176379 -0.15485702]\n",
      "[0.37513479 0.68469397 0.40085731]\n",
      "[-0.28614567 -1.39707766 -0.26507237]\n",
      "[ 0.73868838 -0.76349015 -2.07546595]\n",
      "[ 0.66311764  0.71068145 -0.21711594]\n",
      "[-1.87577798  0.69793139  0.54362348]\n",
      "[ 0.17630169 -0.4762764   0.59526278]\n",
      "[-0.40242949  0.85271302 -0.57037478]\n",
      "[ 0.11903106 -1.06111872 -0.2280597 ]\n",
      "[-0.08471346  1.88139259 -0.47385673]\n",
      "[2.32995559 0.42861633 0.42021697]\n",
      "[1.33517953 0.21884581 0.56126616]\n",
      "[ 0.69030368 -0.14057382 -0.09877597]\n",
      "[ 0.33543596 -1.21796533  0.41441022]\n",
      "[-0.20716246  0.07504616  0.21576383]\n",
      "[ 1.34903372  0.39912207 -0.87415959]\n",
      "[ 0.65885171 -0.87730236  0.26383803]\n",
      "[ 1.51822348  1.3102137  -0.67703479]\n",
      "[-0.59610998  0.39720336 -0.43327686]\n",
      "[-1.03208529  0.84742806 -0.0663422 ]\n",
      "[ 1.54902333 -0.28901878 -0.21514304]\n",
      "[-1.66831987 -0.2027979  -0.67572194]\n",
      "[ 0.15770707 -0.33871449  0.18441379]\n",
      "[ 0.20725827 -0.34732993 -2.07680929]\n",
      "[-1.03249898  1.38727884  0.42102506]\n",
      "[ 1.31952715 -1.49055691  1.62665851]\n",
      "[ 1.0552386  -1.63227975  0.21836088]\n",
      "[-0.27684465 -0.51051351  0.48837459]\n",
      "[ 0.65618638  1.77642629 -1.64532587]\n",
      "[ 1.28175187  0.27065677 -0.52636234]\n",
      "[0.47177032 1.14063349 1.15194683]\n",
      "[ 0.72260983 -0.58708911  0.4884021 ]\n",
      "[ 0.0635938   1.90521365 -1.45090722]\n",
      "[ 0.34673091 -1.43380206  2.34749427]\n",
      "[-0.15809919  0.15273086  0.58091054]\n",
      "[-0.39854329  0.28198723 -0.69429301]\n",
      "[ 0.17704325 -0.23692173 -0.78731184]\n",
      "[-0.15406772  1.17253353  0.92847535]\n",
      "[1.46276084 0.56104802 0.25951819]\n",
      "[-1.11339682 -0.79994763  0.06501199]\n",
      "[0.98040416 0.94697975 0.63764074]\n",
      "0.9804041580999928\n",
      "0.946979745505971\n",
      "0.6376407429315754\n"
     ]
    },
    {
     "ename": "TypeError",
     "evalue": "'numpy.float64' object is not iterable",
     "output_type": "error",
     "traceback": [
      "\u001b[1;31m---------------------------------------------------------------------------\u001b[0m",
      "\u001b[1;31mTypeError\u001b[0m                                 Traceback (most recent call last)",
      "\u001b[1;32m<ipython-input-24-372aa8cf0b8d>\u001b[0m in \u001b[0;36m<module>\u001b[1;34m\u001b[0m\n\u001b[0;32m     16\u001b[0m \u001b[1;33m\u001b[0m\u001b[0m\n\u001b[0;32m     17\u001b[0m \u001b[1;32mfor\u001b[0m \u001b[0mi\u001b[0m \u001b[1;32min\u001b[0m \u001b[0mrange\u001b[0m\u001b[1;33m(\u001b[0m\u001b[0mepochs\u001b[0m\u001b[1;33m)\u001b[0m\u001b[1;33m:\u001b[0m\u001b[1;33m\u001b[0m\u001b[1;33m\u001b[0m\u001b[0m\n\u001b[1;32m---> 18\u001b[1;33m     \u001b[1;32mfor\u001b[0m \u001b[0mj\u001b[0m \u001b[1;32min\u001b[0m \u001b[0minput_data\u001b[0m\u001b[1;33m:\u001b[0m\u001b[1;33m\u001b[0m\u001b[1;33m\u001b[0m\u001b[0m\n\u001b[0m\u001b[0;32m     19\u001b[0m         \u001b[0mprint\u001b[0m\u001b[1;33m(\u001b[0m\u001b[0mj\u001b[0m\u001b[1;33m)\u001b[0m\u001b[1;33m\u001b[0m\u001b[1;33m\u001b[0m\u001b[0m\n\u001b[0;32m     20\u001b[0m         \u001b[0minput_data\u001b[0m \u001b[1;33m=\u001b[0m \u001b[0mj\u001b[0m\u001b[1;33m\u001b[0m\u001b[1;33m\u001b[0m\u001b[0m\n",
      "\u001b[1;31mTypeError\u001b[0m: 'numpy.float64' object is not iterable"
     ]
    }
   ],
   "source": [
    "np.random.seed(1818)\n",
    "data_size = 100\n",
    "input_dim = 3\n",
    "learning_rate = 0.01\n",
    "epochs = 5\n",
    "\n",
    "#데이터 input, output\n",
    "input_data = np.random.normal(size=(data_size, input_dim))\n",
    "output_data_binary = np.random.choice([0, 1], size=(data_size, 1))\n",
    "output_data_binary_copy = output_data_binary\n",
    "# output_data = np.random.normal(0, 2, size=(data_size, 1))\n",
    "\n",
    "# weight 값\n",
    "weight_1 = NN_weight(4,3)\n",
    "weight_2 = NN_weight(1,4)\n",
    "\n",
    "for i in range(epochs):    \n",
    "    for j in input_data:\n",
    "        print(j)\n",
    "        input_data = j\n",
    "        x_1 = np.dot(input_data,weight_1)       \n",
    "        x_1_result = sigmoid(x_1_1)\n",
    "\n",
    "        x_2 = np.dot(x_1_result,weight_2)        \n",
    "        x_2_result = sigmoid(x_2_1)\n",
    "\n",
    "        #역전파\n",
    "        #2번째 층\n",
    "        output_data_binary_copy_value = output_data_binary_copy[0]\n",
    "        total_error_1 = gd(x_1_result,x_2_result,output_data_binary_copy_value)\n",
    "        weight_2_2 = weight_2 -  learning_rate * total_error_1\n",
    "\n",
    "        #1번째 층\n",
    "        total_error_2 =gd2(weight_1,x_2_result,output_data_binary_copy_value)\n",
    "        weight_1_2 = weight_1 - learning_rate * total_error_2\n",
    "\n",
    "        # weight 업데이트\n",
    "        weight_2 = weight_2_2\n",
    "        weight_1 = weight_1_2\n",
    "\n",
    "\n",
    "\n",
    "\n",
    "\n",
    "\n"
   ]
  },
  {
   "cell_type": "code",
   "execution_count": 17,
   "metadata": {},
   "outputs": [],
   "source": [
    "input_data = np.random.normal(size=(data_size, input_dim))\n",
    "\n",
    "weight_1 = NN_weight(4,3)\n",
    "weight_2 = NN_weight(1,4)\n",
    "\n",
    "# input_data = input_data[0]\n",
    "x_1 = np.dot(input_data,weight_1)"
   ]
  }
 ],
 "metadata": {
  "kernelspec": {
   "display_name": "Python 3",
   "language": "python",
   "name": "python3"
  },
  "language_info": {
   "codemirror_mode": {
    "name": "ipython",
    "version": 3
   },
   "file_extension": ".py",
   "mimetype": "text/x-python",
   "name": "python",
   "nbconvert_exporter": "python",
   "pygments_lexer": "ipython3",
   "version": "3.9.1"
  }
 },
 "nbformat": 4,
 "nbformat_minor": 4
}
