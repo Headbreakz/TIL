{
 "cells": [
  {
   "cell_type": "code",
   "execution_count": 1,
   "metadata": {},
   "outputs": [
    {
     "name": "stdout",
     "output_type": "stream",
     "text": [
      "10\n",
      "In Function : 20\n"
     ]
    }
   ],
   "source": [
    "def test(t):\n",
    "    print(x)\n",
    "    t = 20\n",
    "    print (\"In Function :\", t)\n",
    "x = 10\n",
    "test(x)"
   ]
  },
  {
   "cell_type": "code",
   "execution_count": 3,
   "metadata": {},
   "outputs": [
    {
     "name": "stdout",
     "output_type": "stream",
     "text": [
      "Before : 10\n",
      "In Function : 20\n",
      "After : 10\n"
     ]
    }
   ],
   "source": [
    "def test(t):\n",
    "    t = 20\n",
    "    print (\"In Function :\", t)\n",
    "x = 10\n",
    "print (\"Before :\", x) # 10\n",
    "test(x) # 함수 호출\n",
    "print (\"After :\", x) # 10 – 함수 내부의 t는 새로운 주소값을 가짐"
   ]
  },
  {
   "cell_type": "code",
   "execution_count": 9,
   "metadata": {},
   "outputs": [
    {
     "name": "stdout",
     "output_type": "stream",
     "text": [
      "0\n",
      "32\n"
     ]
    }
   ],
   "source": [
    "a = [39, 54, 32, 11,5, 99]\n",
    "print(len(a)%2)\n",
    "print(a[2])"
   ]
  },
  {
   "cell_type": "code",
   "execution_count": 19,
   "metadata": {},
   "outputs": [
    {
     "name": "stdout",
     "output_type": "stream",
     "text": [
      "extra   space\n"
     ]
    }
   ],
   "source": [
    "a = \"   EXTRA   SPACE   \"\n",
    "b = a.lower()\n",
    "b = b.strip()\n",
    "b = list(b)\n",
    "print(b)"
   ]
  },
  {
   "cell_type": "code",
   "execution_count": 20,
   "metadata": {
    "collapsed": true
   },
   "outputs": [
    {
     "name": "stdout",
     "output_type": "stream",
     "text": [
      "T\n",
      "h\n",
      "i\n",
      "s\n",
      " \n",
      "i\n",
      "s\n",
      " \n",
      "a\n",
      "n\n",
      " \n",
      "e\n",
      "x\n",
      "a\n",
      "m\n",
      "p\n",
      "l\n",
      "e\n",
      ".\n"
     ]
    }
   ],
   "source": [
    "a = \"This is an example.\"\n",
    "for i in a:\n",
    "    print(i)"
   ]
  },
  {
   "cell_type": "code",
   "execution_count": 21,
   "metadata": {},
   "outputs": [
    {
     "name": "stdout",
     "output_type": "stream",
     "text": [
      "EXTRA SPACE\n"
     ]
    }
   ],
   "source": [
    "copy_input_string =\"   EXTRA   SPACE   \"\n",
    "copy_input_string = copy_input_string.strip()\n",
    "list_copy_input_string = list(copy_input_string)\n",
    "check_point = 0\n",
    "normalized_string = ''\n",
    "for i in list_copy_input_string :        \n",
    "    if i == ' ' and check_point == 0:\n",
    "        check_point = 1\n",
    "        normalized_string += i\n",
    "    elif i == ' ' and check_point == 1:\n",
    "        continue\n",
    "    else:\n",
    "        check_point = 0\n",
    "        normalized_string += i\n",
    "\n",
    "print(normalized_string)"
   ]
  },
  {
   "cell_type": "code",
   "execution_count": 37,
   "metadata": {},
   "outputs": [
    {
     "name": "stdout",
     "output_type": "stream",
     "text": [
      "one nine one zero four\n"
     ]
    }
   ],
   "source": [
    "\n",
    "input_string = \"Zip Code: 19104\"\n",
    "list_alphabet = ['zero','one','two','three','four','five','six','seven','eight','nine']\n",
    "digit_string =''\n",
    "for i in input_string:\n",
    "    if i.isdigit() == True :\n",
    "        digit_string += list_alphabet[int(i)]+' '\n",
    "if len(digit_string) > 0:\n",
    "        digit_string = digit_string[:len(digit_string)-1]\n",
    "print(digit_string)"
   ]
  },
  {
   "cell_type": "code",
   "execution_count": 43,
   "metadata": {},
   "outputs": [
    {
     "name": "stdout",
     "output_type": "stream",
     "text": [
      "00\n"
     ]
    }
   ],
   "source": [
    "a = \"alreadyCamel\"\n",
    "if '_' not in a :\n",
    "    print(\"00\")"
   ]
  },
  {
   "cell_type": "code",
   "execution_count": 50,
   "metadata": {},
   "outputs": [],
   "source": [
    "underscore_str = \"__EXAMPLE__NAME__NANN\"\n",
    "camelcase_str = ''\n",
    "check_point = 0\n",
    "for i in underscore_str :\n",
    "    if i.isalpha() and check_point == 0 :\n",
    "        check_point = 1\n",
    "        camelcase_str += i.lower()\n",
    "    elif i.isalpha() and check_point == 1 :        \n",
    "        camelcase_str += i.lower()       \n",
    "    elif i == '_' and check_point == 1 :\n",
    "        check_point = 2        \n",
    "    elif i.isalpha() and check_point == 2 :\n",
    "        check_point = 1\n",
    "        camelcase_str += i.upper()"
   ]
  },
  {
   "cell_type": "code",
   "execution_count": 51,
   "metadata": {
    "scrolled": false
   },
   "outputs": [
    {
     "data": {
      "text/plain": [
       "'exampleNameNann'"
      ]
     },
     "execution_count": 51,
     "metadata": {},
     "output_type": "execute_result"
    }
   ],
   "source": [
    "camelcase_str"
   ]
  },
  {
   "cell_type": "code",
   "execution_count": 56,
   "metadata": {},
   "outputs": [],
   "source": [
    "user_input_number = \"742\"\n",
    "random_number = \"472\""
   ]
  },
  {
   "cell_type": "code",
   "execution_count": 57,
   "metadata": {},
   "outputs": [
    {
     "name": "stdout",
     "output_type": "stream",
     "text": [
      "[1, 2]\n"
     ]
    }
   ],
   "source": [
    "result = [0,0]\n",
    "for i in range(3) :\n",
    "    if user_input_number[i] == random_number[i] :\n",
    "        result[0] += 1\n",
    "    elif user_input_number[i] != random_number[i] and user_input_number[i] in random_number :\n",
    "        result[1] += 1\n",
    "\n",
    "print(result)"
   ]
  },
  {
   "cell_type": "code",
   "execution_count": 62,
   "metadata": {},
   "outputs": [],
   "source": [
    "import random\n",
    "def get_random_number():\n",
    "    # Helper Function - 지우지 말 것\n",
    "    # 100부터 999까지 수를 램덤하게 반환함\n",
    "    return random.randrange(100, 1000)"
   ]
  },
  {
   "cell_type": "code",
   "execution_count": 94,
   "metadata": {},
   "outputs": [
    {
     "name": "stdout",
     "output_type": "stream",
     "text": [
      "896\n"
     ]
    }
   ],
   "source": [
    "a = get_random_number()\n",
    "check_point = False\n",
    "result = 0\n",
    "while check_point == False :\n",
    "    check_number = str(get_random_number())\n",
    "    check_list_number = []\n",
    "    for i in range(3):\n",
    "        if check_number[i] not in check_list_number :\n",
    "            check_list_number.append(check_number[i])\n",
    "    if len(check_list_number) == 3 :\n",
    "        result = check_number\n",
    "        check_point = True    \n",
    "# ==================================\n",
    "print(result)"
   ]
  }
 ],
 "metadata": {
  "kernelspec": {
   "display_name": "Python 3",
   "language": "python",
   "name": "python3"
  },
  "language_info": {
   "codemirror_mode": {
    "name": "ipython",
    "version": 3
   },
   "file_extension": ".py",
   "mimetype": "text/x-python",
   "name": "python",
   "nbconvert_exporter": "python",
   "pygments_lexer": "ipython3",
   "version": "3.8.3"
  }
 },
 "nbformat": 4,
 "nbformat_minor": 4
}
