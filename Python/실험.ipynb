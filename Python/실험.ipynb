{
 "cells": [
  {
   "cell_type": "code",
   "execution_count": 2,
   "metadata": {},
   "outputs": [],
   "source": [
    "def func(a ,b= []):\n",
    "\tb.append(a)\n",
    "\tprint(b)\n",
    "# \treturn b"
   ]
  },
  {
   "cell_type": "code",
   "execution_count": null,
   "metadata": {},
   "outputs": [],
   "source": []
  },
  {
   "cell_type": "code",
   "execution_count": 3,
   "metadata": {
    "scrolled": true
   },
   "outputs": [
    {
     "name": "stdout",
     "output_type": "stream",
     "text": [
      "[3]\n",
      "[3, 4]\n"
     ]
    }
   ],
   "source": [
    "func(3,)\n",
    "func(4,)"
   ]
  },
  {
   "cell_type": "code",
   "execution_count": 4,
   "metadata": {},
   "outputs": [
    {
     "name": "stdout",
     "output_type": "stream",
     "text": [
      "[3, 4, 10]\n"
     ]
    }
   ],
   "source": [
    "t = func(10)"
   ]
  },
  {
   "cell_type": "markdown",
   "metadata": {},
   "source": [
    "# _사용하기"
   ]
  },
  {
   "cell_type": "code",
   "execution_count": null,
   "metadata": {
    "scrolled": true
   },
   "outputs": [],
   "source": [
    "# a, _, b = 1, 3, 2 # 특정 값을 skip하고 싶을 때 _ 사용\n",
    "# '''\n",
    "# a = 1 ,   ,b = 2\n",
    "# '''\n",
    "\n",
    "\n",
    "def add(x):\n",
    "    a = x + 1\n",
    "    b = x - 1\n",
    "    return a ,b\n",
    "\n",
    "for i in range(5):\n",
    "    a = add(i) # add(x)에서 return 되는 값 중에서 하나만 받기 원하는 경우\n",
    "    print(a)\n",
    "'''\n",
    "\n",
    "'''\n"
   ]
  },
  {
   "cell_type": "code",
   "execution_count": null,
   "metadata": {},
   "outputs": [],
   "source": [
    "# 과제"
   ]
  },
  {
   "cell_type": "code",
   "execution_count": 1,
   "metadata": {},
   "outputs": [],
   "source": [
    "import numpy as np"
   ]
  },
  {
   "cell_type": "code",
   "execution_count": 2,
   "metadata": {},
   "outputs": [],
   "source": [
    "data_size = 100\n",
    "input_dim = 3"
   ]
  },
  {
   "cell_type": "code",
   "execution_count": 3,
   "metadata": {},
   "outputs": [],
   "source": [
    "input_data = np.random.normal(size=(data_size, input_dim))"
   ]
  },
  {
   "cell_type": "code",
   "execution_count": 4,
   "metadata": {},
   "outputs": [],
   "source": [
    "output_data_binary = np.random.choice([0, 1], size=(data_size, 1))"
   ]
  },
  {
   "cell_type": "code",
   "execution_count": 34,
   "metadata": {},
   "outputs": [],
   "source": [
    "#초기 가중치 값\n",
    "def NN_weight(x_size,y_size):\n",
    "    weight = np.random.rand(x_size,y_size)\n",
    "#     weight = np.transpose(weight)\n",
    "    return weight\n",
    "\n",
    "#활성화 함수 sigmoid\n",
    "def sigmoid(x):\n",
    "    return 1/(1+np.exp(-x))\n",
    "\n",
    "#sigmoid 미분\n",
    "def g_sigmoid(x):\n",
    "    result = sigmoid(x) \n",
    "    return result*(1-result)\n",
    "\n",
    "#2번째 층 역전파\n",
    "def gd(input_value,result,output_value):\n",
    "    error = result - output_value\n",
    "    error2 = g_sigmoid(result)\n",
    "    total_error = error * error2 * input_value\n",
    "    return total_error\n",
    "\n",
    "#1번째 층 역전파\n",
    "def gd2(weight,result,output_value):\n",
    "    error = result - output_value\n",
    "    error2 = g_sigmoid(result)\n",
    "    error3 = sum(weight)\n",
    "    total_error = error * error2 * error3    \n",
    "    return total_error\n",
    "\n"
   ]
  },
  {
   "cell_type": "code",
   "execution_count": 40,
   "metadata": {},
   "outputs": [
    {
     "name": "stdout",
     "output_type": "stream",
     "text": [
      "[[0.71256851 0.65096421 0.55515276]\n",
      " [0.97381289 0.56757349 0.89981307]\n",
      " [0.23873919 0.81243772 0.97260196]\n",
      " [0.82455345 0.22914407 0.38316227]]\n",
      "[ 0.68557885 -1.64395482  2.2276003 ]\n"
     ]
    },
    {
     "ename": "ValueError",
     "evalue": "shapes (4,) and (1,4) not aligned: 4 (dim 0) != 1 (dim 0)",
     "output_type": "error",
     "traceback": [
      "\u001b[1;31m---------------------------------------------------------------------------\u001b[0m",
      "\u001b[1;31mValueError\u001b[0m                                Traceback (most recent call last)",
      "\u001b[1;32m<ipython-input-40-1c1f06734130>\u001b[0m in \u001b[0;36m<module>\u001b[1;34m\u001b[0m\n\u001b[0;32m     25\u001b[0m \u001b[0mx_1_result\u001b[0m \u001b[1;33m=\u001b[0m \u001b[0msigmoid\u001b[0m\u001b[1;33m(\u001b[0m\u001b[0mx_1\u001b[0m\u001b[1;33m)\u001b[0m\u001b[1;33m\u001b[0m\u001b[1;33m\u001b[0m\u001b[0m\n\u001b[0;32m     26\u001b[0m \u001b[1;33m\u001b[0m\u001b[0m\n\u001b[1;32m---> 27\u001b[1;33m \u001b[0mx_2\u001b[0m \u001b[1;33m=\u001b[0m \u001b[0mnp\u001b[0m\u001b[1;33m.\u001b[0m\u001b[0mdot\u001b[0m\u001b[1;33m(\u001b[0m\u001b[0mx_1_result\u001b[0m\u001b[1;33m,\u001b[0m\u001b[0mweight_2\u001b[0m\u001b[1;33m)\u001b[0m\u001b[1;33m\u001b[0m\u001b[1;33m\u001b[0m\u001b[0m\n\u001b[0m\u001b[0;32m     28\u001b[0m \u001b[0mx_2_result\u001b[0m \u001b[1;33m=\u001b[0m \u001b[0msigmoid\u001b[0m\u001b[1;33m(\u001b[0m\u001b[0mx_2\u001b[0m\u001b[1;33m)\u001b[0m\u001b[1;33m\u001b[0m\u001b[1;33m\u001b[0m\u001b[0m\n\u001b[0;32m     29\u001b[0m \u001b[1;33m\u001b[0m\u001b[0m\n",
      "\u001b[1;32m<__array_function__ internals>\u001b[0m in \u001b[0;36mdot\u001b[1;34m(*args, **kwargs)\u001b[0m\n",
      "\u001b[1;31mValueError\u001b[0m: shapes (4,) and (1,4) not aligned: 4 (dim 0) != 1 (dim 0)"
     ]
    }
   ],
   "source": [
    "np.random.seed(1818)\n",
    "data_size = 100\n",
    "input_dim = 3\n",
    "learning_rate = 0.01\n",
    "epochs = 5\n",
    "\n",
    "#데이터 input, output\n",
    "input_data = np.random.normal(size=(data_size, input_dim))\n",
    "output_data_binary = np.random.choice([0, 1], size=(data_size, 1))\n",
    "output_data_binary_copy = output_data_binary\n",
    "# output_data = np.random.normal(0, 2, size=(data_size, 1))\n",
    "\n",
    "# weight 값\n",
    "weight_1 = NN_weight(4,3)\n",
    "weight_2 = NN_weight(1,4)\n",
    "\n",
    "\n",
    "# for i in range(epochs):    \n",
    "#     for j in input_data:\n",
    "        \n",
    "input_data = input_data[0]\n",
    "x_1 = np.dot(weight_1,input_data)       \n",
    "x_1_result = sigmoid(x_1)\n",
    "\n",
    "x_2 = np.dot(x_1_result,weight_2)        \n",
    "x_2_result = sigmoid(x_2)\n",
    "\n",
    "#역전파\n",
    "#2번째 층\n",
    "output_data_binary_copy_value = output_data_binary_copy[0]\n",
    "total_error_1 = gd(x_1_result,x_2_result,output_data_binary_copy_value)\n",
    "weight_2_2 = weight_2 -  learning_rate * total_error_1\n",
    "\n",
    "#1번째 층\n",
    "total_error_2 =gd2(weight_1,x_2_result,output_data_binary_copy_value)\n",
    "weight_1_2 = weight_1 - learning_rate * total_error_2\n",
    "\n",
    "# weight 업데이트\n",
    "weight_2 = weight_2_2\n",
    "weight_1 = weight_1_2\n",
    "\n",
    "\n",
    "\n",
    "\n",
    "\n",
    "\n",
    "\n"
   ]
  },
  {
   "cell_type": "code",
   "execution_count": 33,
   "metadata": {
    "scrolled": true
   },
   "outputs": [
    {
     "ename": "TypeError",
     "evalue": "unsupported operand type(s) for -: 'list' and 'list'",
     "output_type": "error",
     "traceback": [
      "\u001b[1;31m---------------------------------------------------------------------------\u001b[0m",
      "\u001b[1;31mTypeError\u001b[0m                                 Traceback (most recent call last)",
      "\u001b[1;32m<ipython-input-33-3ba925faecc3>\u001b[0m in \u001b[0;36m<module>\u001b[1;34m\u001b[0m\n\u001b[0;32m      1\u001b[0m \u001b[0ma\u001b[0m \u001b[1;33m=\u001b[0m \u001b[1;33m[\u001b[0m\u001b[1;33m[\u001b[0m\u001b[1;36m1\u001b[0m\u001b[1;33m]\u001b[0m\u001b[1;33m,\u001b[0m\u001b[1;33m[\u001b[0m\u001b[1;36m2\u001b[0m\u001b[1;33m]\u001b[0m\u001b[1;33m,\u001b[0m\u001b[1;33m[\u001b[0m\u001b[1;36m3\u001b[0m\u001b[1;33m]\u001b[0m\u001b[1;33m,\u001b[0m\u001b[1;33m[\u001b[0m\u001b[1;36m4\u001b[0m\u001b[1;33m]\u001b[0m\u001b[1;33m]\u001b[0m\u001b[1;33m\u001b[0m\u001b[1;33m\u001b[0m\u001b[0m\n\u001b[0;32m      2\u001b[0m \u001b[0mb\u001b[0m \u001b[1;33m=\u001b[0m \u001b[1;33m[\u001b[0m\u001b[1;33m[\u001b[0m\u001b[1;36m3\u001b[0m\u001b[1;33m]\u001b[0m\u001b[1;33m,\u001b[0m\u001b[1;33m[\u001b[0m\u001b[1;36m4\u001b[0m\u001b[1;33m]\u001b[0m\u001b[1;33m,\u001b[0m\u001b[1;33m[\u001b[0m\u001b[1;36m5\u001b[0m\u001b[1;33m]\u001b[0m\u001b[1;33m,\u001b[0m\u001b[1;33m[\u001b[0m\u001b[1;36m6\u001b[0m\u001b[1;33m]\u001b[0m\u001b[1;33m]\u001b[0m\u001b[1;33m\u001b[0m\u001b[1;33m\u001b[0m\u001b[0m\n\u001b[1;32m----> 3\u001b[1;33m \u001b[0mc\u001b[0m \u001b[1;33m=\u001b[0m \u001b[0mb\u001b[0m\u001b[1;33m-\u001b[0m\u001b[0ma\u001b[0m\u001b[1;33m\u001b[0m\u001b[1;33m\u001b[0m\u001b[0m\n\u001b[0m",
      "\u001b[1;31mTypeError\u001b[0m: unsupported operand type(s) for -: 'list' and 'list'"
     ]
    }
   ],
   "source": [
    "a = [[1],[2],[3],[4]]\n",
    "b = [[3],[4],[5],[6]]\n",
    "c = b-a"
   ]
  },
  {
   "cell_type": "code",
   "execution_count": 17,
   "metadata": {},
   "outputs": [],
   "source": [
    "input_data = np.random.normal(size=(data_size, input_dim))\n",
    "\n",
    "weight_1 = NN_weight(4,3)\n",
    "weight_2 = NN_weight(1,4)\n",
    "\n",
    "# input_data = input_data[0]\n",
    "x_1 = np.dot(input_data,weight_1)"
   ]
  }
 ],
 "metadata": {
  "kernelspec": {
   "display_name": "Python 3",
   "language": "python",
   "name": "python3"
  },
  "language_info": {
   "codemirror_mode": {
    "name": "ipython",
    "version": 3
   },
   "file_extension": ".py",
   "mimetype": "text/x-python",
   "name": "python",
   "nbconvert_exporter": "python",
   "pygments_lexer": "ipython3",
   "version": "3.9.1"
  }
 },
 "nbformat": 4,
 "nbformat_minor": 4
}
