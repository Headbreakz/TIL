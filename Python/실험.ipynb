{
 "cells": [
  {
   "cell_type": "code",
   "execution_count": 2,
   "metadata": {},
   "outputs": [],
   "source": [
    "participant = ['leo', 'kiki', 'eden']\n",
    "completion = ['leo']"
   ]
  },
  {
   "cell_type": "code",
   "execution_count": 5,
   "metadata": {},
   "outputs": [
    {
     "name": "stdout",
     "output_type": "stream",
     "text": [
      "{'kiki': 1, 'eden': 1}\n",
      "['kiki', 'eden']\n"
     ]
    }
   ],
   "source": [
    "\n",
    "a ={}\n",
    "\n",
    "for i in participant:\n",
    "    if a.get(i) == None:\n",
    "        a[i] = 1\n",
    "    else :\n",
    "        a[i] += 1\n",
    "for j in completion:\n",
    "    if a.get(j) != None :\n",
    "        a[j] -= 1\n",
    "        if a[j] == 0:\n",
    "            del a[j]\n",
    "\n",
    "print(a)\n",
    "print(list(a.keys()))"
   ]
  }
 ],
 "metadata": {
  "kernelspec": {
   "display_name": "Python 3",
   "language": "python",
   "name": "python3"
  },
  "language_info": {
   "codemirror_mode": {
    "name": "ipython",
    "version": 3
   },
   "file_extension": ".py",
   "mimetype": "text/x-python",
   "name": "python",
   "nbconvert_exporter": "python",
   "pygments_lexer": "ipython3",
   "version": "3.8.3"
  }
 },
 "nbformat": 4,
 "nbformat_minor": 4
}
