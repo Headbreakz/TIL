{
 "cells": [
  {
   "cell_type": "code",
   "execution_count": 11,
   "metadata": {},
   "outputs": [
    {
     "name": "stdout",
     "output_type": "stream",
     "text": [
      "4 199\n"
     ]
    }
   ],
   "source": [
    "ret1,ret2=divmod(1123,231)\n",
    "\n",
    "print(ret1,ret2) #몫 , 나머지"
   ]
  },
  {
   "cell_type": "code",
   "execution_count": 12,
   "metadata": {},
   "outputs": [
    {
     "name": "stdout",
     "output_type": "stream",
     "text": [
      "0x61\n",
      "97\n"
     ]
    }
   ],
   "source": [
    "num1=hex(97) # 16진수 문자열\n",
    "\n",
    "print(num1)\n",
    "\n",
    "a_num1=int(num1,16) #16진수 10진수\n",
    "\n",
    "print(a_num1)"
   ]
  },
  {
   "cell_type": "code",
   "execution_count": 13,
   "metadata": {},
   "outputs": [
    {
     "name": "stdout",
     "output_type": "stream",
     "text": [
      "0b1100001\n",
      "97\n"
     ]
    }
   ],
   "source": [
    "num2 = bin(97) #2진수 문자열\n",
    "\n",
    "print(num2)\n",
    "\n",
    "a_num2=int(num2,2) #2진수 10진수\n",
    "\n",
    "print(a_num2)"
   ]
  },
  {
   "cell_type": "code",
   "execution_count": 14,
   "metadata": {},
   "outputs": [
    {
     "name": "stdout",
     "output_type": "stream",
     "text": [
      "3\n",
      "1\n",
      "12300\n",
      "1.23\n"
     ]
    }
   ],
   "source": [
    "abs1 = abs(-3) #abs 절대값\n",
    "print(abs1)\n",
    "\n",
    "\n",
    "round1=round(1.23123) #소수 첫째자리 반올림\n",
    "print(round1)\n",
    "round2=round(12342,-2) #2자리 반올림\n",
    "print(round2)\n",
    "round3=round(1.2314,2) #소수 둘째자리 반올림\n",
    "print(round3)"
   ]
  },
  {
   "cell_type": "code",
   "execution_count": 15,
   "metadata": {},
   "outputs": [
    {
     "name": "stdout",
     "output_type": "stream",
     "text": [
      "[1231, 1223, 3123]\n"
     ]
    }
   ],
   "source": [
    "#소수인지 아닌지 확인\n",
    "def check_num(x):\n",
    "    for i in range(2,x-1):\n",
    "        if x%i ==0:\n",
    "            break\n",
    "        else :\n",
    "            return x\n",
    "        \n",
    "data=[1231,1223,112,3123]\n",
    "\n",
    "result=filter(check_num,data) #filter는 첫번째 인자는 특정조건의 함수, \n",
    "                              # 두번째 인자는 리스트와 같은 반복 자료 \n",
    "\n",
    "print(list(result))    "
   ]
  },
  {
   "cell_type": "code",
   "execution_count": 16,
   "metadata": {},
   "outputs": [
    {
     "name": "stdout",
     "output_type": "stream",
     "text": [
      "True\n",
      "True\n"
     ]
    }
   ],
   "source": [
    "txt1='a'\n",
    "\n",
    "result_txt=txt1.isalpha() #isalpha 문자열이 알파벳인지 검사\n",
    "\n",
    "print(result_txt)\n",
    "\n",
    "txt2='1242'\n",
    "\n",
    "result_txt2=txt2.isdigit() #isdigit 문자열이 숫자인지 검사\n",
    "\n",
    "print(result_txt2)"
   ]
  },
  {
   "cell_type": "code",
   "execution_count": 17,
   "metadata": {},
   "outputs": [
    {
     "name": "stdout",
     "output_type": "stream",
     "text": [
      "공백을 만들어보자 \n",
      " 공백을 만들어보자\n",
      "공백을 만들어보자\n"
     ]
    }
   ],
   "source": [
    "txt = ' 공백을 만들어보자 '\n",
    "\n",
    "a = txt.lstrip() #왼쪽 공백제거\n",
    "b = txt.rstrip() #오른쪽 공백제거\n",
    "c = txt.strip()  #모두 제거\n",
    "\n",
    "print(a)\n",
    "print(b)\n",
    "print(c)"
   ]
  },
  {
   "cell_type": "code",
   "execution_count": 18,
   "metadata": {},
   "outputs": [
    {
     "name": "stdout",
     "output_type": "stream",
     "text": [
      "1\n",
      "12\n",
      "24\n"
     ]
    }
   ],
   "source": [
    "txt = 'His palms are sweaty, knees weak, arms are heavy'\n",
    "\n",
    "a=txt.count('i') #count를 통해 i 의 개수 확인\n",
    "\n",
    "print(a)\n",
    "\n",
    "b=txt.find('e') #find 함수를 통해 e가 처음으로 나타는 위치\n",
    "\n",
    "print(b)\n",
    "\n",
    "c=txt.find('e',20) #20번 인덱스 이후 e의 위치\n",
    "\n",
    "print(c)\n"
   ]
  },
  {
   "cell_type": "code",
   "execution_count": 19,
   "metadata": {},
   "outputs": [
    {
     "name": "stdout",
     "output_type": "stream",
     "text": [
      "HIS palms are sweaty, knees weak, arms are heavy\n"
     ]
    }
   ],
   "source": [
    "txt = 'His palms are sweaty, knees weak, arms are heavy'\n",
    "\n",
    "a = txt.replace('His','HIS') # replace를 통해 문자열 변화\n",
    "\n",
    "print(a)"
   ]
  },
  {
   "cell_type": "code",
   "execution_count": 21,
   "metadata": {},
   "outputs": [
    {
     "name": "stdout",
     "output_type": "stream",
     "text": [
      "[5, 4, 3, 2, 1]\n"
     ]
    }
   ],
   "source": [
    "list_a=[1,2,3,4,5]\n",
    "\n",
    "list_a.reverse() #리스트 역순\n",
    "\n",
    "print(list_a)"
   ]
  },
  {
   "cell_type": "code",
   "execution_count": 23,
   "metadata": {},
   "outputs": [
    {
     "name": "stdout",
     "output_type": "stream",
     "text": [
      "[1, 2, 3, 4, 5, 6]\n",
      "[1, 2, 3, 9, 4, 5, 6]\n",
      "[1, 2, 9, 4, 5, 6]\n",
      "[1, 9, 4, 5, 6]\n"
     ]
    }
   ],
   "source": [
    "list_a=[1,2,3,4,5]\n",
    "\n",
    "list_a.append(6) #추가\n",
    "\n",
    "print(list_a)\n",
    "\n",
    "list_a.insert(3,9) #3번 인덱스에 9 추가\n",
    "\n",
    "print(list_a)\n",
    "\n",
    "del list_a[2] #2번 인덱스 제거\n",
    "\n",
    "print(list_a)\n",
    "\n",
    "list_a.remove(2) # 2 제거 인덱스상 첫번째 삭제\n",
    "\n",
    "print(list_a)\n"
   ]
  },
  {
   "cell_type": "code",
   "execution_count": 24,
   "metadata": {},
   "outputs": [
    {
     "name": "stdout",
     "output_type": "stream",
     "text": [
      "['dfc', 'ea', 'fdb', 'gfd', 'gfe']\n"
     ]
    }
   ],
   "source": [
    "str_a = ['ea','fdb','dfc','gfd','gfe']\n",
    "\n",
    "str_a.sort() #정렬\n",
    "\n",
    "print(str_a)"
   ]
  },
  {
   "cell_type": "code",
   "execution_count": 25,
   "metadata": {},
   "outputs": [
    {
     "name": "stdout",
     "output_type": "stream",
     "text": [
      "['dfc', 'ea', 'fdb', 'gfd', 'gfe']\n"
     ]
    }
   ],
   "source": [
    "str_a = ['ea','fdb','dfc','gfd','gfe']\n",
    "\n",
    "result=sorted(str_a)\n",
    "\n",
    "print(result)"
   ]
  },
  {
   "cell_type": "code",
   "execution_count": 30,
   "metadata": {},
   "outputs": [
    {
     "name": "stdout",
     "output_type": "stream",
     "text": [
      "[(0, 'ea'), (1, 'fdb'), (2, 'dfc'), (3, 'gfd'), (4, 'gfe')]\n",
      "(0, 'ea')\n"
     ]
    }
   ],
   "source": [
    "str_a = ['ea','fdb','dfc','gfd','gfe']\n",
    "\n",
    "result=list(enumerate(str_a))\n",
    "\n",
    "print(result)\n",
    "print(result[0])"
   ]
  }
 ],
 "metadata": {
  "kernelspec": {
   "display_name": "Python 3",
   "language": "python",
   "name": "python3"
  },
  "language_info": {
   "codemirror_mode": {
    "name": "ipython",
    "version": 3
   },
   "file_extension": ".py",
   "mimetype": "text/x-python",
   "name": "python",
   "nbconvert_exporter": "python",
   "pygments_lexer": "ipython3",
   "version": "3.8.5"
  }
 },
 "nbformat": 4,
 "nbformat_minor": 4
}
