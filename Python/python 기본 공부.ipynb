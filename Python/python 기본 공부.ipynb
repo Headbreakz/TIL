{
 "cells": [
  {
   "cell_type": "code",
   "execution_count": 8,
   "metadata": {},
   "outputs": [],
   "source": [
    "a = 12\n",
    "b = 23\n",
    "\n",
    "c = a|b"
   ]
  },
  {
   "cell_type": "code",
   "execution_count": 11,
   "metadata": {},
   "outputs": [
    {
     "name": "stdout",
     "output_type": "stream",
     "text": [
      "4 199\n"
     ]
    }
   ],
   "source": [
    "ret1,ret2=divmod(1123,231)\n",
    "\n",
    "print(ret1,ret2) #몫 , 나머지"
   ]
  },
  {
   "cell_type": "code",
   "execution_count": 12,
   "metadata": {},
   "outputs": [
    {
     "name": "stdout",
     "output_type": "stream",
     "text": [
      "0x61\n",
      "97\n"
     ]
    }
   ],
   "source": [
    "num1=hex(97) # 16진수 문자열\n",
    "\n",
    "print(num1)\n",
    "\n",
    "a_num1=int(num1,16) #16진수 10진수\n",
    "\n",
    "print(a_num1)"
   ]
  },
  {
   "cell_type": "code",
   "execution_count": 13,
   "metadata": {},
   "outputs": [
    {
     "name": "stdout",
     "output_type": "stream",
     "text": [
      "0b1100001\n",
      "97\n"
     ]
    }
   ],
   "source": [
    "num2 = bin(97) #2진수 문자열\n",
    "\n",
    "print(num2)\n",
    "\n",
    "a_num2=int(num2,2) #2진수 10진수\n",
    "\n",
    "print(a_num2)"
   ]
  },
  {
   "cell_type": "code",
   "execution_count": 14,
   "metadata": {},
   "outputs": [
    {
     "name": "stdout",
     "output_type": "stream",
     "text": [
      "3\n",
      "1\n",
      "12300\n",
      "1.23\n"
     ]
    }
   ],
   "source": [
    "abs1 = abs(-3) #abs 절대값\n",
    "print(abs1)\n",
    "\n",
    "\n",
    "round1=round(1.23123) #소수 첫째자리 반올림\n",
    "print(round1)\n",
    "round2=round(12342,-2) #2자리 반올림\n",
    "print(round2)\n",
    "round3=round(1.2314,2) #소수 둘째자리 반올림\n",
    "print(round3)"
   ]
  },
  {
   "cell_type": "code",
   "execution_count": 15,
   "metadata": {},
   "outputs": [
    {
     "name": "stdout",
     "output_type": "stream",
     "text": [
      "[1231, 1223, 3123]\n"
     ]
    }
   ],
   "source": [
    "#소수인지 아닌지 확인\n",
    "def check_num(x):\n",
    "    for i in range(2,x-1):\n",
    "        if x%i ==0:\n",
    "            break\n",
    "        else :\n",
    "            return x\n",
    "        \n",
    "data=[1231,1223,112,3123]\n",
    "\n",
    "result=filter(check_num,data) #filter는 첫번째 인자는 특정조건의 함수, \n",
    "                              # 두번째 인자는 리스트와 같은 반복 자료 \n",
    "\n",
    "print(list(result))    "
   ]
  },
  {
   "cell_type": "code",
   "execution_count": 16,
   "metadata": {},
   "outputs": [
    {
     "name": "stdout",
     "output_type": "stream",
     "text": [
      "True\n",
      "True\n"
     ]
    }
   ],
   "source": [
    "txt1='a'\n",
    "\n",
    "result_txt=txt1.isalpha() #isalpha 문자열이 알파벳인지 검사\n",
    "\n",
    "print(result_txt)\n",
    "\n",
    "txt2='1242'\n",
    "\n",
    "result_txt2=txt2.isdigit() #isdigit 문자열이 숫자인지 검사\n",
    "\n",
    "print(result_txt2)"
   ]
  },
  {
   "cell_type": "code",
   "execution_count": 17,
   "metadata": {},
   "outputs": [
    {
     "name": "stdout",
     "output_type": "stream",
     "text": [
      "공백을 만들어보자 \n",
      " 공백을 만들어보자\n",
      "공백을 만들어보자\n"
     ]
    }
   ],
   "source": [
    "txt = ' 공백을 만들어보자 '\n",
    "\n",
    "a = txt.lstrip() #왼쪽 공백제거\n",
    "b = txt.rstrip() #오른쪽 공백제거\n",
    "c = txt.strip()  #모두 제거\n",
    "\n",
    "print(a)\n",
    "print(b)\n",
    "print(c)"
   ]
  },
  {
   "cell_type": "code",
   "execution_count": 18,
   "metadata": {},
   "outputs": [
    {
     "name": "stdout",
     "output_type": "stream",
     "text": [
      "1\n",
      "12\n",
      "24\n"
     ]
    }
   ],
   "source": [
    "txt = 'His palms are sweaty, knees weak, arms are heavy'\n",
    "\n",
    "a=txt.count('i') #count를 통해 i 의 개수 확인\n",
    "\n",
    "print(a)\n",
    "\n",
    "b=txt.find('e') #find 함수를 통해 e가 처음으로 나타는 위치\n",
    "\n",
    "print(b)\n",
    "\n",
    "c=txt.find('e',20) #20번 인덱스 이후 e의 위치\n",
    "\n",
    "print(c)\n"
   ]
  },
  {
   "cell_type": "code",
   "execution_count": 19,
   "metadata": {},
   "outputs": [
    {
     "name": "stdout",
     "output_type": "stream",
     "text": [
      "HIS palms are sweaty, knees weak, arms are heavy\n"
     ]
    }
   ],
   "source": [
    "txt = 'His palms are sweaty, knees weak, arms are heavy'\n",
    "\n",
    "a = txt.replace('His','HIS') # replace를 통해 문자열 변화\n",
    "\n",
    "print(a)"
   ]
  },
  {
   "cell_type": "code",
   "execution_count": 21,
   "metadata": {},
   "outputs": [
    {
     "name": "stdout",
     "output_type": "stream",
     "text": [
      "[5, 4, 3, 2, 1]\n"
     ]
    }
   ],
   "source": [
    "list_a=[1,2,3,4,5]\n",
    "\n",
    "list_a.reverse() #리스트 역순\n",
    "\n",
    "print(list_a)"
   ]
  },
  {
   "cell_type": "code",
   "execution_count": 23,
   "metadata": {},
   "outputs": [
    {
     "name": "stdout",
     "output_type": "stream",
     "text": [
      "[1, 2, 3, 4, 5, 6]\n",
      "[1, 2, 3, 9, 4, 5, 6]\n",
      "[1, 2, 9, 4, 5, 6]\n",
      "[1, 9, 4, 5, 6]\n"
     ]
    }
   ],
   "source": [
    "list_a=[1,2,3,4,5]\n",
    "\n",
    "list_a.append(6) #추가\n",
    "\n",
    "print(list_a)\n",
    "\n",
    "list_a.insert(3,9) #3번 인덱스에 9 추가\n",
    "\n",
    "print(list_a)\n",
    "\n",
    "del list_a[2] #2번 인덱스 제거\n",
    "\n",
    "print(list_a)\n",
    "\n",
    "list_a.remove(2) # 2 제거 인덱스상 첫번째 삭제\n",
    "\n",
    "print(list_a)\n"
   ]
  },
  {
   "cell_type": "code",
   "execution_count": 24,
   "metadata": {},
   "outputs": [
    {
     "name": "stdout",
     "output_type": "stream",
     "text": [
      "['dfc', 'ea', 'fdb', 'gfd', 'gfe']\n"
     ]
    }
   ],
   "source": [
    "str_a = ['ea','fdb','dfc','gfd','gfe']\n",
    "\n",
    "str_a.sort() #정렬\n",
    "\n",
    "print(str_a)"
   ]
  },
  {
   "cell_type": "code",
   "execution_count": 25,
   "metadata": {},
   "outputs": [
    {
     "name": "stdout",
     "output_type": "stream",
     "text": [
      "['dfc', 'ea', 'fdb', 'gfd', 'gfe']\n"
     ]
    }
   ],
   "source": [
    "str_a = ['ea','fdb','dfc','gfd','gfe']\n",
    "\n",
    "result=sorted(str_a)\n",
    "\n",
    "print(result)"
   ]
  },
  {
   "cell_type": "code",
   "execution_count": 30,
   "metadata": {},
   "outputs": [
    {
     "name": "stdout",
     "output_type": "stream",
     "text": [
      "[(0, 'ea'), (1, 'fdb'), (2, 'dfc'), (3, 'gfd'), (4, 'gfe')]\n",
      "(0, 'ea')\n"
     ]
    }
   ],
   "source": [
    "str_a = ['ea','fdb','dfc','gfd','gfe']\n",
    "\n",
    "result=list(enumerate(str_a))\n",
    "\n",
    "print(result)\n",
    "print(result[0])"
   ]
  },
  {
   "cell_type": "code",
   "execution_count": 10,
   "metadata": {},
   "outputs": [
    {
     "name": "stdout",
     "output_type": "stream",
     "text": [
      "0\n",
      "파랑\n",
      "----\n",
      "1\n",
      "빨강\n",
      "----\n",
      "2\n",
      "노랑\n",
      "----\n",
      "3\n",
      "보라\n",
      "----\n",
      "4\n",
      "주황\n",
      "----\n",
      "5\n",
      "초록\n",
      "----\n",
      "{'파랑': 'blue', '빨강': 'red', '노랑': 'yellow', '보라': 'purple', '주황': 'oragne', '초록': 'green'}\n",
      "blue\n"
     ]
    }
   ],
   "source": [
    "color=['파랑','빨강','노랑','보라','주황','초록']\n",
    "a_color=['blue','red','yellow','purple','oragne','green']\n",
    "\n",
    "color_dict={}\n",
    "\n",
    "for i,j in enumerate(color):\n",
    "    a=a_color[i]\n",
    "    color_dict[j]=a\n",
    "    print(i)\n",
    "    print(j)\n",
    "    print(\"----\")\n",
    "    \n",
    "print(color_dict)\n",
    "print(color_dict['파랑'])"
   ]
  },
  {
   "cell_type": "code",
   "execution_count": 7,
   "metadata": {},
   "outputs": [
    {
     "name": "stdout",
     "output_type": "stream",
     "text": [
      "{'파랑': 'black', '빨강': 'red', '노랑': 'yellow', '보라': 'purple', '주황': 'oragne', '초록': 'green'}\n"
     ]
    }
   ],
   "source": [
    "color_dict['파랑']='black'\n",
    "\n",
    "print(color_dict)"
   ]
  },
  {
   "cell_type": "code",
   "execution_count": 8,
   "metadata": {},
   "outputs": [
    {
     "name": "stdout",
     "output_type": "stream",
     "text": [
      "{'빨강': 'red', '노랑': 'yellow', '보라': 'purple', '주황': 'oragne', '초록': 'green'}\n"
     ]
    }
   ],
   "source": [
    "del color_dict['파랑']\n",
    "\n",
    "print(color_dict)"
   ]
  },
  {
   "cell_type": "code",
   "execution_count": 9,
   "metadata": {},
   "outputs": [
    {
     "name": "stdout",
     "output_type": "stream",
     "text": [
      "{}\n"
     ]
    }
   ],
   "source": [
    "color_dict.clear()\n",
    "\n",
    "print(color_dict)"
   ]
  },
  {
   "cell_type": "code",
   "execution_count": 12,
   "metadata": {},
   "outputs": [
    {
     "name": "stdout",
     "output_type": "stream",
     "text": [
      "dict_keys(['파랑', '빨강', '노랑', '보라', '주황', '초록'])\n"
     ]
    }
   ],
   "source": [
    "color_key = color_dict.keys()\n",
    "\n",
    "print(color_key)"
   ]
  },
  {
   "cell_type": "code",
   "execution_count": 13,
   "metadata": {},
   "outputs": [
    {
     "name": "stdout",
     "output_type": "stream",
     "text": [
      "dict_values(['blue', 'red', 'yellow', 'purple', 'oragne', 'green'])\n"
     ]
    }
   ],
   "source": [
    "color_value = color_dict.values()\n",
    "\n",
    "print(color_value)"
   ]
  },
  {
   "cell_type": "code",
   "execution_count": 14,
   "metadata": {},
   "outputs": [
    {
     "name": "stdout",
     "output_type": "stream",
     "text": [
      "dict_items([('파랑', 'blue'), ('빨강', 'red'), ('노랑', 'yellow'), ('보라', 'purple'), ('주황', 'oragne'), ('초록', 'green')])\n"
     ]
    }
   ],
   "source": [
    "color_items = color_dict.items()\n",
    "\n",
    "print(color_items)"
   ]
  },
  {
   "cell_type": "code",
   "execution_count": 16,
   "metadata": {},
   "outputs": [
    {
     "name": "stdout",
     "output_type": "stream",
     "text": [
      "['노랑', '보라', '빨강', '주황', '초록', '파랑']\n"
     ]
    }
   ],
   "source": [
    "result_color=sorted(color_dict)\n",
    "\n",
    "print(result_color)"
   ]
  },
  {
   "cell_type": "code",
   "execution_count": 21,
   "metadata": {},
   "outputs": [],
   "source": [
    "def f1(x):\n",
    "    return x[0]\n",
    "\n",
    "def f2(x):\n",
    "    return x[1]"
   ]
  },
  {
   "cell_type": "code",
   "execution_count": 23,
   "metadata": {},
   "outputs": [
    {
     "name": "stdout",
     "output_type": "stream",
     "text": [
      "[('노랑', 'yellow'), ('보라', 'purple'), ('빨강', 'red'), ('주황', 'oragne'), ('초록', 'green'), ('파랑', 'blue')]\n"
     ]
    }
   ],
   "source": [
    "# key로 지정된 값으로 정렬이 된다 . 여기서f1은 키를 나타내며, (키 : 값)\n",
    "# 그 결과 키를 기준으로 정렬된다\n",
    "\n",
    "result_color1=sorted(color_dict.items(),key=f1)\n",
    "\n",
    "print(result_color1)"
   ]
  },
  {
   "cell_type": "code",
   "execution_count": 24,
   "metadata": {},
   "outputs": [
    {
     "name": "stdout",
     "output_type": "stream",
     "text": [
      "[('파랑', 'blue'), ('초록', 'green'), ('주황', 'oragne'), ('보라', 'purple'), ('빨강', 'red'), ('노랑', 'yellow')]\n"
     ]
    }
   ],
   "source": [
    "# key로 지정된 값으로 정렬이 된다 . 여기서f2은 값을 나타내며, (키 : 값)\n",
    "# 그 결과 값을 기준으로 정렬된다\n",
    "\n",
    "result_color2=sorted(color_dict.items(),key=f2)\n",
    "\n",
    "print(result_color2)"
   ]
  },
  {
   "cell_type": "code",
   "execution_count": 17,
   "metadata": {},
   "outputs": [
    {
     "name": "stdout",
     "output_type": "stream",
     "text": [
      "7\n",
      "4\n"
     ]
    }
   ],
   "source": [
    "# 문자열로 된 식을 실행하기\n",
    "\n",
    "txt1= '3+4'\n",
    "txt2= 'round(4.2)'\n",
    "\n",
    "result1=eval(txt1)\n",
    "result2=eval(txt2)\n",
    "\n",
    "print(result1)\n",
    "print(result2)\n"
   ]
  },
  {
   "cell_type": "code",
   "execution_count": 18,
   "metadata": {},
   "outputs": [
    {
     "name": "stdout",
     "output_type": "stream",
     "text": [
      "5\n"
     ]
    }
   ],
   "source": [
    "fun = lambda x,y : x+y   #lambda 인자,인자,인자 .... : 실행코드\n",
    "\n",
    "result1=fun(2,3)\n",
    "\n",
    "print(result1)"
   ]
  },
  {
   "cell_type": "code",
   "execution_count": 20,
   "metadata": {},
   "outputs": [
    {
     "name": "stdout",
     "output_type": "stream",
     "text": [
      "basic.jpg\n",
      "base.png\n"
     ]
    }
   ],
   "source": [
    "fun1 = [lambda x : x + '.jpg',lambda y : y +'.png']\n",
    "\n",
    "result1 = fun1[0]('basic')\n",
    "result2 = fun1[1]('base')\n",
    "\n",
    "print(result1)\n",
    "print(result2)"
   ]
  },
  {
   "cell_type": "code",
   "execution_count": 25,
   "metadata": {},
   "outputs": [
    {
     "name": "stdout",
     "output_type": "stream",
     "text": [
      "[('노랑', 'yellow'), ('보라', 'purple'), ('빨강', 'red'), ('주황', 'oragne'), ('초록', 'green'), ('파랑', 'blue')]\n"
     ]
    }
   ],
   "source": [
    "# key로 지정된 값으로 정렬이 된다 . 여기서key는 lambda를 이용한\n",
    "# 값을 기준으로 정렬된다\n",
    "\n",
    "result_color3=sorted(color_dict.items(),key=lambda x : x[0])\n",
    "\n",
    "print(result_color3)"
   ]
  },
  {
   "cell_type": "code",
   "execution_count": 26,
   "metadata": {},
   "outputs": [
    {
     "name": "stdout",
     "output_type": "stream",
     "text": [
      "[1, 4, 9, 16, 25]\n"
     ]
    }
   ],
   "source": [
    "fun = lambda x : x*x\n",
    "num = [1,2,3,4,5]\n",
    "\n",
    "#num의 요소를 fun에 대입하여 map 객체로 반환\n",
    "result=map(fun,num)\n",
    "print(list(result))"
   ]
  }
 ],
 "metadata": {
  "kernelspec": {
   "display_name": "Python 3",
   "language": "python",
   "name": "python3"
  },
  "language_info": {
   "codemirror_mode": {
    "name": "ipython",
    "version": 3
   },
   "file_extension": ".py",
   "mimetype": "text/x-python",
   "name": "python",
   "nbconvert_exporter": "python",
   "pygments_lexer": "ipython3",
   "version": "3.8.3"
  }
 },
 "nbformat": 4,
 "nbformat_minor": 4
}
