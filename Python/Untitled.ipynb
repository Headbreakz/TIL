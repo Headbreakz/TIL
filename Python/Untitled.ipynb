{
 "cells": [
  {
   "cell_type": "code",
   "execution_count": 4,
   "id": "reported-invention",
   "metadata": {},
   "outputs": [],
   "source": [
    "import numpy as np"
   ]
  },
  {
   "cell_type": "code",
   "execution_count": 5,
   "id": "partial-queens",
   "metadata": {},
   "outputs": [],
   "source": [
    "data_size = 100\n",
    "input_dim = 3\n",
    "learning_rate = 0.01"
   ]
  },
  {
   "cell_type": "code",
   "execution_count": 6,
   "id": "dedicated-highway",
   "metadata": {},
   "outputs": [],
   "source": [
    "input_data = np.random.normal(size=(data_size, input_dim))\n",
    "output_data_binary = np.random.choice([0, 1], size=(data_size, 1))"
   ]
  },
  {
   "cell_type": "code",
   "execution_count": 7,
   "id": "inside-mozambique",
   "metadata": {},
   "outputs": [],
   "source": [
    "#활성화 함수 sigmoid\n",
    "def sigmoid(x):\n",
    "    return 1/(1+np.exp(-x))\n",
    "\n",
    "#sigmoid 미분\n",
    "def g_sigmoid(x):\n",
    "    result = sigmoid(x) \n",
    "    return result*(1-result)\n",
    "\n",
    "def NN_weight(x_size,y_size):\n",
    "    weight = np.random.rand(x_size,y_size)\n",
    "    return weight\n"
   ]
  },
  {
   "cell_type": "code",
   "execution_count": 8,
   "id": "hindu-stevens",
   "metadata": {},
   "outputs": [],
   "source": [
    "weight_1 = NN_weight(3,4)\n",
    "weight_2 = NN_weight(4,6)\n",
    "weight_3 = NN_weight(6,1)"
   ]
  },
  {
   "cell_type": "code",
   "execution_count": 9,
   "id": "cloudy-bidder",
   "metadata": {},
   "outputs": [],
   "source": [
    "bias_1 = np.random.rand(4)\n",
    "bias_2 = np.random.rand(6)\n",
    "bias_3 = np.random.rand(1)"
   ]
  },
  {
   "cell_type": "code",
   "execution_count": 10,
   "id": "cutting-removal",
   "metadata": {},
   "outputs": [],
   "source": [
    "# 순전파\n",
    "input_data = input_data[0]\n",
    "x_1 = np.dot(input_data,weight_1) \n",
    "x_1_bias = x_1 + bias_1\n",
    "x_1_sig = sigmoid(x_1_bias)\n",
    "\n",
    "x_2 = np.dot(x_1_sig,weight_2)\n",
    "x_2_bias = x_2 + bias_2\n",
    "x_2_sig = sigmoid(x_2_bias)\n",
    "\n",
    "x_3 = np.dot(x_2_sig,weight_3)\n",
    "x_3_bias = x_3 + bias_3\n",
    "x_3_sig = sigmoid(x_3_bias)"
   ]
  },
  {
   "cell_type": "code",
   "execution_count": null,
   "id": "clean-detector",
   "metadata": {
    "scrolled": false
   },
   "outputs": [],
   "source": [
    "weight_3.shape"
   ]
  },
  {
   "cell_type": "code",
   "execution_count": null,
   "id": "chronic-fantasy",
   "metadata": {},
   "outputs": [],
   "source": [
    "weight_2.shape"
   ]
  },
  {
   "cell_type": "code",
   "execution_count": 11,
   "id": "clean-logging",
   "metadata": {},
   "outputs": [],
   "source": [
    "# 역전파\n",
    "\n",
    "total_output_error = output_data_binary[0]-x_3_sig\n",
    "y_3_sig = g_sigmoid(x_3_sig)\n",
    "y_3 = total_output_error * y_3_sig * x_2_sig\n",
    "weight_3 = np.transpose(weight_3) - learning_rate * y_3\n",
    "weight_3 = np.transpose(weight_3)"
   ]
  },
  {
   "cell_type": "code",
   "execution_count": 12,
   "id": "polished-highland",
   "metadata": {},
   "outputs": [
    {
     "ename": "ValueError",
     "evalue": "operands could not be broadcast together with shapes (4,6) (4,) ",
     "output_type": "error",
     "traceback": [
      "\u001b[1;31m---------------------------------------------------------------------------\u001b[0m",
      "\u001b[1;31mValueError\u001b[0m                                Traceback (most recent call last)",
      "\u001b[1;32m<ipython-input-12-2f3c2248d40f>\u001b[0m in \u001b[0;36m<module>\u001b[1;34m\u001b[0m\n\u001b[0;32m      1\u001b[0m \u001b[0moutput_error_2\u001b[0m \u001b[1;33m=\u001b[0m \u001b[0mtotal_output_error\u001b[0m \u001b[1;33m*\u001b[0m \u001b[0mg_sigmoid\u001b[0m\u001b[1;33m(\u001b[0m\u001b[0mx_3_sig\u001b[0m\u001b[1;33m)\u001b[0m \u001b[1;33m*\u001b[0m \u001b[0mweight_2\u001b[0m\u001b[1;33m\u001b[0m\u001b[1;33m\u001b[0m\u001b[0m\n\u001b[0;32m      2\u001b[0m \u001b[0my_2_sig\u001b[0m \u001b[1;33m=\u001b[0m \u001b[0mg_sigmoid\u001b[0m\u001b[1;33m(\u001b[0m\u001b[0mx_2_sig\u001b[0m\u001b[1;33m)\u001b[0m\u001b[1;33m\u001b[0m\u001b[1;33m\u001b[0m\u001b[0m\n\u001b[1;32m----> 3\u001b[1;33m \u001b[0my_2\u001b[0m \u001b[1;33m=\u001b[0m \u001b[0moutput_error_2\u001b[0m \u001b[1;33m*\u001b[0m \u001b[0my_2_sig\u001b[0m \u001b[1;33m*\u001b[0m \u001b[0mx_1_sig\u001b[0m\u001b[1;33m\u001b[0m\u001b[1;33m\u001b[0m\u001b[0m\n\u001b[0m",
      "\u001b[1;31mValueError\u001b[0m: operands could not be broadcast together with shapes (4,6) (4,) "
     ]
    }
   ],
   "source": [
    "output_error_2 = total_output_error * g_sigmoid(x_3_sig) * weight_2\n",
    "y_2_sig = g_sigmoid(x_2_sig)\n",
    "y_2 = output_error_2 * y_2_sig * x_1_sig"
   ]
  },
  {
   "cell_type": "code",
   "execution_count": null,
   "id": "received-microphone",
   "metadata": {},
   "outputs": [],
   "source": [
    "output_error_2 = total_output_error * g_sigmoid(x_3_sig) * weight_2"
   ]
  },
  {
   "cell_type": "code",
   "execution_count": 14,
   "id": "latter-position",
   "metadata": {},
   "outputs": [
    {
     "data": {
      "text/plain": [
       "(4, 6)"
      ]
     },
     "execution_count": 14,
     "metadata": {},
     "output_type": "execute_result"
    }
   ],
   "source": [
    "output_error_2.shape"
   ]
  },
  {
   "cell_type": "code",
   "execution_count": 15,
   "id": "mature-riding",
   "metadata": {},
   "outputs": [
    {
     "data": {
      "text/plain": [
       "array([0.20464545, 0.20175333, 0.20664259, 0.20420148, 0.20255822,\n",
       "       0.20402803])"
      ]
     },
     "execution_count": 15,
     "metadata": {},
     "output_type": "execute_result"
    }
   ],
   "source": [
    "y_2_sig"
   ]
  },
  {
   "cell_type": "code",
   "execution_count": 16,
   "id": "stuffed-neighborhood",
   "metadata": {},
   "outputs": [],
   "source": [
    "a= output_error_2* y_2_sig"
   ]
  },
  {
   "cell_type": "code",
   "execution_count": 17,
   "id": "consecutive-lunch",
   "metadata": {
    "scrolled": true
   },
   "outputs": [
    {
     "data": {
      "text/plain": [
       "(4, 6)"
      ]
     },
     "execution_count": 17,
     "metadata": {},
     "output_type": "execute_result"
    }
   ],
   "source": [
    "a.shape"
   ]
  },
  {
   "cell_type": "code",
   "execution_count": 18,
   "id": "delayed-drinking",
   "metadata": {},
   "outputs": [
    {
     "data": {
      "text/plain": [
       "array([0.76125469, 0.78900269, 0.80235044, 0.79232758])"
      ]
     },
     "execution_count": 18,
     "metadata": {},
     "output_type": "execute_result"
    }
   ],
   "source": [
    "x_1_sig"
   ]
  }
 ],
 "metadata": {
  "kernelspec": {
   "display_name": "Python 3",
   "language": "python",
   "name": "python3"
  },
  "language_info": {
   "codemirror_mode": {
    "name": "ipython",
    "version": 3
   },
   "file_extension": ".py",
   "mimetype": "text/x-python",
   "name": "python",
   "nbconvert_exporter": "python",
   "pygments_lexer": "ipython3",
   "version": "3.9.1"
  }
 },
 "nbformat": 4,
 "nbformat_minor": 5
}
