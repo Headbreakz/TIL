{
 "cells": [
  {
   "cell_type": "code",
   "execution_count": null,
   "metadata": {},
   "outputs": [],
   "source": [
    "class MyQueue():\n",
    "    def __init__(self):\n",
    "        self.answer = []\n",
    "        self.stack_1 = []\n",
    "        self.stack_2 = []\n",
    "        \n",
    "    def __str__(self):\n",
    "        return str(self.answer)\n",
    "        \n",
    "    def push(self,x):\n",
    "        self.answer.append(x)\n",
    "        \n",
    "    def poped(self):           \n",
    "        for i in self.answer :\n",
    "            self.stack_1.append(i)\n",
    "        for j in range(len(self.stack_1)-1,-1,-1):\n",
    "            self.stack_2.append(self.stack_1[j])\n",
    "        \n",
    "        self.poped=self.stack_2.pop()\n",
    "        self.answer =[]\n",
    "        \n",
    "        for z in range(len(self.stack_2)-1,-1,-1):\n",
    "            self.answer.append(self.stack_2[z])\n",
    "            \n",
    "   \n",
    "           \n",
    "    \n",
    "    \n",
    "        \n",
    "    "
   ]
  },
  {
   "cell_type": "code",
   "execution_count": null,
   "metadata": {},
   "outputs": [],
   "source": [
    "a = MyQueue()"
   ]
  },
  {
   "cell_type": "code",
   "execution_count": null,
   "metadata": {},
   "outputs": [],
   "source": [
    "a.push(1)"
   ]
  },
  {
   "cell_type": "code",
   "execution_count": null,
   "metadata": {},
   "outputs": [],
   "source": [
    "a.push(2)"
   ]
  },
  {
   "cell_type": "code",
   "execution_count": null,
   "metadata": {},
   "outputs": [],
   "source": [
    "print(a)"
   ]
  },
  {
   "cell_type": "code",
   "execution_count": null,
   "metadata": {},
   "outputs": [],
   "source": [
    "a.poped()"
   ]
  },
  {
   "cell_type": "code",
   "execution_count": null,
   "metadata": {},
   "outputs": [],
   "source": [
    "print(a)"
   ]
  },
  {
   "cell_type": "code",
   "execution_count": null,
   "metadata": {},
   "outputs": [],
   "source": [
    "a.push(3)"
   ]
  },
  {
   "cell_type": "code",
   "execution_count": null,
   "metadata": {
    "scrolled": true
   },
   "outputs": [],
   "source": [
    "print(a)"
   ]
  }
 ],
 "metadata": {
  "kernelspec": {
   "display_name": "Python 3",
   "language": "python",
   "name": "python3"
  },
  "language_info": {
   "codemirror_mode": {
    "name": "ipython",
    "version": 3
   },
   "file_extension": ".py",
   "mimetype": "text/x-python",
   "name": "python",
   "nbconvert_exporter": "python",
   "pygments_lexer": "ipython3",
   "version": "3.8.3"
  }
 },
 "nbformat": 4,
 "nbformat_minor": 5
}
