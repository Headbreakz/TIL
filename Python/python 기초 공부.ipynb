{
 "cells": [
  {
   "cell_type": "code",
   "execution_count": 1,
   "metadata": {
    "scrolled": true
   },
   "outputs": [
    {
     "name": "stdout",
     "output_type": "stream",
     "text": [
      "3\n",
      "4\n",
      "5\n",
      "6\n",
      "7\n",
      "8\n"
     ]
    }
   ],
   "source": [
    "x = 0\n",
    "while x <10:\n",
    "    x = x+ 1\n",
    "    if x<3:\n",
    "        continue # while 구문 처음으로 이동하여 반복문 실행\n",
    "    print(x)\n",
    "    if x>7:\n",
    "        break"
   ]
  },
  {
   "cell_type": "code",
   "execution_count": 3,
   "metadata": {},
   "outputs": [
    {
     "name": "stdout",
     "output_type": "stream",
     "text": [
      "나는 하하 보다 허허 웃음소리이다\n",
      "나는 하하 +1 허허 웃음소리이다\n"
     ]
    }
   ],
   "source": [
    "txt1 = '하하'\n",
    "txt2 = '허허'\n",
    "num1 = 1\n",
    "num2 = 10\n",
    "print('나는 %s 보다 %s 웃음소리이다'%(txt1,txt2))\n",
    "print('나는 %s +%d %s 웃음소리이다'%(txt1,num1,txt2))\n",
    "\n",
    "%s 문자\n",
    "%d 정수\n",
    "%f 실수\n",
    "%c 문자나 기호"
   ]
  },
  {
   "cell_type": "code",
   "execution_count": 6,
   "metadata": {},
   "outputs": [
    {
     "name": "stdout",
     "output_type": "stream",
     "text": [
      "나는 고기가 좋다 \n",
      " 물고기 말고\n",
      "나는 \n"
     ]
    }
   ],
   "source": [
    "print('나는 고기가 좋다 \\n 물고기 말고')\n",
    "\n",
    "\\n 줄바꾸기\n",
    "\\t tab\n",
    "\\(enter) 줄계속"
   ]
  },
  {
   "cell_type": "code",
   "execution_count": 8,
   "metadata": {},
   "outputs": [
    {
     "name": "stdout",
     "output_type": "stream",
     "text": [
      "hi\n"
     ]
    }
   ],
   "source": [
    "def func():\n",
    "    print(\"hi\")\n",
    "    \n",
    "list = [1,2,func]\n",
    "list[2]()"
   ]
  },
  {
   "cell_type": "code",
   "execution_count": 17,
   "metadata": {},
   "outputs": [
    {
     "name": "stdout",
     "output_type": "stream",
     "text": [
      "1\n",
      "3\n"
     ]
    }
   ],
   "source": [
    "dict = {'a':1,'b':2,'c':3}\n",
    "print(dict['a'])\n",
    "print(len(dict))"
   ]
  },
  {
   "cell_type": "code",
   "execution_count": 20,
   "metadata": {},
   "outputs": [
    {
     "name": "stdout",
     "output_type": "stream",
     "text": [
      "(2, 4, 5)\n"
     ]
    }
   ],
   "source": [
    "def fun1(*args):\n",
    "    print(args)\n",
    "fun1(2,4,5)\n",
    "\n",
    "인자의 개수가 불명확한 경우 , 이 경우 가변인자를 활용하여 함수 선언\n",
    "가변인자는 *args와 같이 인자 앞에 *를 붙인다. args는 튜플로 처리된다."
   ]
  },
  {
   "cell_type": "code",
   "execution_count": 23,
   "metadata": {},
   "outputs": [
    {
     "name": "stdout",
     "output_type": "stream",
     "text": [
      "{'depth': 50, 'color': 'red'}\n"
     ]
    }
   ],
   "source": [
    "def fun2(height,weight,**kwargs):\n",
    "    print(kwargs)\n",
    "fun2(10,20,depth=50,color='red')\n",
    "\n",
    "키워드 인자가 불명확한 경우 , 차후 어떤 키워드가 필요한지 확정 되지 않은 경우,\n",
    "**kwargs와 같이 인자를 정리해 준다.kwargs는 딕셔너리로 처리된다."
   ]
  },
  {
   "cell_type": "code",
   "execution_count": null,
   "metadata": {},
   "outputs": [],
   "source": []
  },
  {
   "cell_type": "code",
   "execution_count": null,
   "metadata": {},
   "outputs": [],
   "source": []
  },
  {
   "cell_type": "code",
   "execution_count": null,
   "metadata": {},
   "outputs": [],
   "source": []
  },
  {
   "cell_type": "code",
   "execution_count": null,
   "metadata": {},
   "outputs": [],
   "source": []
  },
  {
   "cell_type": "code",
   "execution_count": null,
   "metadata": {},
   "outputs": [],
   "source": []
  }
 ],
 "metadata": {
  "kernelspec": {
   "display_name": "Python 3",
   "language": "python",
   "name": "python3"
  },
  "language_info": {
   "codemirror_mode": {
    "name": "ipython",
    "version": 3
   },
   "file_extension": ".py",
   "mimetype": "text/x-python",
   "name": "python",
   "nbconvert_exporter": "python",
   "pygments_lexer": "ipython3",
   "version": "3.8.5"
  }
 },
 "nbformat": 4,
 "nbformat_minor": 4
}
