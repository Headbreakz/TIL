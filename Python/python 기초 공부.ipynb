{
 "cells": [
  {
   "cell_type": "code",
   "execution_count": 1,
   "metadata": {
    "scrolled": true
   },
   "outputs": [
    {
     "name": "stdout",
     "output_type": "stream",
     "text": [
      "3\n",
      "4\n",
      "5\n",
      "6\n",
      "7\n",
      "8\n"
     ]
    }
   ],
   "source": [
    "x = 0\n",
    "while x <10:\n",
    "    x = x+ 1\n",
    "    if x<3:\n",
    "        continue # while 구문 처음으로 이동하여 반복문 실행\n",
    "    print(x)\n",
    "    if x>7:\n",
    "        break"
   ]
  },
  {
   "cell_type": "code",
   "execution_count": 3,
   "metadata": {},
   "outputs": [
    {
     "name": "stdout",
     "output_type": "stream",
     "text": [
      "나는 하하 보다 허허 웃음소리이다\n",
      "나는 하하 +1 허허 웃음소리이다\n"
     ]
    }
   ],
   "source": [
    "txt1 = '하하'\n",
    "txt2 = '허허'\n",
    "num1 = 1\n",
    "num2 = 10\n",
    "print('나는 %s 보다 %s 웃음소리이다'%(txt1,txt2))\n",
    "print('나는 %s +%d %s 웃음소리이다'%(txt1,num1,txt2))\n",
    "\n",
    "%s 문자\n",
    "%d 정수\n",
    "%f 실수\n",
    "%c 문자, 기호"
   ]
  },
  {
   "cell_type": "code",
   "execution_count": 6,
   "metadata": {},
   "outputs": [
    {
     "name": "stdout",
     "output_type": "stream",
     "text": [
      "나는 고기가 좋다 \n",
      " 물고기 말고\n",
      "나는 \n"
     ]
    }
   ],
   "source": [
    "print('나는 고기가 좋다 \\n 물고기 말고')\n",
    "\n",
    "\\n 줄바꾸기\n",
    "\\t tab"
   ]
  },
  {
   "cell_type": "code",
   "execution_count": 8,
   "metadata": {},
   "outputs": [
    {
     "name": "stdout",
     "output_type": "stream",
     "text": [
      "hi\n"
     ]
    }
   ],
   "source": [
    "def func():\n",
    "    print(\"hi\")\n",
    "    \n",
    "list = [1,2,func]\n",
    "list[2]()"
   ]
  },
  {
   "cell_type": "code",
   "execution_count": 17,
   "metadata": {},
   "outputs": [
    {
     "name": "stdout",
     "output_type": "stream",
     "text": [
      "1\n",
      "3\n"
     ]
    }
   ],
   "source": [
    "dict = {'a':1,'b':2,'c':3}\n",
    "print(dict['a'])\n",
    "print(len(dict))"
   ]
  },
  {
   "cell_type": "code",
   "execution_count": 20,
   "metadata": {},
   "outputs": [
    {
     "name": "stdout",
     "output_type": "stream",
     "text": [
      "(2, 4, 5)\n"
     ]
    }
   ],
   "source": [
    "def fun1(*args):\n",
    "    print(args)\n",
    "fun1(2,4,5)\n",
    "\n",
    "# 인자의 개수가 불명확한 경우 , 이 경우 가변인자를 활용하여 함수 선언\n",
    "# 가변인자는 *args와 같이 인자 앞에 *를 붙인다. args는 튜플로 처리된다."
   ]
  },
  {
   "cell_type": "code",
   "execution_count": 23,
   "metadata": {},
   "outputs": [
    {
     "name": "stdout",
     "output_type": "stream",
     "text": [
      "{'depth': 50, 'color': 'red'}\n"
     ]
    }
   ],
   "source": [
    "def fun2(height,weight,**kwargs):\n",
    "    print(kwargs)\n",
    "fun2(10,20,depth=50,color='red')\n",
    "\n",
    "# 키워드 인자가 불명확한 경우 , 차후 어떤 키워드가 필요한지 확정 되지 않은 경우,\n",
    "# **kwargs와 같이 인자를 정리해 준다.kwargs는 딕셔너리로 처리된다."
   ]
  },
  {
   "cell_type": "code",
   "execution_count": 4,
   "metadata": {},
   "outputs": [
    {
     "name": "stdout",
     "output_type": "stream",
     "text": [
      "hi\n",
      "-----\n",
      "hello\n",
      "hi\n"
     ]
    }
   ],
   "source": [
    "class test:\n",
    "    var = 'hi'\n",
    "    def hi(self):\n",
    "        param1='hello'\n",
    "        self.param2='bye'\n",
    "        print(param1)\n",
    "        print(self.var)\n",
    "\n",
    "obj = test()\n",
    "print(obj.var)\n",
    "print(\"-----\")\n",
    "obj.hi()"
   ]
  },
  {
   "cell_type": "code",
   "execution_count": 6,
   "metadata": {},
   "outputs": [
    {
     "name": "stdout",
     "output_type": "stream",
     "text": [
      "hi\n",
      "lee byebye\n"
     ]
    }
   ],
   "source": [
    "class test2:\n",
    "    def hi(self):\n",
    "        print('hi')\n",
    "        \n",
    "    def bye(self,name):\n",
    "        print('%s bye bye' %name)\n",
    "        \n",
    "obj = test2()\n",
    "obj.hi()\n",
    "obj.bye('lee')"
   ]
  },
  {
   "cell_type": "code",
   "execution_count": 11,
   "metadata": {},
   "outputs": [
    {
     "name": "stdout",
     "output_type": "stream",
     "text": [
      "welcome to my home\n",
      "------\n",
      "hi\n",
      "------\n"
     ]
    },
    {
     "data": {
      "text/plain": [
       "<__main__.test3 at 0x17ea0dc3040>"
      ]
     },
     "execution_count": 11,
     "metadata": {},
     "output_type": "execute_result"
    }
   ],
   "source": [
    "class test3:\n",
    "    def __init__(self):\n",
    "        self.var = 'hi'\n",
    "        print(\"welcome to my home\")\n",
    "        \n",
    "obj=test3()\n",
    "print(\"------\")\n",
    "print(obj.var)\n",
    "print(\"------\")\n",
    "obj"
   ]
  },
  {
   "cell_type": "code",
   "execution_count": 10,
   "metadata": {},
   "outputs": [
    {
     "name": "stdout",
     "output_type": "stream",
     "text": [
      "인스턴스 객체 삭제\n"
     ]
    }
   ],
   "source": [
    "class test4:\n",
    "    def __del__(self):\n",
    "        print('인스턴스 객체 삭제')\n",
    "obj=test4()\n",
    "del obj"
   ]
  },
  {
   "cell_type": "code",
   "execution_count": 12,
   "metadata": {},
   "outputs": [
    {
     "name": "stdout",
     "output_type": "stream",
     "text": [
      "3\n",
      "-1\n"
     ]
    }
   ],
   "source": [
    "class add:\n",
    "    def add(self, a, b):\n",
    "        return a+b\n",
    "    \n",
    "class math(add):\n",
    "    def sub(self,a,b):\n",
    "        return a-b\n",
    "    \n",
    "obj = math()\n",
    "print(obj.add(1,2))\n",
    "print(obj.sub(1,2))\n",
    "\n",
    "다중 상속도 가능"
   ]
  },
  {
   "cell_type": "markdown",
   "metadata": {},
   "source": [
    "## 예외처리"
   ]
  },
  {
   "cell_type": "code",
   "execution_count": 1,
   "metadata": {},
   "outputs": [
    {
     "name": "stdout",
     "output_type": "stream",
     "text": [
      "hi\n",
      "error\n",
      "무조건 실행\n"
     ]
    }
   ],
   "source": [
    "try:\n",
    "    print('hi')\n",
    "    print(param)\n",
    "except:\n",
    "    print('error')\n",
    "else :\n",
    "    print('not error')\n",
    "finally:\n",
    "    print('무조건 실행')"
   ]
  },
  {
   "cell_type": "code",
   "execution_count": 2,
   "metadata": {},
   "outputs": [
    {
     "name": "stdout",
     "output_type": "stream",
     "text": [
      "name 'param' is not defined\n"
     ]
    }
   ],
   "source": [
    "try:\n",
    "    print(param)\n",
    "except Exception as e:\n",
    "    print(e)"
   ]
  }
 ],
 "metadata": {
  "kernelspec": {
   "display_name": "Python 3",
   "language": "python",
   "name": "python3"
  },
  "language_info": {
   "codemirror_mode": {
    "name": "ipython",
    "version": 3
   },
   "file_extension": ".py",
   "mimetype": "text/x-python",
   "name": "python",
   "nbconvert_exporter": "python",
   "pygments_lexer": "ipython3",
   "version": "3.8.5"
  }
 },
 "nbformat": 4,
 "nbformat_minor": 4
}
