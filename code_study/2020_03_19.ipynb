{
 "cells": [
  {
   "cell_type": "code",
   "execution_count": 2,
   "metadata": {
    "scrolled": true
   },
   "outputs": [
    {
     "name": "stdout",
     "output_type": "stream",
     "text": [
      "10\n",
      "65\n",
      "100\n",
      "30\n",
      "95\n",
      "68\n"
     ]
    }
   ],
   "source": [
    "#실습1\n",
    "#10039\n",
    "b=0\n",
    "for i in range(5):\n",
    "    a = int(input())\n",
    "    if a < 40 :\n",
    "        a = 40\n",
    "    b += a\n",
    "print(int(b/5))"
   ]
  },
  {
   "cell_type": "code",
   "execution_count": 3,
   "metadata": {},
   "outputs": [
    {
     "name": "stdout",
     "output_type": "stream",
     "text": [
      "800\n",
      "700\n",
      "900\n",
      "198\n",
      "330\n",
      "848\n"
     ]
    }
   ],
   "source": [
    "#5543\n",
    "a=[]\n",
    "b=[]\n",
    "\n",
    "for i in range(3):\n",
    "    c = int(input())\n",
    "    a.append(c)\n",
    "    \n",
    "for j in range(2):\n",
    "    d = int(input())\n",
    "    b.append(d)\n",
    "\n",
    "print(min(a)+min(b)-50)"
   ]
  },
  {
   "cell_type": "code",
   "execution_count": 31,
   "metadata": {},
   "outputs": [
    {
     "name": "stdout",
     "output_type": "stream",
     "text": [
      "20 30 10\n",
      "20\n"
     ]
    }
   ],
   "source": [
    "#10817\n",
    "a=map(int,input().split())\n",
    "b=sorted(b)\n",
    "print(b[1])"
   ]
  },
  {
   "cell_type": "code",
   "execution_count": 37,
   "metadata": {},
   "outputs": [
    {
     "name": "stdout",
     "output_type": "stream",
     "text": [
      "3\n",
      "*\n",
      "**\n",
      "***\n",
      "**\n",
      "*\n"
     ]
    }
   ],
   "source": [
    "#2523\n",
    "a= int(input())\n",
    "\n",
    "for i in range(1,a+1):\n",
    "    print(i*\"*\")\n",
    "for i in range(a-1,0,-1):\n",
    "    print(i*\"*\")"
   ]
  },
  {
   "cell_type": "code",
   "execution_count": 45,
   "metadata": {},
   "outputs": [
    {
     "name": "stdout",
     "output_type": "stream",
     "text": [
      "5\n",
      "*********\n",
      " *******\n",
      "  *****\n",
      "   ***\n",
      "    *\n",
      "   ***\n",
      "  *****\n",
      " *******\n",
      "*********\n"
     ]
    }
   ],
   "source": [
    "# 2446\n",
    "a= int(input())\n",
    "\n",
    "for i in range(1,a+1):\n",
    "    print((i-1)*\" \"+(2*(a-i)+1)*\"*\")\n",
    "for i in range(a-1,0,-1):\n",
    "    print((i-1)*\" \"+(2*(a-i)+1)*\"*\")"
   ]
  },
  {
   "cell_type": "code",
   "execution_count": 65,
   "metadata": {},
   "outputs": [
    {
     "name": "stdout",
     "output_type": "stream",
     "text": [
      "5\n",
      "* * * \n",
      " * *\n",
      "* * * \n",
      " * *\n",
      "* * * \n",
      " * *\n",
      "* * * \n",
      " * *\n",
      "* * * \n",
      " * *\n"
     ]
    }
   ],
   "source": [
    "#10996\n",
    "a = int(input())\n",
    "\n",
    "for i in range(1,a+1):\n",
    "    if a % 2 == 0:\n",
    "        print(a//2*(\"*\"+\" \"))\n",
    "        print(a//2*(\" \"+\"*\"))\n",
    "    \n",
    "    elif a % 2 ==1:\n",
    "        print(((a//2)+1)*(\"*\"+\" \"))\n",
    "        print((a//2)*(\" \"+\"*\"))\n",
    "    \n",
    "       \n",
    "        "
   ]
  }
 ],
 "metadata": {
  "kernelspec": {
   "display_name": "Python 3",
   "language": "python",
   "name": "python3"
  },
  "language_info": {
   "codemirror_mode": {
    "name": "ipython",
    "version": 3
   },
   "file_extension": ".py",
   "mimetype": "text/x-python",
   "name": "python",
   "nbconvert_exporter": "python",
   "pygments_lexer": "ipython3",
   "version": "3.7.4"
  }
 },
 "nbformat": 4,
 "nbformat_minor": 2
}
