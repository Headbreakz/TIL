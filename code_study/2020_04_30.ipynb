{
 "cells": [
  {
   "cell_type": "code",
   "execution_count": null,
   "metadata": {},
   "outputs": [],
   "source": [
    "#프로그래머스 주식가격\n",
    "def solution(prices):\n",
    "    a =[]\n",
    "    # b = 0\n",
    "    for i in range(len(prices)):\n",
    "        b = 0\n",
    "        for j in range(i+1,len(prices)):\n",
    "            if prices[i] <= prices[j]:\n",
    "                b += 1\n",
    "            elif prices[i] > prices[j]:\n",
    "                b += 1\n",
    "                break\n",
    "            # else :\n",
    "            #     b += 0\n",
    "        a.append(b)\n",
    "        # b = 0\n",
    "   \n",
    "\n",
    "            \n",
    "    \n",
    "    return a"
   ]
  }
 ],
 "metadata": {
  "kernelspec": {
   "display_name": "Python 3",
   "language": "python",
   "name": "python3"
  },
  "language_info": {
   "codemirror_mode": {
    "name": "ipython",
    "version": 3
   },
   "file_extension": ".py",
   "mimetype": "text/x-python",
   "name": "python",
   "nbconvert_exporter": "python",
   "pygments_lexer": "ipython3",
   "version": "3.7.6"
  }
 },
 "nbformat": 4,
 "nbformat_minor": 4
}
