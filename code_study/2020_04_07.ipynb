{
 "cells": [
  {
   "cell_type": "code",
   "execution_count": 17,
   "metadata": {
    "scrolled": true
   },
   "outputs": [
    {
     "name": "stdout",
     "output_type": "stream",
     "text": [
      "1000 700 150\n",
      "1000\n",
      "700\n",
      "150\n",
      "1700\n",
      "1\n"
     ]
    }
   ],
   "source": [
    "#수학1\n",
    "#1712\n",
    "\n",
    "a,b,c = map(int,input().split())\n",
    "count = 0\n",
    "\n",
    "if b < c :\n",
    "    count = a//(c-b)\n",
    "    print(count+1)\n",
    "else :\n",
    "    print(-1)\n",
    "\n",
    "    "
   ]
  },
  {
   "cell_type": "code",
   "execution_count": 10,
   "metadata": {},
   "outputs": [
    {
     "name": "stdout",
     "output_type": "stream",
     "text": [
      "18\n",
      "4\n"
     ]
    }
   ],
   "source": [
    "#2839\n",
    "\n",
    "a = int(input())\n",
    "\n",
    "def solution(n):\n",
    "    for i in range((a//3)+1):\n",
    "        for j in range((a//5)+1):\n",
    "            if (3*i)+(5*j) == a :\n",
    "                \n",
    "                return i+j\n",
    "            \n",
    "    return -1\n",
    "\n",
    "print(solution(a))\n",
    "\n",
    "\n",
    "\n"
   ]
  },
  {
   "cell_type": "code",
   "execution_count": 4,
   "metadata": {},
   "outputs": [
    {
     "name": "stdout",
     "output_type": "stream",
     "text": [
      "13\n",
      "3\n"
     ]
    }
   ],
   "source": [
    "#2292\n",
    "\n",
    "a = int(input())\n",
    "count = 1\n",
    "\n",
    "while a > 1 :\n",
    "    a -= 6*count\n",
    "    count +=1\n",
    "print(count)   \n"
   ]
  }
 ],
 "metadata": {
  "kernelspec": {
   "display_name": "Python 3",
   "language": "python",
   "name": "python3"
  },
  "language_info": {
   "codemirror_mode": {
    "name": "ipython",
    "version": 3
   },
   "file_extension": ".py",
   "mimetype": "text/x-python",
   "name": "python",
   "nbconvert_exporter": "python",
   "pygments_lexer": "ipython3",
   "version": "3.7.4"
  }
 },
 "nbformat": 4,
 "nbformat_minor": 2
}
