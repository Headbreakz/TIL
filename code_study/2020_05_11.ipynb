{
 "cells": [
  {
   "cell_type": "code",
   "execution_count": 30,
   "metadata": {},
   "outputs": [],
   "source": [
    "def solution(s):\n",
    "    try :\n",
    "        text = s.split()\n",
    "        stack = []\n",
    "        for s in text :\n",
    "            if s ==\"DUP\":\n",
    "                a = stack[-1]\n",
    "                stack.append(a)\n",
    "\n",
    "            elif s ==\"POP\":\n",
    "                stack.pop()\n",
    "\n",
    "            elif s ==\"+\":\n",
    "                a = stack[-2]\n",
    "                b = stack[-1]\n",
    "                stack.pop()\n",
    "                stack.pop()\n",
    "                stack.append(a+b)\n",
    "\n",
    "            elif s ==\"-\":\n",
    "                a = stack[-2]\n",
    "                b = stack[-1]\n",
    "                stack.pop()\n",
    "                stack.pop()\n",
    "                stack.append(b-a)\n",
    "            else :\n",
    "                stack.append(int(s))\n",
    "    except:\n",
    "        return -1\n",
    "    \n",
    "    return stack[-1]"
   ]
  },
  {
   "cell_type": "code",
   "execution_count": 36,
   "metadata": {
    "scrolled": false
   },
   "outputs": [
    {
     "ename": "NameError",
     "evalue": "name 'b' is not defined",
     "output_type": "error",
     "traceback": [
      "\u001b[1;31m---------------------------------------------------------------------------\u001b[0m",
      "\u001b[1;31mNameError\u001b[0m                                 Traceback (most recent call last)",
      "\u001b[1;32m<ipython-input-36-33b7a69c74f5>\u001b[0m in \u001b[0;36m<module>\u001b[1;34m\u001b[0m\n\u001b[0;32m      2\u001b[0m \u001b[1;33m\u001b[0m\u001b[0m\n\u001b[0;32m      3\u001b[0m \u001b[1;33m\u001b[0m\u001b[0m\n\u001b[1;32m----> 4\u001b[1;33m \u001b[1;32mclass\u001b[0m \u001b[0mNoAgentFoundException\u001b[0m\u001b[1;33m(\u001b[0m\u001b[0mException\u001b[0m\u001b[1;33m)\u001b[0m\u001b[1;33m:\u001b[0m\u001b[1;33m\u001b[0m\u001b[1;33m\u001b[0m\u001b[0m\n\u001b[0m\u001b[0;32m      5\u001b[0m     \u001b[0mprint\u001b[0m\u001b[1;33m(\u001b[0m\u001b[0mb\u001b[0m\u001b[1;33m)\u001b[0m\u001b[1;33m\u001b[0m\u001b[1;33m\u001b[0m\u001b[0m\n\u001b[0;32m      6\u001b[0m \u001b[1;33m\u001b[0m\u001b[0m\n",
      "\u001b[1;32m<ipython-input-36-33b7a69c74f5>\u001b[0m in \u001b[0;36mNoAgentFoundException\u001b[1;34m()\u001b[0m\n\u001b[0;32m      3\u001b[0m \u001b[1;33m\u001b[0m\u001b[0m\n\u001b[0;32m      4\u001b[0m \u001b[1;32mclass\u001b[0m \u001b[0mNoAgentFoundException\u001b[0m\u001b[1;33m(\u001b[0m\u001b[0mException\u001b[0m\u001b[1;33m)\u001b[0m\u001b[1;33m:\u001b[0m\u001b[1;33m\u001b[0m\u001b[1;33m\u001b[0m\u001b[0m\n\u001b[1;32m----> 5\u001b[1;33m     \u001b[0mprint\u001b[0m\u001b[1;33m(\u001b[0m\u001b[0mb\u001b[0m\u001b[1;33m)\u001b[0m\u001b[1;33m\u001b[0m\u001b[1;33m\u001b[0m\u001b[0m\n\u001b[0m\u001b[0;32m      6\u001b[0m \u001b[1;33m\u001b[0m\u001b[0m\n\u001b[0;32m      7\u001b[0m     \u001b[1;32mpass\u001b[0m\u001b[1;33m\u001b[0m\u001b[1;33m\u001b[0m\u001b[0m\n",
      "\u001b[1;31mNameError\u001b[0m: name 'b' is not defined"
     ]
    }
   ],
   "source": [
    "from typing import List, Text\n",
    "\n",
    "\n",
    "class NoAgentFoundException(Exception):\n",
    "    print(Exception)\n",
    "\n",
    "    pass\n",
    "\n",
    "\n",
    "class Agent(object):\n",
    "    def __str__(self):\n",
    "        return \"<Agent: {}>\".format(self._name)\n",
    "\n",
    "\n",
    "class Ticket(object):\n",
    "    pass\n",
    "\n",
    "\n",
    "class FinderPolicy(object):\n",
    "    def _filter_loaded_agents(self, agents: List[Agent]) -> List[Agent]:\n",
    "        raise NotImplemented\n",
    "\n",
    "    def find(self, ticket: Ticket, agents: List[Agent]) -> Agent:\n",
    "        raise NotImplemented\n",
    "\n",
    "\n",
    "class LeastLoadedAgent(FinderPolicy):\n",
    "    def find(self, ticket: Ticket, agents: List[Agent]) -> Agent:\n",
    "        raise NotImplemented\n",
    "\n",
    "\n",
    "class LeastFlexibleAgent(FinderPolicy):\n",
    "    def find(self, ticket: Ticket, agents: List[Agent]) -> Agent:\n",
    "        raise NotImplemented\n"
   ]
  }
 ],
 "metadata": {
  "kernelspec": {
   "display_name": "Python 3",
   "language": "python",
   "name": "python3"
  },
  "language_info": {
   "codemirror_mode": {
    "name": "ipython",
    "version": 3
   },
   "file_extension": ".py",
   "mimetype": "text/x-python",
   "name": "python",
   "nbconvert_exporter": "python",
   "pygments_lexer": "ipython3",
   "version": "3.7.6"
  }
 },
 "nbformat": 4,
 "nbformat_minor": 4
}
