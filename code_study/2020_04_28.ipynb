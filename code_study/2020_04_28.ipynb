{
 "cells": [
  {
   "cell_type": "code",
   "execution_count": null,
   "metadata": {},
   "outputs": [],
   "source": [
    "#input data\n",
    "a = list(map(int, input().split()))"
   ]
  },
  {
   "cell_type": "code",
   "execution_count": 3,
   "metadata": {},
   "outputs": [
    {
     "name": "stdout",
     "output_type": "stream",
     "text": [
      "16\n"
     ]
    }
   ],
   "source": [
    "#옻놀이 matrix\n",
    "b = [[2,4,6,8,10,13,16,19,25,30,35,40,0],\n",
    "     [12,14,16,18,20,22,24],\n",
    "     [22,24,26,28,30,28,27,26],\n",
    "     [32,34,36,38,40,0]]\n",
    "\n",
    "#흔적 matrix\n",
    "\n",
    "d = [[0,0,0,0,0,0,0,0,0,0,0,0,0,0,0],\n",
    "     [0,0,0,0,0,0,0],\n",
    "     [0,0,0,0,0,0,0,0]\n",
    "     [0,0,0,0,0,0]]\n"
   ]
  },
  {
   "cell_type": "code",
   "execution_count": 8,
   "metadata": {},
   "outputs": [
    {
     "name": "stdout",
     "output_type": "stream",
     "text": [
      "000\n"
     ]
    }
   ],
   "source": [
    "import math\n",
    "def solution(numbers):\n",
    "    \n",
    "    a = [0 for i in range(len(numbers))]\n",
    "    c = [0 for i in range(len(numbers))]\n",
    "    b = 0\n",
    "    while b == math.factorial(len(numbers)) :\n",
    "        for i in range(len(numbers)-1):\n",
    "            if int(str(numbers[i])+number[i+1]) < int(str(numbers[i+1])+number[i])  :\n",
    "                a[i] = numbers[i+1]\n",
    "                a[i+1] = numbers[i]\n",
    "                b += 1\n",
    "                numbers[i+1] = a[i]\n",
    "                numbers[i] = a[i+1]\n",
    "            elif int(str(numbers[i])+number[i+1]) > int(str(numbers[i+1])+number[i])  :\n",
    "                a[i] = numbers[i]\n",
    "                a[i+1] = numbers[i+1]\n",
    "                b += 1\n",
    "                numbers[i] = a[i]\n",
    "                numbers[i+1]=a[i+1]\n",
    "    \n",
    "    for j in range(len(a)):\n",
    "        c[j] = str(numbers[j])\n",
    "\n",
    "\n",
    "    answer = ''.join(c)\n",
    "\n",
    "    return answer"
   ]
  }
 ],
 "metadata": {
  "kernelspec": {
   "display_name": "Python 3",
   "language": "python",
   "name": "python3"
  },
  "language_info": {
   "codemirror_mode": {
    "name": "ipython",
    "version": 3
   },
   "file_extension": ".py",
   "mimetype": "text/x-python",
   "name": "python",
   "nbconvert_exporter": "python",
   "pygments_lexer": "ipython3",
   "version": "3.7.6"
  }
 },
 "nbformat": 4,
 "nbformat_minor": 4
}
