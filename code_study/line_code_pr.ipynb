{
 "cells": [
  {
   "cell_type": "code",
   "execution_count": 2,
   "metadata": {
    "scrolled": true
   },
   "outputs": [
    {
     "name": "stdout",
     "output_type": "stream",
     "text": [
      "5\n"
     ]
    }
   ],
   "source": [
    "a = [\"3241523133\",\"4121314445\",\"3243523133\",\"4433325251\",\"2412313253\"]\n",
    "\n",
    "print(len(a))"
   ]
  },
  {
   "cell_type": "code",
   "execution_count": 1,
   "metadata": {},
   "outputs": [
    {
     "name": "stdout",
     "output_type": "stream",
     "text": [
      "[[['3', '2', '4', '1', '5', '2', '3', 0, '3', '3']], [[0, 0, '2', '1', 0, 0, '4', '4', 0, '5']], [['3', '2', '4', '3', '5', '2', '3', 0, '3', '3']], [[0, '4', 0, '3', 0, '2', 0, '2', '5', '1']], [['2', '4', '1', 0, 0, 0, '3', '2', '5', '3']]]\n"
     ]
    }
   ],
   "source": [
    "answer_sheet = \"4132315142\"\n",
    "sheets = [\"3241523133\",\"4121314445\",\"3243523133\",\"4433325251\",\"2412313253\"]\n",
    "teacher = list(str(answer_sheet))\n",
    "total_check = []\n",
    "for i in range(len(sheets)):\n",
    "    student = list(str(sheets[i]))\n",
    "    check = []\n",
    "    for j in range(len(teacher)):\n",
    "        if teacher[j] == student[j] :\n",
    "            student[j] = 0\n",
    "    total_check.append([student])        \n",
    "print(total_check)"
   ]
  },
  {
   "cell_type": "code",
   "execution_count": 3,
   "metadata": {
    "scrolled": true
   },
   "outputs": [
    {
     "ename": "TypeError",
     "evalue": "unsupported operand type(s) for +: 'int' and 'str'",
     "output_type": "error",
     "traceback": [
      "\u001b[1;31m---------------------------------------------------------------------------\u001b[0m",
      "\u001b[1;31mTypeError\u001b[0m                                 Traceback (most recent call last)",
      "\u001b[1;32m<ipython-input-3-c994ea869b7d>\u001b[0m in \u001b[0;36m<module>\u001b[1;34m\u001b[0m\n\u001b[0;32m      1\u001b[0m \u001b[0msheets\u001b[0m \u001b[1;33m=\u001b[0m \u001b[1;33m[\u001b[0m\u001b[1;36m1\u001b[0m\u001b[1;33m,\u001b[0m\u001b[1;36m2\u001b[0m\u001b[1;33m,\u001b[0m\u001b[1;36m3\u001b[0m\u001b[1;33m,\u001b[0m\u001b[1;34m\"3241523133\"\u001b[0m\u001b[1;33m,\u001b[0m\u001b[1;34m\"4121314445\"\u001b[0m\u001b[1;33m,\u001b[0m\u001b[1;34m\"3243523133\"\u001b[0m\u001b[1;33m,\u001b[0m\u001b[1;34m\"4433325251\"\u001b[0m\u001b[1;33m,\u001b[0m\u001b[1;34m\"2412313253\"\u001b[0m\u001b[1;33m]\u001b[0m\u001b[1;33m\u001b[0m\u001b[1;33m\u001b[0m\u001b[0m\n\u001b[0;32m      2\u001b[0m \u001b[1;33m\u001b[0m\u001b[0m\n\u001b[1;32m----> 3\u001b[1;33m \u001b[0ma\u001b[0m \u001b[1;33m=\u001b[0m \u001b[0msum\u001b[0m\u001b[1;33m(\u001b[0m\u001b[0msheets\u001b[0m\u001b[1;33m)\u001b[0m\u001b[1;33m\u001b[0m\u001b[1;33m\u001b[0m\u001b[0m\n\u001b[0m\u001b[0;32m      4\u001b[0m \u001b[0mprint\u001b[0m\u001b[1;33m(\u001b[0m\u001b[0ma\u001b[0m\u001b[1;33m)\u001b[0m\u001b[1;33m\u001b[0m\u001b[1;33m\u001b[0m\u001b[0m\n",
      "\u001b[1;31mTypeError\u001b[0m: unsupported operand type(s) for +: 'int' and 'str'"
     ]
    }
   ],
   "source": [
    "sheets = [1,2,3,\"3241523133\",\"4121314445\",\"3243523133\",\"4433325251\",\"2412313253\"]\n",
    "\n",
    "a = sum(sheets)\n",
    "print(a)"
   ]
  },
  {
   "cell_type": "code",
   "execution_count": 15,
   "metadata": {},
   "outputs": [
    {
     "name": "stdout",
     "output_type": "stream",
     "text": [
      "30\n"
     ]
    }
   ],
   "source": [
    "a = list(str(\"111011110011111011111100011111\"))\n",
    "b = 3\n",
    "count = 0\n",
    "for i in range(len(a)):\n",
    "    if a[i] == '0' :\n",
    "        a[i] = '1'\n",
    "        b -= 1\n",
    "        if b == 0 :\n",
    "            for j in range(len(a)):\n",
    "                if a[i] == '1' :\n",
    "                    count += 1\n",
    "    \n",
    "                \n",
    "\n",
    "\n",
    "\n",
    "for z in range(len(a)):\n",
    "    if a[i] == 1 :\n",
    "        count +=1\n",
    "print(count)"
   ]
  },
  {
   "cell_type": "code",
   "execution_count": 18,
   "metadata": {
    "scrolled": true
   },
   "outputs": [
    {
     "name": "stdout",
     "output_type": "stream",
     "text": [
      "[['ACCOUNT1', '50'], ['ACCOUNT2', '220'], ['ACCOUNT3', '500'], ['ACCOUNT3', '500']]\n"
     ]
    }
   ],
   "source": [
    "snapshots =[\n",
    "  [\"ACCOUNT1\", \"100\"], \n",
    "  [\"ACCOUNT2\", \"150\"]\n",
    "]\n",
    "transactions =[\n",
    "  [\"1\", \"SAVE\", \"ACCOUNT2\", \"100\"],\n",
    "  [\"2\", \"WITHDRAW\", \"ACCOUNT1\", \"50\"], \n",
    "  [\"1\", \"SAVE\", \"ACCOUNT2\", \"100\"], \n",
    "  [\"4\", \"SAVE\", \"ACCOUNT3\", \"500\"], \n",
    "  [\"3\", \"WITHDRAW\", \"ACCOUNT2\", \"30\"]\n",
    "]\n",
    "\n",
    "a = []\n",
    "b = []\n",
    "for i in range(len(snapshots)):\n",
    "    b.append(snapshots[i][0])\n",
    "\n",
    "for i in range(len(transactions)):\n",
    "    if transactions[i][0] not in a :\n",
    "        a.append(transactions[i][0])\n",
    "        if transactions[i][1] == \"SAVE\" :\n",
    "            c = transactions[i][2]\n",
    "            d = transactions[i][3]\n",
    "            for j in range(len(snapshots)):\n",
    "                if c == snapshots[j][0] :\n",
    "                    cost = int(snapshots[j][1])+int(d)\n",
    "                    snapshots[j][1] = str(cost)\n",
    "                elif c not in b :\n",
    "                    snapshots.append([transactions[i][2],transactions[i][3]])\n",
    "\n",
    "        elif transactions[i][1] == \"WITHDRAW\" :\n",
    "            c = transactions[i][2]\n",
    "            d = transactions[i][3]\n",
    "            for j in range(len(snapshots)):\n",
    "                if c == snapshots[j][0] :\n",
    "                    cost = int(snapshots[j][1])-int(d)\n",
    "                    snapshots[j][1] = str(cost)\n",
    "\n",
    "result =snapshots\n",
    "print(result)"
   ]
  },
  {
   "cell_type": "code",
   "execution_count": 17,
   "metadata": {},
   "outputs": [
    {
     "name": "stdout",
     "output_type": "stream",
     "text": [
      "200\n",
      "[['ACCOUNT1', '200'], ['ACCOUNT2', '150']]\n"
     ]
    }
   ],
   "source": [
    "snapshots =[\n",
    "  [\"ACCOUNT1\", \"100\"], \n",
    "  [\"ACCOUNT2\", \"150\"]\n",
    "]\n",
    "transactions =[\n",
    "  [\"1\", \"SAVE\", \"ACCOUNT2\", \"100\"],\n",
    "  [\"2\", \"WITHDRAW\", \"ACCOUNT1\", \"50\"], \n",
    "  [\"1\", \"SAVE\", \"ACCOUNT2\", \"100\"], \n",
    "  [\"4\", \"SAVE\", \"ACCOUNT3\", \"500\"], \n",
    "  [\"3\", \"WITHDRAW\", \"ACCOUNT2\", \"30\"]\n",
    "]\n",
    "\n",
    "\n",
    "cost = int(snapshots[0][1])+int(transactions[0][3])\n",
    "\n",
    "print(cost)\n",
    "snapshots[0][1] = str(cost)\n",
    "print(snapshots)"
   ]
  },
  {
   "cell_type": "code",
   "execution_count": 19,
   "metadata": {},
   "outputs": [
    {
     "name": "stdout",
     "output_type": "stream",
     "text": [
      "['doc2', 't0', 't2', 't3']\n"
     ]
    }
   ],
   "source": [
    "c = [\n",
    "    [\"doc1\", \"t1\", \"t2\", \"t3\"],\n",
    "    [\"doc2\", \"t0\", \"t2\", \"t3\"],\n",
    "    [\"doc3\", \"t1\", \"t6\", \"t7\"],\n",
    "    [\"doc4\", \"t1\", \"t2\", \"t4\"],\n",
    "    [\"doc5\", \"t6\", \"t100\", \"t8\"]\n",
    "]\n",
    "\n",
    "print(c[1])"
   ]
  }
 ],
 "metadata": {
  "kernelspec": {
   "display_name": "Python 3",
   "language": "python",
   "name": "python3"
  },
  "language_info": {
   "codemirror_mode": {
    "name": "ipython",
    "version": 3
   },
   "file_extension": ".py",
   "mimetype": "text/x-python",
   "name": "python",
   "nbconvert_exporter": "python",
   "pygments_lexer": "ipython3",
   "version": "3.7.4"
  }
 },
 "nbformat": 4,
 "nbformat_minor": 2
}
