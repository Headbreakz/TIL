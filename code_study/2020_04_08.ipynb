{
 "cells": [
  {
   "cell_type": "code",
   "execution_count": 36,
   "metadata": {
    "scrolled": true
   },
   "outputs": [
    {
     "name": "stdout",
     "output_type": "stream",
     "text": [
      "10\n",
      "4/1\n"
     ]
    }
   ],
   "source": [
    "#1193\n",
    "a = int(input())\n",
    "count = 0\n",
    "while (a > count) :\n",
    "    a -= count\n",
    "    count += 1\n",
    "c = str((count+1)-a)\n",
    "d = str(a)\n",
    "\n",
    "if count%2 == 0 :\n",
    "    print(d+\"/\"+c)\n",
    "elif count%2 != 0:\n",
    "    print(c+\"/\"+d)\n",
    "\n"
   ]
  },
  {
   "cell_type": "code",
   "execution_count": null,
   "metadata": {},
   "outputs": [],
   "source": [
    "#2869\n",
    "import sys\n",
    "a, b, c = map(int, sys.stdin.readline().split())\n",
    "print((c-b-1)//(a-b)+1)\n",
    "    "
   ]
  },
  {
   "cell_type": "code",
   "execution_count": 2,
   "metadata": {},
   "outputs": [
    {
     "name": "stdout",
     "output_type": "stream",
     "text": [
      "2\n",
      "6 12 6\n",
      "601\n",
      "1 99 5\n",
      "105\n"
     ]
    }
   ],
   "source": [
    "#10250\n",
    "T = int(input())\n",
    "for i in range(T):\n",
    "    a,b,c = map(int,input().split())\n",
    "    if c%a == 0 :\n",
    "        print((a*100)+(c//a))\n",
    "    else :\n",
    "        print(((c%a)*100)+(c//a)+1)\n",
    "  "
   ]
  },
  {
   "cell_type": "code",
   "execution_count": 9,
   "metadata": {
    "scrolled": true
   },
   "outputs": [
    {
     "name": "stdout",
     "output_type": "stream",
     "text": [
      "2\n",
      "1\n",
      "3\n",
      "6\n",
      "2\n",
      "3\n",
      "10\n"
     ]
    }
   ],
   "source": [
    "#2775\n",
    "T = int(input())\n",
    "\n",
    "for i in range(T):\n",
    "    a = int(input())\n",
    "    b = int(input())\n",
    "    c = [i for i in range(1,b+1)]\n",
    "    for _ in range(a):\n",
    "        for j in range(1, b):\n",
    "            c[j] += c[j-1]\n",
    "    print(c[-1])"
   ]
  },
  {
   "cell_type": "code",
   "execution_count": 20,
   "metadata": {},
   "outputs": [
    {
     "name": "stdout",
     "output_type": "stream",
     "text": [
      "3\n",
      "0 3\n",
      "3\n",
      "1 5\n",
      "3\n",
      "45 50\n",
      "4\n"
     ]
    }
   ],
   "source": [
    "#1011\n",
    "\n",
    "\n",
    "    \n",
    "    "
   ]
  }
 ],
 "metadata": {
  "kernelspec": {
   "display_name": "Python 3",
   "language": "python",
   "name": "python3"
  },
  "language_info": {
   "codemirror_mode": {
    "name": "ipython",
    "version": 3
   },
   "file_extension": ".py",
   "mimetype": "text/x-python",
   "name": "python",
   "nbconvert_exporter": "python",
   "pygments_lexer": "ipython3",
   "version": "3.7.4"
  }
 },
 "nbformat": 4,
 "nbformat_minor": 2
}
