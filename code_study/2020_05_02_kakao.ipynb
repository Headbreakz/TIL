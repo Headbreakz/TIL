{
 "cells": [
  {
   "cell_type": "code",
   "execution_count": 48,
   "metadata": {},
   "outputs": [
    {
     "data": {
      "text/plain": [
       "[]"
      ]
     },
     "execution_count": 48,
     "metadata": {},
     "output_type": "execute_result"
    }
   ],
   "source": [
    "#크레인 인형뽑기\n",
    "def solution(board, moves):\n",
    "    box = []\n",
    "    cnt = 0\n",
    "    for i in range(len(moves)):\n",
    "        for j in range(len(board)):\n",
    "            if board[j][moves[i]-1] != 0 :\n",
    "                box.append(board[j][moves[i]-1])\n",
    "                board[j][moves[i]-1] = 0\n",
    "                if len(box) > 1 and box[-1] == box [-2]:\n",
    "                    cnt += 2\n",
    "                    box.pop(-1)\n",
    "                    box.pop(-1)\n",
    "                break\n",
    "            else :\n",
    "                continue\n",
    "                   \n",
    "    \n",
    "    return cnt"
   ]
  },
  {
   "cell_type": "code",
   "execution_count": 35,
   "metadata": {
    "scrolled": true
   },
   "outputs": [
    {
     "ename": "AttributeError",
     "evalue": "'list' object has no attribute 'value'",
     "output_type": "error",
     "traceback": [
      "\u001b[1;31m---------------------------------------------------------------------------\u001b[0m",
      "\u001b[1;31mAttributeError\u001b[0m                            Traceback (most recent call last)",
      "\u001b[1;32m<ipython-input-35-74c4f41342a8>\u001b[0m in \u001b[0;36m<module>\u001b[1;34m\u001b[0m\n\u001b[0;32m      2\u001b[0m \u001b[1;33m\u001b[0m\u001b[0m\n\u001b[0;32m      3\u001b[0m \u001b[0ma\u001b[0m \u001b[1;33m=\u001b[0m \u001b[1;33m[\u001b[0m\u001b[1;36m3\u001b[0m\u001b[1;33m,\u001b[0m\u001b[1;36m4\u001b[0m\u001b[1;33m,\u001b[0m\u001b[1;36m58\u001b[0m\u001b[1;33m,\u001b[0m\u001b[1;36m6\u001b[0m\u001b[1;33m,\u001b[0m\u001b[1;36m1\u001b[0m\u001b[1;33m,\u001b[0m\u001b[1;36m2\u001b[0m\u001b[1;33m,\u001b[0m\u001b[1;36m3\u001b[0m\u001b[1;33m]\u001b[0m\u001b[1;33m\u001b[0m\u001b[1;33m\u001b[0m\u001b[0m\n\u001b[1;32m----> 4\u001b[1;33m \u001b[0mprint\u001b[0m\u001b[1;33m(\u001b[0m\u001b[0ma\u001b[0m\u001b[1;33m.\u001b[0m\u001b[0mvalue\u001b[0m\u001b[1;33m(\u001b[0m\u001b[1;36m3\u001b[0m\u001b[1;33m)\u001b[0m\u001b[1;33m+\u001b[0m\u001b[1;36m1\u001b[0m\u001b[1;33m)\u001b[0m\u001b[1;33m\u001b[0m\u001b[1;33m\u001b[0m\u001b[0m\n\u001b[0m",
      "\u001b[1;31mAttributeError\u001b[0m: 'list' object has no attribute 'value'"
     ]
    }
   ],
   "source": [
    "#호텔 방 배정\n",
    "\n",
    "def solution(k, room_number):\n",
    "    a = [0 for _ in range(k+1)]\n",
    "    b = []\n",
    "    for i in range(len(room_number)):\n",
    "        if a[room_number[i]] == 0 :\n",
    "            a[room_number[i]] = room_number[i]\n",
    "            b.append(room_number[i])\n",
    "        elif a[room_number[i]] != 0 :\n",
    "            for j in range(1,len(room_number)-room_number[i]+1):\n",
    "                if a[room_number[i]+j] == 0 :\n",
    "                    a[room_number[i]+j] = room_number[i]+j\n",
    "                    b.append(room_number[i]+j)\n",
    "                    \n",
    "                    \n",
    "                    \n",
    "    answer = b\n",
    "    return answer\n",
    "\n",
    "#테스트 할땐 정답이나, 코드채점하면 박살남"
   ]
  },
  {
   "cell_type": "code",
   "execution_count": null,
   "metadata": {},
   "outputs": [],
   "source": [
    "def solution(k, room_number):\n",
    "    a = []\n",
    "    for i in range(len(room_number)):\n",
    "        if room_number[i] not in a :\n",
    "            a.append(room_number[i])\n",
    "        \n",
    "        elif room_number[i] in a :\n",
    "            for j in range(len(room_number)):\n",
    "                if room_number[i]+j not in a :\n",
    "                    a.append(room_number[i]+j)\n",
    "                    break  \n",
    "           \n",
    "    return a"
   ]
  }
 ],
 "metadata": {
  "kernelspec": {
   "display_name": "Python 3",
   "language": "python",
   "name": "python3"
  },
  "language_info": {
   "codemirror_mode": {
    "name": "ipython",
    "version": 3
   },
   "file_extension": ".py",
   "mimetype": "text/x-python",
   "name": "python",
   "nbconvert_exporter": "python",
   "pygments_lexer": "ipython3",
   "version": "3.7.6"
  }
 },
 "nbformat": 4,
 "nbformat_minor": 4
}
