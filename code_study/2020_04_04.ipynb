{
 "cells": [
  {
   "cell_type": "code",
   "execution_count": 9,
   "metadata": {
    "scrolled": true
   },
   "outputs": [
    {
     "name": "stdout",
     "output_type": "stream",
     "text": [
      "9\n",
      "57\n"
     ]
    }
   ],
   "source": [
    "#문자열\n",
    "#11654\n",
    "a = input()\n",
    "print(ord(a))"
   ]
  },
  {
   "cell_type": "code",
   "execution_count": 18,
   "metadata": {},
   "outputs": [
    {
     "name": "stdout",
     "output_type": "stream",
     "text": [
      "1\n",
      "1\n",
      "1\n"
     ]
    }
   ],
   "source": [
    "#11720\n",
    "a = int(input())\n",
    "b = list(str(input()))\n",
    "e = 0\n",
    "for i in range(a):\n",
    "    d = int(b[i])\n",
    "    e += d  \n",
    "print(e)"
   ]
  },
  {
   "cell_type": "code",
   "execution_count": 25,
   "metadata": {},
   "outputs": [
    {
     "name": "stdout",
     "output_type": "stream",
     "text": [
      "baekjoon\n",
      "1 0 -1 -1 2 -1 -1 -1 -1 4 3 -1 -1 7 5 -1 -1 -1 -1 -1 -1 -1 -1 -1 -1 -1 "
     ]
    }
   ],
   "source": [
    "#10809\n",
    "a = list(str(input()))\n",
    "b = ['a','b','c','d','e','f','g','h','i','j','k','l','m','n','o','p','q','r','s','t','u','v','w','x','y','z']\n",
    "c = [-1 for j in range(len(b))]\n",
    "\n",
    "for i in range(len(a)):\n",
    "    if c[b.index(a[i])] == -1 :\n",
    "        c[b.index(a[i])] = i\n",
    "for i in range(len(c)):\n",
    "    print(c[i],end = \" \")\n",
    "\n",
    "    \n",
    "\n"
   ]
  },
  {
   "cell_type": "code",
   "execution_count": 2,
   "metadata": {
    "scrolled": true
   },
   "outputs": [
    {
     "name": "stdout",
     "output_type": "stream",
     "text": [
      "2\n",
      "3 abc\n",
      "aaabbbccc\n",
      "5 adf\n",
      "aaaaadddddfffff\n"
     ]
    }
   ],
   "source": [
    "#2675\n",
    "a = int(input())\n",
    "\n",
    "for i in range(a):\n",
    "    b = list(map(str,input().split()))\n",
    "    c = list(b[1])\n",
    "    d = ''\n",
    "    for j in range(len(c)):\n",
    "        d += c[j]*int(b[0])\n",
    "    print(d)\n",
    "        \n",
    "        \n",
    "    \n",
    "    \n",
    "    "
   ]
  },
  {
   "cell_type": "code",
   "execution_count": 35,
   "metadata": {},
   "outputs": [
    {
     "name": "stdout",
     "output_type": "stream",
     "text": [
      "Mississipi\n",
      "['I', 'P', 'M', 'S']\n",
      "?\n"
     ]
    }
   ],
   "source": [
    "#1157\n",
    "a = str(input())\n",
    "b = list(a.upper())\n",
    "c = list(set(b))\n",
    "d = []\n",
    "\n",
    "if len(b) == 1 :\n",
    "    print(a.upper())\n",
    "    \n",
    "else :\n",
    "\n",
    "    for i in range(len(c)):\n",
    "        d.append(b.count(c[i]))\n",
    "    e = sorted(d)\n",
    "    if e[len(c)-1] == e[len(c)-2] :\n",
    "        print(\"?\")\n",
    "    else :\n",
    "        print(c[d.index(max(d))])\n",
    "\n",
    "    \n"
   ]
  },
  {
   "cell_type": "code",
   "execution_count": 74,
   "metadata": {},
   "outputs": [
    {
     "name": "stdout",
     "output_type": "stream",
     "text": [
      "The Curious Case of Benjamin Button\n",
      "6\n"
     ]
    }
   ],
   "source": [
    "#1152\n",
    "a = list(input().split())\n",
    "print(len(a))"
   ]
  },
  {
   "cell_type": "code",
   "execution_count": 92,
   "metadata": {},
   "outputs": [
    {
     "name": "stdout",
     "output_type": "stream",
     "text": [
      "734 893\n",
      "437\n"
     ]
    }
   ],
   "source": [
    "#2908\n",
    "a =list(map(int,input().split()))\n",
    "\n",
    "c = ((a[0]%10)*100)+(((a[0]%100)-(a[0]%10)))+(a[0]//100)\n",
    "d = ((a[1]%10)*100)+(((a[1]%100)-(a[1]%10)))+(a[1]//100)\n",
    "\n",
    "if c > d :\n",
    "    print(c)\n",
    "elif c < d :\n",
    "    print(d)"
   ]
  },
  {
   "cell_type": "code",
   "execution_count": 22,
   "metadata": {},
   "outputs": [
    {
     "name": "stdout",
     "output_type": "stream",
     "text": [
      "UNU\n",
      "9\n"
     ]
    }
   ],
   "source": [
    "#5622\n",
    "a = list(str(input()))\n",
    "b = 0\n",
    "for i in range(len(a)):\n",
    "    if a[i] =='A' or a[i] == 'B' or a[i] == 'C':\n",
    "        b +=2\n",
    "    elif a[i] =='D' or a[i] == 'E' or a[i] == 'F':\n",
    "        b +=3\n",
    "    elif a[i] =='G' or a[i] == 'H' or a[i] == 'I':\n",
    "        b +=4\n",
    "    elif a[i] =='J' or a[i] == 'K' or a[i] == 'L':\n",
    "        b +=5\n",
    "    elif a[i] =='N' or a[i] == 'M' or a[i] == 'O':\n",
    "        b +=6\n",
    "    elif a[i] =='P' or a[i] == 'Q' or a[i] == 'R' or a[i] =='S':\n",
    "        b +=7\n",
    "    elif a[i] =='T' or a[i] == 'U' or a[i] == 'V':\n",
    "        b +=8\n",
    "    elif a[i] =='W' or a[i] == 'X' or a[i] == 'Y' or a[i] =='Z':\n",
    "        b +=9\n",
    "print(b+len(a))"
   ]
  },
  {
   "cell_type": "code",
   "execution_count": 49,
   "metadata": {
    "scrolled": false
   },
   "outputs": [
    {
     "name": "stdout",
     "output_type": "stream",
     "text": [
      "ljes=njak\n",
      "ljes=njak\n",
      "ljes=njak\n",
      "ljes=njak\n",
      "ljes=njak\n",
      "*es=njak\n",
      "*es=*ak\n",
      "*e**ak\n",
      "*e**ak\n",
      "6\n"
     ]
    }
   ],
   "source": [
    "#2941\n",
    "\n",
    "a = input()\n",
    "\n",
    "b = ['c=','c-','dz=','d-','lj','nj','s=','z=']\n",
    "\n",
    "for i in b :\n",
    "    a = a.replace(i,'*')\n",
    "    \n",
    "print(len(a))"
   ]
  },
  {
   "cell_type": "code",
   "execution_count": 8,
   "metadata": {},
   "outputs": [
    {
     "name": "stdout",
     "output_type": "stream",
     "text": [
      "3\n",
      "happy\n",
      "new\n",
      "year\n",
      "3\n"
     ]
    }
   ],
   "source": [
    "#1316\n",
    "\n",
    "a = int(input())\n",
    "count = 0\n",
    "for i in range(a):\n",
    "    b = list(str(input()))\n",
    "    c = []\n",
    "    c.append(b[0])\n",
    "    if len(b) == 1 :\n",
    "            pass\n",
    "            \n",
    "    else :\n",
    "        for j in range(len(b)-1):\n",
    "            if b[j] != b[j+1] :\n",
    "                c.append(b[j+1])\n",
    "                \n",
    "    if len(c) == len(set(c)):\n",
    "        count+=1\n",
    "\n",
    "print(count)\n",
    "        \n",
    "\n",
    "    "
   ]
  }
 ],
 "metadata": {
  "kernelspec": {
   "display_name": "Python 3",
   "language": "python",
   "name": "python3"
  },
  "language_info": {
   "codemirror_mode": {
    "name": "ipython",
    "version": 3
   },
   "file_extension": ".py",
   "mimetype": "text/x-python",
   "name": "python",
   "nbconvert_exporter": "python",
   "pygments_lexer": "ipython3",
   "version": "3.7.4"
  }
 },
 "nbformat": 4,
 "nbformat_minor": 2
}
