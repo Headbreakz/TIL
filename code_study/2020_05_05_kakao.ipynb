{
 "cells": [
  {
   "cell_type": "code",
   "execution_count": null,
   "metadata": {},
   "outputs": [],
   "source": [
    "#튜플\n",
    "\n",
    "def solution(s):\n",
    "    b = []\n",
    "    a = list(s[2:-2].split(\"},{\"))\n",
    "    a.sort(key = len)\n",
    "    for i in range(len(a)):\n",
    "        c=list(a[i].split(\",\"))\n",
    "        for j in range(len(c)):            \n",
    "            if c[j] not in b and c[j] != \",\" :\n",
    "                b.append(c[j])\n",
    "            \n",
    "    for q in range(len(b)):\n",
    "        b[q] = int(b[q])\n",
    "    \n",
    "    answer = b\n",
    "    return answer"
   ]
  }
 ],
 "metadata": {
  "kernelspec": {
   "display_name": "Python 3",
   "language": "python",
   "name": "python3"
  },
  "language_info": {
   "codemirror_mode": {
    "name": "ipython",
    "version": 3
   },
   "file_extension": ".py",
   "mimetype": "text/x-python",
   "name": "python",
   "nbconvert_exporter": "python",
   "pygments_lexer": "ipython3",
   "version": "3.7.6"
  }
 },
 "nbformat": 4,
 "nbformat_minor": 4
}
