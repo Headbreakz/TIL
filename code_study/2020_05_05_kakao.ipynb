{
 "cells": [
  {
   "cell_type": "code",
   "execution_count": 58,
   "metadata": {},
   "outputs": [],
   "source": [
    "#튜플\n",
    "\n",
    "def solution(s):\n",
    "    b = []\n",
    "    a = list(s[2:-2].split(\"},{\"))\n",
    "    a.sort(key = len)\n",
    "    for i in range(len(a)):\n",
    "        c=list(a[i].split(\",\"))\n",
    "        for j in range(len(c)):            \n",
    "            if c[j] not in b and c[j] != \",\" :\n",
    "                b.append(c[j])\n",
    "            \n",
    "    for q in range(len(b)):\n",
    "        b[q] = int(b[q])\n",
    "    \n",
    "    answer = b\n",
    "    return answer"
   ]
  },
  {
   "cell_type": "code",
   "execution_count": 190,
   "metadata": {},
   "outputs": [],
   "source": [
    "stones = [0, 0, 0, 0, 0, 0, 0, 0, 0, 0]\n",
    "k = 3"
   ]
  },
  {
   "cell_type": "code",
   "execution_count": 192,
   "metadata": {},
   "outputs": [
    {
     "name": "stdout",
     "output_type": "stream",
     "text": [
      "0\n"
     ]
    }
   ],
   "source": [
    "#징검다리 건너기\n",
    "\n",
    "def solution(stones, k):\n",
    "    \n",
    "    p = 0\n",
    "    cnt = 0    \n",
    "    out_sign = True\n",
    "\n",
    "    for _ in range(200000000):\n",
    "\n",
    "        for i in range(len(stones)):\n",
    "            if stones[i] != 0 :\n",
    "                stones[i] = stones[i]-1\n",
    "                cnt = 0\n",
    "\n",
    "            elif stones[i] == 0 :\n",
    "                cnt += 1\n",
    "\n",
    "                if cnt == k :\n",
    "                    out_sign = False\n",
    "                    break\n",
    "        p += 1\n",
    "\n",
    "        if out_sign == False :\n",
    "            break\n",
    "            \n",
    "    return p-1\n",
    "\n",
    "\n",
    "    "
   ]
  }
 ],
 "metadata": {
  "kernelspec": {
   "display_name": "Python 3",
   "language": "python",
   "name": "python3"
  },
  "language_info": {
   "codemirror_mode": {
    "name": "ipython",
    "version": 3
   },
   "file_extension": ".py",
   "mimetype": "text/x-python",
   "name": "python",
   "nbconvert_exporter": "python",
   "pygments_lexer": "ipython3",
   "version": "3.7.6"
  }
 },
 "nbformat": 4,
 "nbformat_minor": 4
}
