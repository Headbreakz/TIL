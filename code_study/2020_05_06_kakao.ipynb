{
 "cells": [
  {
   "cell_type": "code",
   "execution_count": null,
   "metadata": {},
   "outputs": [],
   "source": []
  },
  {
   "cell_type": "code",
   "execution_count": 3,
   "metadata": {},
   "outputs": [],
   "source": [
    "#캐시\n",
    "def solution(cacheSize, cities):\n",
    "    city =[]\n",
    "    for j in range(len(cities)):\n",
    "        a = cities[j].upper()\n",
    "        city.append(a)\n",
    "    city_save=[]\n",
    "    time = 0\n",
    "    for i in range(len(city)):\n",
    "        if city[i] not in city_save :\n",
    "            time += 5\n",
    "            city_save.append(city[i])\n",
    "            if len(city_save) > cacheSize :\n",
    "                city_save.pop(0)\n",
    "                \n",
    "        elif city[i] in city_save:\n",
    "            time += 1\n",
    "            city_save.remove(city[i])\n",
    "            city_save.append(city[i])            \n",
    "    answer = time\n",
    "    \n",
    "    return answer"
   ]
  }
 ],
 "metadata": {
  "kernelspec": {
   "display_name": "Python 3",
   "language": "python",
   "name": "python3"
  },
  "language_info": {
   "codemirror_mode": {
    "name": "ipython",
    "version": 3
   },
   "file_extension": ".py",
   "mimetype": "text/x-python",
   "name": "python",
   "nbconvert_exporter": "python",
   "pygments_lexer": "ipython3",
   "version": "3.7.6"
  }
 },
 "nbformat": 4,
 "nbformat_minor": 4
}
