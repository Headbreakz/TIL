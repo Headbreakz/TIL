{
 "cells": [
  {
   "cell_type": "code",
   "execution_count": 2,
   "metadata": {},
   "outputs": [],
   "source": [
    "import face_recognition\n",
    "import cv2\n",
    "from sklearn.cluster import DBSCAN\n",
    "import numpy as np\n",
    "import os\n",
    "import pickle\n",
    "import signal\n",
    "import sys\n"
   ]
  },
  {
   "cell_type": "code",
   "execution_count": 3,
   "metadata": {},
   "outputs": [],
   "source": [
    "class Face():\n",
    "    def __init__(self, frame_id, name, box, encoding):\n",
    "        self.frame_id = frame_id\n",
    "        self.name = name\n",
    "        self.box = box\n",
    "        self.encoding = encoding"
   ]
  },
  {
   "cell_type": "code",
   "execution_count": 4,
   "metadata": {},
   "outputs": [],
   "source": [
    "def drawBoxes(self, frame, faces_in_frame):\n",
    "        # Draw a box around the face\n",
    "        for face in faces_in_frame:\n",
    "            (top, right, bottom, left) = face.box\n",
    "            cv2.rectangle(frame, (left, top), (right, bottom), (0, 0, 255), 2)\n",
    "\n",
    "def capture_filename(self, frame_id):\n",
    "    return \"frame_%08d.jpg\" % frame_id"
   ]
  },
  {
   "cell_type": "code",
   "execution_count": 5,
   "metadata": {},
   "outputs": [
    {
     "name": "stdout",
     "output_type": "stream",
     "text": [
      "start encoding from src: 1280x720, 23.976024 frame/sec\n",
      " - capture every 3 frame\n"
     ]
    }
   ],
   "source": [
    "src = cv2.VideoCapture('C:/Users/82107/Desktop/n_TIL/movie.mp4')\n",
    "faces = []\n",
    "frame_id = 0\n",
    "frame_rate = src.get(5)\n",
    "stop_at_frame = int(0 * frame_rate)\n",
    "frames_between_capture = int(round(frame_rate) / 8)\n",
    "print(\"start encoding from src: %dx%d, %f frame/sec\" % (src.get(3), src.get(4), frame_rate))\n",
    "print(\" - capture every %d frame\" % frames_between_capture)"
   ]
  },
  {
   "cell_type": "code",
   "execution_count": 25,
   "metadata": {},
   "outputs": [
    {
     "ename": "TypeError",
     "evalue": "drawBoxes() missing 1 required positional argument: 'faces_in_frame'",
     "output_type": "error",
     "traceback": [
      "\u001b[1;31m---------------------------------------------------------------------------\u001b[0m",
      "\u001b[1;31mTypeError\u001b[0m                                 Traceback (most recent call last)",
      "\u001b[1;32m<ipython-input-25-bb37bfaca6ed>\u001b[0m in \u001b[0;36m<module>\u001b[1;34m\u001b[0m\n\u001b[0;32m     20\u001b[0m         \u001b[0mfaces_in_frame\u001b[0m\u001b[1;33m.\u001b[0m\u001b[0mappend\u001b[0m\u001b[1;33m(\u001b[0m\u001b[0mface\u001b[0m\u001b[1;33m)\u001b[0m\u001b[1;33m\u001b[0m\u001b[1;33m\u001b[0m\u001b[0m\n\u001b[0;32m     21\u001b[0m \u001b[1;33m\u001b[0m\u001b[0m\n\u001b[1;32m---> 22\u001b[1;33m     \u001b[0mdrawBoxes\u001b[0m\u001b[1;33m(\u001b[0m\u001b[0mframe\u001b[0m\u001b[1;33m,\u001b[0m \u001b[0mfaces_in_frame\u001b[0m\u001b[1;33m)\u001b[0m\u001b[1;33m\u001b[0m\u001b[1;33m\u001b[0m\u001b[0m\n\u001b[0m\u001b[0;32m     23\u001b[0m     pathname = os.path.join(self.capture_dir,\n\u001b[0;32m     24\u001b[0m                             self.capture_filename(frame_id))\n",
      "\u001b[1;31mTypeError\u001b[0m: drawBoxes() missing 1 required positional argument: 'faces_in_frame'"
     ]
    }
   ],
   "source": [
    "while True:\n",
    "    ret, frame = src.read()\n",
    "    \n",
    "    \n",
    "    if frame is None:\n",
    "                break\n",
    "            \n",
    "    frame_id += 1\n",
    "    if frame_id % frames_between_capture != 0:\n",
    "        continue\n",
    "    \n",
    "    if stop_at_frame > 0 and frame_id > stop_at_frame:\n",
    "                break\n",
    "\n",
    "    rgb = frame[:, :, ::-1]\n",
    "    boxes = face_recognition.face_locations(rgb, model=\"hog\")\n",
    "    encodings = face_recognition.face_encodings(rgb, boxes)\n",
    "\n",
    "    faces_in_frame = []\n",
    "    for box, encoding in zip(boxes, encodings):\n",
    "        face = Face(frame_id, None, box, encoding)\n",
    "        faces_in_frame.append(face)\n",
    "\n",
    "    drawBoxes(frame, faces_in_frame)\n",
    "    pathname = os.path.join(self.capture_dir,\n",
    "                            self.capture_filename(frame_id))\n",
    "    cv2.imwrite(pathname, frame)\n",
    "\n",
    "    faces.extend(faces_in_frame)"
   ]
  },
  {
   "cell_type": "code",
   "execution_count": 14,
   "metadata": {},
   "outputs": [],
   "source": [
    "known_face_encodings = []\n",
    "known_face_names = []"
   ]
  },
  {
   "cell_type": "code",
   "execution_count": 15,
   "metadata": {},
   "outputs": [],
   "source": [
    "dirname = 'knowns'\n",
    "files = os.listdir(dirname)\n",
    "for filename in files:\n",
    "    name, ext = os.path.splitext(filename)\n",
    "    if ext == '.png':\n",
    "        known_face_names.append(name)\n",
    "        pathname = os.path.join(dirname, filename)\n",
    "        img = face_recognition.load_image_file(pathname)\n",
    "        face_encoding = face_recognition.face_encodings(img)[0]\n",
    "        known_face_encodings.append(face_encoding)"
   ]
  },
  {
   "cell_type": "code",
   "execution_count": 16,
   "metadata": {},
   "outputs": [],
   "source": [
    "face_locations = []\n",
    "face_encodings = []\n",
    "face_names = []\n",
    "process_this_frame = True"
   ]
  },
  {
   "cell_type": "code",
   "execution_count": 17,
   "metadata": {},
   "outputs": [],
   "source": [
    "ret, frame = src.read()\n",
    "\n",
    "# Resize frame of video to 1/4 size for faster face recognition processing\n",
    "small_frame = cv2.resize(frame, (0, 0), fx=0.25, fy=0.25)\n",
    "rgb_small_frame = small_frame[:, :, ::-1]"
   ]
  },
  {
   "cell_type": "code",
   "execution_count": 18,
   "metadata": {},
   "outputs": [],
   "source": [
    "face_locations = face_recognition.face_locations(rgb_small_frame)\n",
    "face_encodings = face_recognition.face_encodings(rgb_small_frame, face_locations)"
   ]
  },
  {
   "cell_type": "code",
   "execution_count": 19,
   "metadata": {},
   "outputs": [],
   "source": [
    "distances = face_recognition.face_distance(known_face_encodings,face_encoding)\n",
    "min_value = min(distances)"
   ]
  },
  {
   "cell_type": "code",
   "execution_count": 20,
   "metadata": {},
   "outputs": [],
   "source": [
    "name = \"Unknown\"\n",
    "if min_value < 0.6:\n",
    "    index = np.argmin(distances)\n",
    "    name = known_face_names[index]"
   ]
  },
  {
   "cell_type": "code",
   "execution_count": 21,
   "metadata": {},
   "outputs": [],
   "source": [
    "for (top, right, bottom, left), name in zip(face_locations, face_names):\n",
    "    \n",
    "    # Scale back up face locations since the frame we detected in was scaled to 1/4 size\n",
    "    top *= 4\n",
    "    right *= 4\n",
    "    bottom *= 4\n",
    "    left *= 4\n",
    "\n",
    "    # Draw a box around the face\n",
    "    cv2.rectangle(frame, (left, top), (right, bottom), (0, 0, 255), 2)\n",
    "\n",
    "    # Draw a label with a name below the face\n",
    "    cv2.rectangle(frame, (left, bottom - 35), (right, bottom), (0, 0, 255), cv2.FILLED)\n",
    "    font = cv2.FONT_HERSHEY_DUPLEX\n",
    "    cv2.putText(frame, name, (left + 6, bottom - 6), font, 1.0, (255, 255, 255), 1)"
   ]
  }
 ],
 "metadata": {
  "kernelspec": {
   "display_name": "Python 3",
   "language": "python",
   "name": "python3"
  },
  "language_info": {
   "codemirror_mode": {
    "name": "ipython",
    "version": 3
   },
   "file_extension": ".py",
   "mimetype": "text/x-python",
   "name": "python",
   "nbconvert_exporter": "python",
   "pygments_lexer": "ipython3",
   "version": "3.8.3"
  }
 },
 "nbformat": 4,
 "nbformat_minor": 4
}
