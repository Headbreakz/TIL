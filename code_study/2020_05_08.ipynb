{
 "cells": [
  {
   "cell_type": "code",
   "execution_count": 21,
   "metadata": {
    "scrolled": true
   },
   "outputs": [
    {
     "name": "stdout",
     "output_type": "stream",
     "text": [
      "===================================\n",
      "이것이 들어간다 [0, 0, 0]\n",
      "[[0, 0, 0]]\n",
      "===================================\n",
      "이것이 들어간다 [2, 0, 0]\n",
      "[[0, 0, 0], [2, 0, 0]]\n",
      "===================================\n",
      "이것이 들어간다 [4, 0, 0]\n",
      "[[0, 0, 0], [2, 0, 0], [4, 0, 0]]\n",
      "===================================\n",
      "이것이 들어간다 [0, 1, 1]\n",
      "[[0, 0, 0], [2, 0, 0], [4, 0, 0], [0, 1, 1]]\n",
      "===================================\n",
      "이것이 들어간다 [1, 1, 1]\n",
      "[[0, 0, 0], [2, 0, 0], [4, 0, 0], [0, 1, 1], [1, 1, 1]]\n",
      "===================================\n",
      "이것이 들어간다 [2, 1, 1]\n",
      "[[0, 0, 0], [2, 0, 0], [4, 0, 0], [0, 1, 1], [1, 1, 1], [2, 1, 1]]\n",
      "===================================\n",
      "이것이 들어간다 [3, 1, 1]\n",
      "[[0, 0, 0], [2, 0, 0], [4, 0, 0], [0, 1, 1], [1, 1, 1], [2, 1, 1], [3, 1, 1]]\n",
      "===================================\n",
      "이것이 빠진다 [2, 0, 0]\n",
      "[[0, 0, 0], [4, 0, 0], [0, 1, 1], [1, 1, 1], [2, 1, 1], [3, 1, 1]]\n",
      "===================================\n",
      "이것이 빠진다 [1, 1, 1]\n",
      "[[0, 0, 0], [4, 0, 0], [0, 1, 1], [2, 1, 1], [3, 1, 1]]\n",
      "===================================\n",
      "이것이 들어간다 [2, 2, 0]\n",
      "[[0, 0, 0], [4, 0, 0], [0, 1, 1], [2, 1, 1], [3, 1, 1], [2, 2, 0]]\n",
      "[[0, 0, 0], [0, 1, 1], [2, 1, 1], [2, 2, 0], [3, 1, 1], [4, 0, 0]]\n"
     ]
    }
   ],
   "source": [
    "build_frame = [[0,0,0,1],[2,0,0,1],[4,0,0,1],[0,1,1,1],[1,1,1,1],[2,1,1,1],[3,1,1,1],[2,0,0,0],[1,1,1,0],[2,2,0,1]]\n",
    "n = 5\n",
    "\n",
    "def solution(n, build_frame):\n",
    "    a = []\n",
    "    \n",
    "    for i in range(len(build_frame)) :\n",
    "        if build_frame[i][3] == 1 :\n",
    "            a.append(build_frame[i][:3])\n",
    "            print(\"===================================\")\n",
    "            print(\"이것이 들어간다\", build_frame[i][:3])\n",
    "            print(a)\n",
    "            \n",
    "            if build_frame[2] == 0 :\n",
    "                \n",
    "                if build_frame[1] == 0 or [build_frame[0]-1,build_frame[1],1] in a or [build_frame[0],build_frame[1]-1,0] in a or [build_frame[0],build_frame[1],1] in a or [build_frame[0]-1,build_frame[1],1] in a :\n",
    "                    continue\n",
    "                else :\n",
    "                    a.remove(build_frame[i][:3])\n",
    "                    print(a)\n",
    "                \n",
    "            elif build_frame[2] == 1 :\n",
    "\n",
    "                if [build_frame[0],build_frame[1]-1,0] in a or [build_frame[0]+1,build_frame[1]-1,0] in a or ([build_frame[0]-1,build_frame[1],1] in a and [build_frame[0]+1,build_frame[1],1] in a) :\n",
    "                    continue\n",
    "                else :\n",
    "                    a.remove(build_frame[i][:3])\n",
    "                    print(a)\n",
    "\n",
    "            \n",
    "            \n",
    "                \n",
    "        elif build_frame[i][3] == 0 and build_frame[i][:3] in a:\n",
    "            a.remove(build_frame[i][:3])\n",
    "            print(\"===================================\")\n",
    "            print(\"이것이 빠진다\", build_frame[i][:3])\n",
    "            print(a)\n",
    "            \n",
    "            if build_frame[2] == 0 :\n",
    "                \n",
    "                if build_frame[1] == 0 or [build_frame[0]-1,build_frame[1],1] in a or [build_frame[0],build_frame[1]-1,0] in a or [build_frame[0],build_frame[1],1] in a or [build_frame[0]-1,build_frame[1],1] in a :\n",
    "                    continue\n",
    "                else :\n",
    "                    a.append(build_frame[i][:3])\n",
    "                    print(a)\n",
    "                \n",
    "            elif build_frame[2] == 1 :\n",
    "\n",
    "                if [build_frame[0],build_frame[1]-1,0] in a or [build_frame[0]+1,build_frame[1]-1,0] in a or ([build_frame[0]-1,build_frame[1],1] in a and [build_frame[0]+1,build_frame[1],1] in a) :\n",
    "                    continue\n",
    "                else :\n",
    "                    a.append(build_frame[i][:3])\n",
    "                    \n",
    "            \n",
    "            \n",
    "            \n",
    "    a.sort()        \n",
    "    answer = a\n",
    "    return answer\n",
    "\n",
    "print(solution(n, build_frame))"
   ]
  },
  {
   "cell_type": "code",
   "execution_count": 53,
   "metadata": {
    "scrolled": true
   },
   "outputs": [
    {
     "name": "stdout",
     "output_type": "stream",
     "text": [
      "CBD\n",
      "CB\n",
      "2\n"
     ]
    }
   ],
   "source": [
    "skill = \"CBD\"\n",
    "skill_trees = [\"BACDE\", \"CBADF\", \"AECB\", \"BDA\"]\n",
    "\n",
    "skill_list = list(skill)\n",
    "answer = []\n",
    "total=[]\n",
    "count = 0\n",
    "for i in range(len(skill_trees)):        \n",
    "    a = list(skill_trees[i])\n",
    "    \n",
    "    for j in range(len(a)):\n",
    "        if a[j] in skill_list :\n",
    "            answer.append(a[j])\n",
    "    a = ''.join(answer)\n",
    "    total.append(a)\n",
    "    answer = []\n",
    "\n",
    "count += len(skill_trees) - len(total)\n",
    "for c in range(len(total)):\n",
    "    for d in range(1,len(skill)+1):\n",
    "        if total[c] == skill[0:d] :\n",
    "            print(total[c])\n",
    "            count +=1\n",
    "\n",
    "print(count)            "
   ]
  },
  {
   "cell_type": "code",
   "execution_count": 50,
   "metadata": {},
   "outputs": [
    {
     "name": "stdout",
     "output_type": "stream",
     "text": [
      "CBD\n"
     ]
    }
   ],
   "source": [
    "skill = \"CBD\"\n",
    "print(skill[0:3])"
   ]
  }
 ],
 "metadata": {
  "kernelspec": {
   "display_name": "Python 3",
   "language": "python",
   "name": "python3"
  },
  "language_info": {
   "codemirror_mode": {
    "name": "ipython",
    "version": 3
   },
   "file_extension": ".py",
   "mimetype": "text/x-python",
   "name": "python",
   "nbconvert_exporter": "python",
   "pygments_lexer": "ipython3",
   "version": "3.7.6"
  }
 },
 "nbformat": 4,
 "nbformat_minor": 4
}
