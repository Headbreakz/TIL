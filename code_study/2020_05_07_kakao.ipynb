{
 "cells": [
  {
   "cell_type": "code",
   "execution_count": null,
   "metadata": {},
   "outputs": [],
   "source": [
    "#압축 \n",
    "def solution(msg):\n",
    "    word_list =['A','B','C','D','E','F','G','H','I','J','K','L','M','N','O','P','Q','R','S','T','U','V','W','X','Y','Z']\n",
    "    \n",
    "    status = True\n",
    "    total = True\n",
    "    count = 0\n",
    "    val_count = 0\n",
    "    answer = []\n",
    "    for i in range(len(msg)):\n",
    "        for j in range(len(msg),0,-1):\n",
    "            if msg[i:j] in word_list and status ==True :\n",
    "                answer.append(word_list.index(msg[i:j])+1)\n",
    "                word_list.append(msg[i:j+1])\n",
    "                count += j-i\n",
    "                if j-i > 1:\n",
    "                    val_count = j-i-1\n",
    "                    status = False\n",
    "                if count == len(msg):\n",
    "                    total = False\n",
    "                break\n",
    "            elif status == False :\n",
    "                val_count -= 1\n",
    "                if val_count == 0:\n",
    "                    status = True      \n",
    "                \n",
    "                break\n",
    "        if total == False:\n",
    "            break\n",
    "    \n",
    "    \n",
    "    return answer"
   ]
  }
 ],
 "metadata": {
  "kernelspec": {
   "display_name": "Python 3",
   "language": "python",
   "name": "python3"
  },
  "language_info": {
   "codemirror_mode": {
    "name": "ipython",
    "version": 3
   },
   "file_extension": ".py",
   "mimetype": "text/x-python",
   "name": "python",
   "nbconvert_exporter": "python",
   "pygments_lexer": "ipython3",
   "version": "3.7.6"
  }
 },
 "nbformat": 4,
 "nbformat_minor": 4
}
